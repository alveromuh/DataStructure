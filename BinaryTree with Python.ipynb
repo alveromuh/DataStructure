{
  "nbformat": 4,
  "nbformat_minor": 0,
  "metadata": {
    "colab": {
      "provenance": []
    },
    "kernelspec": {
      "name": "python3",
      "display_name": "Python 3"
    },
    "language_info": {
      "name": "python"
    }
  },
  "cells": [
    {
      "cell_type": "code",
      "execution_count": null,
      "metadata": {
        "id": "_zO8szNtSb3K"
      },
      "outputs": [],
      "source": [
        "import numpy as np\n",
        "import graphviz as gv"
      ]
    },
    {
      "cell_type": "code",
      "source": [
        "class ArrayBinTree:\n",
        "    def __init__(self, dtype, height , emptydata= -9999):\n",
        "        self.dtype = dtype\n",
        "        self.height = height\n",
        "        self.emptydata = emptydata\n",
        "        self.array_size = 2**(height + 1) - 1\n",
        "        self.array = np.empty(self.array_size, dtype = dtype)\n",
        "        for i in range(self.array_size):\n",
        "            self.array[i] = emptydata\n",
        "\n",
        "    def get_root(self):\n",
        "        root_data = self.array[0]\n",
        "        if root_data == self.emptydata:\n",
        "            return None\n",
        "        else:\n",
        "            return root_data\n",
        "\n",
        "    def set_root(self, newdata):\n",
        "        self.array[0] = newdata\n",
        "\n",
        "    def get_data(self, node_idx):\n",
        "        if node_idx < self.array_size:\n",
        "            return self.array[node_idx]\n",
        "        else:\n",
        "            print(\"error get_data: indeks di luar ukuran tree\")\n",
        "            return None\n",
        "\n",
        "    def set_data(self, node_idx, newdata):\n",
        "        if node_idx < self.array_size:\n",
        "            self.array[node_idx] = newdata\n",
        "        else:\n",
        "            print(\"eror set_data: indeks di luar ukuran tree\")\n",
        "\n",
        "    def get_left_child_idx(self, node_idx):\n",
        "        left_idx = 2*node_idx + 1\n",
        "        if left_idx < self.array_size:\n",
        "            return left_idx\n",
        "        else:\n",
        "            return -1\n",
        "\n",
        "    def get_left_child(self, node_idx):\n",
        "        left_idx = self.get_left_child_idx(node_idx)\n",
        "        if left_idx != -1:\n",
        "            data = self.array[left_idx]\n",
        "            if data != self.emptydata:\n",
        "                return data\n",
        "            else:\n",
        "                return None\n",
        "        else:\n",
        "            return None\n",
        "\n",
        "    def get_right_child_idx(self, node_idx):\n",
        "        right_idx = 2*node_idx + 2\n",
        "        if right_idx < self.array_size:\n",
        "            return right_idx\n",
        "        else:\n",
        "            return -1\n",
        "\n",
        "    def get_right_child(self, node_idx):\n",
        "        right_idx = self.get_right_child_idx(node_idx)\n",
        "        if right_idx != -1:\n",
        "            data = self.array[right_idx]\n",
        "            if data != self.emptydata:\n",
        "                return data\n",
        "            else:\n",
        "                return None\n",
        "        else:\n",
        "            return None\n",
        "\n",
        "    def get_parent_idx(self, node_idx):\n",
        "        if node_idx == 0:\n",
        "            return -1\n",
        "        idx = np.floor( (node_idx - 1)/2 )\n",
        "        return idx\n",
        "\n",
        "    # preorder: tengah, kiri, kanan\n",
        "    def get_preorder(self, current = 0, result = None):\n",
        "        is_starting_node = False\n",
        "        if result == None:\n",
        "            is_starting_node = True\n",
        "            result = []\n",
        "        # tengah\n",
        "        current_data = self.array[current]\n",
        "        if current_data != self.emptydata:\n",
        "            result.append(current_data)\n",
        "\n",
        "        #kiri\n",
        "        left_idx = self.get_left_child_idx(current)\n",
        "        if left_idx != -1:\n",
        "            self.get_preorder(current = left_idx, result = result)\n",
        "\n",
        "        #kanan\n",
        "        right_idx = self.get_right_child_idx(current)\n",
        "        if right_idx != -1:\n",
        "            self.get_preorder(current = right_idx, result = result)\n",
        "\n",
        "        if is_starting_node:\n",
        "            return result\n",
        "\n",
        "    #inorder: kiri, tengah, kanan\n",
        "    def get_inorder(self, current = 0, result = None):\n",
        "        is_starting_node = False\n",
        "        if result == None:\n",
        "            is_starting_node = True\n",
        "            result = []\n",
        "\n",
        "        # kiri\n",
        "        left_idx = self.get_left_child_idx(current)\n",
        "        if left_idx != -1:\n",
        "            self.get_inorder(current = left_idx, result = result)\n",
        "\n",
        "        # tengah\n",
        "        current_data = self.array[current]\n",
        "        if current_data != self.emptydata:\n",
        "            result.append(current_data)\n",
        "\n",
        "        #kanan\n",
        "        right_idx = self.get_right_child_idx(current)\n",
        "        if right_idx != -1:\n",
        "            self.get_inorder(current = right_idx, result = result)\n",
        "\n",
        "        if is_starting_node:\n",
        "            return result\n",
        "\n",
        "    #postorder: kiri, kanan, tengah\n",
        "\n",
        "    def get_postorder(self, current = 0, result = None):\n",
        "        is_starting_node = False\n",
        "        if result == None:\n",
        "            is_starting_node = True\n",
        "            result = []\n",
        "\n",
        "        #kiri\n",
        "        left_idx = self.get_left_child_idx(current)\n",
        "        if left_idx != -1:\n",
        "            self.get_postorder(current=left_idx, result = result)\n",
        "\n",
        "        # kanan\n",
        "        right_idx = self.get_right_child_idx(current)\n",
        "        if right_idx != -1:\n",
        "            self.get_postorder(current=right_idx, result = result)\n",
        "\n",
        "        #tengah\n",
        "        current_data = self.array[current]\n",
        "        if current_data != self.emptydata:\n",
        "            result.append(current_data)\n",
        "\n",
        "        if is_starting_node:\n",
        "            return result\n",
        "\n",
        "    def get_digraph_simple(self):\n",
        "        digraph = gv.Digraph()\n",
        "        for idx in range(self.array_size):\n",
        "            data = self.array[idx]\n",
        "            if data != self.emptydata:\n",
        "                digraph.node(\"node\" + str(idx), label = str(data))\n",
        "                left_idx = self.get_left_child_idx(idx)\n",
        "                right_idx = self.get_right_child_idx(idx)\n",
        "                if left_idx != -1:\n",
        "                    digraph.edge(\"node\" + str(idx), \"node\" + str(left_idx))\n",
        "                    if self.array[left_idx] == self.emptydata:\n",
        "                        digraph.node(\"node\" + str(left_idx), label = \"NULL\", shape=\"none\")\n",
        "                if right_idx != -1:\n",
        "                    digraph.edge(\"node\" + str(idx), \"node\" + str(right_idx))\n",
        "                    if self.array[right_idx] == self.emptydata:\n",
        "                        digraph.node(\"node\" + str(right_idx), label = \"NULL\", shape=\"none\")\n",
        "        return digraph"
      ],
      "metadata": {
        "id": "YyGH7DYWSxyY"
      },
      "execution_count": null,
      "outputs": []
    },
    {
      "cell_type": "code",
      "source": [
        "arraybintree = ArrayBinTree(int, 2)"
      ],
      "metadata": {
        "id": "asGgqwRdnfQt"
      },
      "execution_count": null,
      "outputs": []
    },
    {
      "cell_type": "code",
      "source": [
        "print(arraybintree.array)"
      ],
      "metadata": {
        "colab": {
          "base_uri": "https://localhost:8080/"
        },
        "id": "eMw9MoNHnqjw",
        "outputId": "5ff95906-b90a-4b60-b8c4-017cdc3bca6b"
      },
      "execution_count": null,
      "outputs": [
        {
          "output_type": "stream",
          "name": "stdout",
          "text": [
            "[-9999 -9999 -9999 -9999 -9999 -9999 -9999]\n"
          ]
        }
      ]
    },
    {
      "cell_type": "code",
      "source": [
        "arraybintree.set_root(10)"
      ],
      "metadata": {
        "id": "2IlgPT3snvdI"
      },
      "execution_count": null,
      "outputs": []
    },
    {
      "cell_type": "code",
      "source": [
        "print(arraybintree.array)"
      ],
      "metadata": {
        "colab": {
          "base_uri": "https://localhost:8080/"
        },
        "id": "XvKU6K5Gn3OD",
        "outputId": "40104b27-d77c-4e04-976c-2a945cd73f2a"
      },
      "execution_count": null,
      "outputs": [
        {
          "output_type": "stream",
          "name": "stdout",
          "text": [
            "[   10 -9999 -9999 -9999 -9999 -9999 -9999]\n"
          ]
        }
      ]
    },
    {
      "cell_type": "code",
      "source": [
        "display(arraybintree.get_digraph_simple())"
      ],
      "metadata": {
        "colab": {
          "base_uri": "https://localhost:8080/",
          "height": 176
        },
        "id": "3BVNyg0jn4lj",
        "outputId": "a58b1391-8e97-45dd-c56d-830e777351b8"
      },
      "execution_count": null,
      "outputs": [
        {
          "output_type": "display_data",
          "data": {
            "image/svg+xml": "<?xml version=\"1.0\" encoding=\"UTF-8\" standalone=\"no\"?>\n<!DOCTYPE svg PUBLIC \"-//W3C//DTD SVG 1.1//EN\"\n \"http://www.w3.org/Graphics/SVG/1.1/DTD/svg11.dtd\">\n<!-- Generated by graphviz version 2.43.0 (0)\n -->\n<!-- Title: %3 Pages: 1 -->\n<svg width=\"134pt\" height=\"116pt\"\n viewBox=\"0.00 0.00 134.00 116.00\" xmlns=\"http://www.w3.org/2000/svg\" xmlns:xlink=\"http://www.w3.org/1999/xlink\">\n<g id=\"graph0\" class=\"graph\" transform=\"scale(1 1) rotate(0) translate(4 112)\">\n<title>%3</title>\n<polygon fill=\"white\" stroke=\"transparent\" points=\"-4,4 -4,-112 130,-112 130,4 -4,4\"/>\n<!-- node0 -->\n<g id=\"node1\" class=\"node\">\n<title>node0</title>\n<ellipse fill=\"none\" stroke=\"black\" cx=\"63\" cy=\"-90\" rx=\"27\" ry=\"18\"/>\n<text text-anchor=\"middle\" x=\"63\" y=\"-86.3\" font-family=\"Times,serif\" font-size=\"14.00\">10</text>\n</g>\n<!-- node1 -->\n<g id=\"node2\" class=\"node\">\n<title>node1</title>\n<text text-anchor=\"middle\" x=\"27\" y=\"-14.3\" font-family=\"Times,serif\" font-size=\"14.00\">NULL</text>\n</g>\n<!-- node0&#45;&gt;node1 -->\n<g id=\"edge1\" class=\"edge\">\n<title>node0&#45;&gt;node1</title>\n<path fill=\"none\" stroke=\"black\" d=\"M54.65,-72.76C50.46,-64.61 45.27,-54.53 40.53,-45.31\"/>\n<polygon fill=\"black\" stroke=\"black\" points=\"43.49,-43.42 35.81,-36.12 37.27,-46.62 43.49,-43.42\"/>\n</g>\n<!-- node2 -->\n<g id=\"node3\" class=\"node\">\n<title>node2</title>\n<text text-anchor=\"middle\" x=\"99\" y=\"-14.3\" font-family=\"Times,serif\" font-size=\"14.00\">NULL</text>\n</g>\n<!-- node0&#45;&gt;node2 -->\n<g id=\"edge2\" class=\"edge\">\n<title>node0&#45;&gt;node2</title>\n<path fill=\"none\" stroke=\"black\" d=\"M71.35,-72.76C75.54,-64.61 80.73,-54.53 85.47,-45.31\"/>\n<polygon fill=\"black\" stroke=\"black\" points=\"88.73,-46.62 90.19,-36.12 82.51,-43.42 88.73,-46.62\"/>\n</g>\n</g>\n</svg>\n",
            "text/plain": [
              "<graphviz.graphs.Digraph at 0x7b64ec7130a0>"
            ]
          },
          "metadata": {}
        }
      ]
    },
    {
      "cell_type": "code",
      "source": [
        "arraybintree.set_data(\n",
        "    arraybintree.get_left_child_idx(0),\n",
        "    4\n",
        ")"
      ],
      "metadata": {
        "id": "j8Ky_ZMOoBnT"
      },
      "execution_count": null,
      "outputs": []
    },
    {
      "cell_type": "code",
      "source": [
        "print(arraybintree.array)"
      ],
      "metadata": {
        "colab": {
          "base_uri": "https://localhost:8080/"
        },
        "id": "PtDSryqgo2IA",
        "outputId": "000f61f6-38e8-4e54-eb2b-8757b372576c"
      },
      "execution_count": null,
      "outputs": [
        {
          "output_type": "stream",
          "name": "stdout",
          "text": [
            "[   10     4 -9999 -9999 -9999 -9999 -9999]\n"
          ]
        }
      ]
    },
    {
      "cell_type": "code",
      "source": [
        "display(arraybintree.get_digraph_simple())"
      ],
      "metadata": {
        "colab": {
          "base_uri": "https://localhost:8080/",
          "height": 272
        },
        "id": "gRjLXZqEo4ms",
        "outputId": "3f2b3cfb-2879-4a05-dd6a-a60a2f8985a8"
      },
      "execution_count": null,
      "outputs": [
        {
          "output_type": "display_data",
          "data": {
            "image/svg+xml": "<?xml version=\"1.0\" encoding=\"UTF-8\" standalone=\"no\"?>\n<!DOCTYPE svg PUBLIC \"-//W3C//DTD SVG 1.1//EN\"\n \"http://www.w3.org/Graphics/SVG/1.1/DTD/svg11.dtd\">\n<!-- Generated by graphviz version 2.43.0 (0)\n -->\n<!-- Title: %3 Pages: 1 -->\n<svg width=\"170pt\" height=\"188pt\"\n viewBox=\"0.00 0.00 170.00 188.00\" xmlns=\"http://www.w3.org/2000/svg\" xmlns:xlink=\"http://www.w3.org/1999/xlink\">\n<g id=\"graph0\" class=\"graph\" transform=\"scale(1 1) rotate(0) translate(4 184)\">\n<title>%3</title>\n<polygon fill=\"white\" stroke=\"transparent\" points=\"-4,4 -4,-184 166,-184 166,4 -4,4\"/>\n<!-- node0 -->\n<g id=\"node1\" class=\"node\">\n<title>node0</title>\n<ellipse fill=\"none\" stroke=\"black\" cx=\"99\" cy=\"-162\" rx=\"27\" ry=\"18\"/>\n<text text-anchor=\"middle\" x=\"99\" y=\"-158.3\" font-family=\"Times,serif\" font-size=\"14.00\">10</text>\n</g>\n<!-- node1 -->\n<g id=\"node2\" class=\"node\">\n<title>node1</title>\n<ellipse fill=\"none\" stroke=\"black\" cx=\"63\" cy=\"-90\" rx=\"27\" ry=\"18\"/>\n<text text-anchor=\"middle\" x=\"63\" y=\"-86.3\" font-family=\"Times,serif\" font-size=\"14.00\">4</text>\n</g>\n<!-- node0&#45;&gt;node1 -->\n<g id=\"edge1\" class=\"edge\">\n<title>node0&#45;&gt;node1</title>\n<path fill=\"none\" stroke=\"black\" d=\"M90.65,-144.76C86.29,-136.28 80.85,-125.71 75.96,-116.2\"/>\n<polygon fill=\"black\" stroke=\"black\" points=\"78.99,-114.44 71.3,-107.15 72.77,-117.64 78.99,-114.44\"/>\n</g>\n<!-- node2 -->\n<g id=\"node3\" class=\"node\">\n<title>node2</title>\n<text text-anchor=\"middle\" x=\"135\" y=\"-86.3\" font-family=\"Times,serif\" font-size=\"14.00\">NULL</text>\n</g>\n<!-- node0&#45;&gt;node2 -->\n<g id=\"edge2\" class=\"edge\">\n<title>node0&#45;&gt;node2</title>\n<path fill=\"none\" stroke=\"black\" d=\"M107.35,-144.76C111.54,-136.61 116.73,-126.53 121.47,-117.31\"/>\n<polygon fill=\"black\" stroke=\"black\" points=\"124.73,-118.62 126.19,-108.12 118.51,-115.42 124.73,-118.62\"/>\n</g>\n<!-- node3 -->\n<g id=\"node4\" class=\"node\">\n<title>node3</title>\n<text text-anchor=\"middle\" x=\"27\" y=\"-14.3\" font-family=\"Times,serif\" font-size=\"14.00\">NULL</text>\n</g>\n<!-- node1&#45;&gt;node3 -->\n<g id=\"edge3\" class=\"edge\">\n<title>node1&#45;&gt;node3</title>\n<path fill=\"none\" stroke=\"black\" d=\"M54.65,-72.76C50.46,-64.61 45.27,-54.53 40.53,-45.31\"/>\n<polygon fill=\"black\" stroke=\"black\" points=\"43.49,-43.42 35.81,-36.12 37.27,-46.62 43.49,-43.42\"/>\n</g>\n<!-- node4 -->\n<g id=\"node5\" class=\"node\">\n<title>node4</title>\n<text text-anchor=\"middle\" x=\"99\" y=\"-14.3\" font-family=\"Times,serif\" font-size=\"14.00\">NULL</text>\n</g>\n<!-- node1&#45;&gt;node4 -->\n<g id=\"edge4\" class=\"edge\">\n<title>node1&#45;&gt;node4</title>\n<path fill=\"none\" stroke=\"black\" d=\"M71.35,-72.76C75.54,-64.61 80.73,-54.53 85.47,-45.31\"/>\n<polygon fill=\"black\" stroke=\"black\" points=\"88.73,-46.62 90.19,-36.12 82.51,-43.42 88.73,-46.62\"/>\n</g>\n</g>\n</svg>\n",
            "text/plain": [
              "<graphviz.graphs.Digraph at 0x7b64ec7135b0>"
            ]
          },
          "metadata": {}
        }
      ]
    },
    {
      "cell_type": "code",
      "source": [
        "arraybintree.set_data(\n",
        "    arraybintree.get_right_child_idx(0),\n",
        "    9\n",
        ")"
      ],
      "metadata": {
        "id": "X-5goETVo7gp"
      },
      "execution_count": null,
      "outputs": []
    },
    {
      "cell_type": "code",
      "source": [
        "display(arraybintree.get_digraph_simple())"
      ],
      "metadata": {
        "colab": {
          "base_uri": "https://localhost:8080/",
          "height": 272
        },
        "id": "W5-5S713pLqc",
        "outputId": "796db496-2fdf-4f6d-85db-ad4088846e73"
      },
      "execution_count": null,
      "outputs": [
        {
          "output_type": "display_data",
          "data": {
            "image/svg+xml": "<?xml version=\"1.0\" encoding=\"UTF-8\" standalone=\"no\"?>\n<!DOCTYPE svg PUBLIC \"-//W3C//DTD SVG 1.1//EN\"\n \"http://www.w3.org/Graphics/SVG/1.1/DTD/svg11.dtd\">\n<!-- Generated by graphviz version 2.43.0 (0)\n -->\n<!-- Title: %3 Pages: 1 -->\n<svg width=\"278pt\" height=\"188pt\"\n viewBox=\"0.00 0.00 278.00 188.00\" xmlns=\"http://www.w3.org/2000/svg\" xmlns:xlink=\"http://www.w3.org/1999/xlink\">\n<g id=\"graph0\" class=\"graph\" transform=\"scale(1 1) rotate(0) translate(4 184)\">\n<title>%3</title>\n<polygon fill=\"white\" stroke=\"transparent\" points=\"-4,4 -4,-184 274,-184 274,4 -4,4\"/>\n<!-- node0 -->\n<g id=\"node1\" class=\"node\">\n<title>node0</title>\n<ellipse fill=\"none\" stroke=\"black\" cx=\"135\" cy=\"-162\" rx=\"27\" ry=\"18\"/>\n<text text-anchor=\"middle\" x=\"135\" y=\"-158.3\" font-family=\"Times,serif\" font-size=\"14.00\">10</text>\n</g>\n<!-- node1 -->\n<g id=\"node2\" class=\"node\">\n<title>node1</title>\n<ellipse fill=\"none\" stroke=\"black\" cx=\"99\" cy=\"-90\" rx=\"27\" ry=\"18\"/>\n<text text-anchor=\"middle\" x=\"99\" y=\"-86.3\" font-family=\"Times,serif\" font-size=\"14.00\">4</text>\n</g>\n<!-- node0&#45;&gt;node1 -->\n<g id=\"edge1\" class=\"edge\">\n<title>node0&#45;&gt;node1</title>\n<path fill=\"none\" stroke=\"black\" d=\"M126.65,-144.76C122.29,-136.28 116.85,-125.71 111.96,-116.2\"/>\n<polygon fill=\"black\" stroke=\"black\" points=\"114.99,-114.44 107.3,-107.15 108.77,-117.64 114.99,-114.44\"/>\n</g>\n<!-- node2 -->\n<g id=\"node3\" class=\"node\">\n<title>node2</title>\n<ellipse fill=\"none\" stroke=\"black\" cx=\"171\" cy=\"-90\" rx=\"27\" ry=\"18\"/>\n<text text-anchor=\"middle\" x=\"171\" y=\"-86.3\" font-family=\"Times,serif\" font-size=\"14.00\">9</text>\n</g>\n<!-- node0&#45;&gt;node2 -->\n<g id=\"edge2\" class=\"edge\">\n<title>node0&#45;&gt;node2</title>\n<path fill=\"none\" stroke=\"black\" d=\"M143.35,-144.76C147.71,-136.28 153.15,-125.71 158.04,-116.2\"/>\n<polygon fill=\"black\" stroke=\"black\" points=\"161.23,-117.64 162.7,-107.15 155.01,-114.44 161.23,-117.64\"/>\n</g>\n<!-- node3 -->\n<g id=\"node4\" class=\"node\">\n<title>node3</title>\n<text text-anchor=\"middle\" x=\"27\" y=\"-14.3\" font-family=\"Times,serif\" font-size=\"14.00\">NULL</text>\n</g>\n<!-- node1&#45;&gt;node3 -->\n<g id=\"edge3\" class=\"edge\">\n<title>node1&#45;&gt;node3</title>\n<path fill=\"none\" stroke=\"black\" d=\"M84.43,-74.83C75.08,-65.75 62.7,-53.71 51.83,-43.14\"/>\n<polygon fill=\"black\" stroke=\"black\" points=\"54.21,-40.57 44.6,-36.11 49.33,-45.59 54.21,-40.57\"/>\n</g>\n<!-- node4 -->\n<g id=\"node5\" class=\"node\">\n<title>node4</title>\n<text text-anchor=\"middle\" x=\"99\" y=\"-14.3\" font-family=\"Times,serif\" font-size=\"14.00\">NULL</text>\n</g>\n<!-- node1&#45;&gt;node4 -->\n<g id=\"edge4\" class=\"edge\">\n<title>node1&#45;&gt;node4</title>\n<path fill=\"none\" stroke=\"black\" d=\"M99,-71.7C99,-63.98 99,-54.71 99,-46.11\"/>\n<polygon fill=\"black\" stroke=\"black\" points=\"102.5,-46.1 99,-36.1 95.5,-46.1 102.5,-46.1\"/>\n</g>\n<!-- node5 -->\n<g id=\"node6\" class=\"node\">\n<title>node5</title>\n<text text-anchor=\"middle\" x=\"171\" y=\"-14.3\" font-family=\"Times,serif\" font-size=\"14.00\">NULL</text>\n</g>\n<!-- node2&#45;&gt;node5 -->\n<g id=\"edge5\" class=\"edge\">\n<title>node2&#45;&gt;node5</title>\n<path fill=\"none\" stroke=\"black\" d=\"M171,-71.7C171,-63.98 171,-54.71 171,-46.11\"/>\n<polygon fill=\"black\" stroke=\"black\" points=\"174.5,-46.1 171,-36.1 167.5,-46.1 174.5,-46.1\"/>\n</g>\n<!-- node6 -->\n<g id=\"node7\" class=\"node\">\n<title>node6</title>\n<text text-anchor=\"middle\" x=\"243\" y=\"-14.3\" font-family=\"Times,serif\" font-size=\"14.00\">NULL</text>\n</g>\n<!-- node2&#45;&gt;node6 -->\n<g id=\"edge6\" class=\"edge\">\n<title>node2&#45;&gt;node6</title>\n<path fill=\"none\" stroke=\"black\" d=\"M185.57,-74.83C194.92,-65.75 207.3,-53.71 218.17,-43.14\"/>\n<polygon fill=\"black\" stroke=\"black\" points=\"220.67,-45.59 225.4,-36.11 215.79,-40.57 220.67,-45.59\"/>\n</g>\n</g>\n</svg>\n",
            "text/plain": [
              "<graphviz.graphs.Digraph at 0x7b64ec711180>"
            ]
          },
          "metadata": {}
        }
      ]
    },
    {
      "cell_type": "code",
      "source": [
        "arraybintree.set_data(\n",
        "    arraybintree.get_right_child_idx(arraybintree.get_left_child_idx(0)),\n",
        "    37\n",
        ")"
      ],
      "metadata": {
        "id": "tpCTgU-3pNrl"
      },
      "execution_count": null,
      "outputs": []
    },
    {
      "cell_type": "code",
      "source": [
        "print(arraybintree.array)"
      ],
      "metadata": {
        "colab": {
          "base_uri": "https://localhost:8080/"
        },
        "id": "PNaRbKMypp9N",
        "outputId": "cb326470-cd40-495c-cf4a-657bc86a944c"
      },
      "execution_count": null,
      "outputs": [
        {
          "output_type": "stream",
          "name": "stdout",
          "text": [
            "[   10     4     9 -9999    37 -9999 -9999]\n"
          ]
        }
      ]
    },
    {
      "cell_type": "code",
      "source": [
        "display(arraybintree.get_digraph_simple())"
      ],
      "metadata": {
        "colab": {
          "base_uri": "https://localhost:8080/",
          "height": 272
        },
        "id": "jGUGXRKepvY3",
        "outputId": "32825772-e54f-460c-9684-bf708e5e7a67"
      },
      "execution_count": null,
      "outputs": [
        {
          "output_type": "display_data",
          "data": {
            "image/svg+xml": "<?xml version=\"1.0\" encoding=\"UTF-8\" standalone=\"no\"?>\n<!DOCTYPE svg PUBLIC \"-//W3C//DTD SVG 1.1//EN\"\n \"http://www.w3.org/Graphics/SVG/1.1/DTD/svg11.dtd\">\n<!-- Generated by graphviz version 2.43.0 (0)\n -->\n<!-- Title: %3 Pages: 1 -->\n<svg width=\"278pt\" height=\"188pt\"\n viewBox=\"0.00 0.00 278.00 188.00\" xmlns=\"http://www.w3.org/2000/svg\" xmlns:xlink=\"http://www.w3.org/1999/xlink\">\n<g id=\"graph0\" class=\"graph\" transform=\"scale(1 1) rotate(0) translate(4 184)\">\n<title>%3</title>\n<polygon fill=\"white\" stroke=\"transparent\" points=\"-4,4 -4,-184 274,-184 274,4 -4,4\"/>\n<!-- node0 -->\n<g id=\"node1\" class=\"node\">\n<title>node0</title>\n<ellipse fill=\"none\" stroke=\"black\" cx=\"135\" cy=\"-162\" rx=\"27\" ry=\"18\"/>\n<text text-anchor=\"middle\" x=\"135\" y=\"-158.3\" font-family=\"Times,serif\" font-size=\"14.00\">10</text>\n</g>\n<!-- node1 -->\n<g id=\"node2\" class=\"node\">\n<title>node1</title>\n<ellipse fill=\"none\" stroke=\"black\" cx=\"99\" cy=\"-90\" rx=\"27\" ry=\"18\"/>\n<text text-anchor=\"middle\" x=\"99\" y=\"-86.3\" font-family=\"Times,serif\" font-size=\"14.00\">4</text>\n</g>\n<!-- node0&#45;&gt;node1 -->\n<g id=\"edge1\" class=\"edge\">\n<title>node0&#45;&gt;node1</title>\n<path fill=\"none\" stroke=\"black\" d=\"M126.65,-144.76C122.29,-136.28 116.85,-125.71 111.96,-116.2\"/>\n<polygon fill=\"black\" stroke=\"black\" points=\"114.99,-114.44 107.3,-107.15 108.77,-117.64 114.99,-114.44\"/>\n</g>\n<!-- node2 -->\n<g id=\"node3\" class=\"node\">\n<title>node2</title>\n<ellipse fill=\"none\" stroke=\"black\" cx=\"171\" cy=\"-90\" rx=\"27\" ry=\"18\"/>\n<text text-anchor=\"middle\" x=\"171\" y=\"-86.3\" font-family=\"Times,serif\" font-size=\"14.00\">9</text>\n</g>\n<!-- node0&#45;&gt;node2 -->\n<g id=\"edge2\" class=\"edge\">\n<title>node0&#45;&gt;node2</title>\n<path fill=\"none\" stroke=\"black\" d=\"M143.35,-144.76C147.71,-136.28 153.15,-125.71 158.04,-116.2\"/>\n<polygon fill=\"black\" stroke=\"black\" points=\"161.23,-117.64 162.7,-107.15 155.01,-114.44 161.23,-117.64\"/>\n</g>\n<!-- node3 -->\n<g id=\"node4\" class=\"node\">\n<title>node3</title>\n<text text-anchor=\"middle\" x=\"27\" y=\"-14.3\" font-family=\"Times,serif\" font-size=\"14.00\">NULL</text>\n</g>\n<!-- node1&#45;&gt;node3 -->\n<g id=\"edge3\" class=\"edge\">\n<title>node1&#45;&gt;node3</title>\n<path fill=\"none\" stroke=\"black\" d=\"M84.43,-74.83C75.08,-65.75 62.7,-53.71 51.83,-43.14\"/>\n<polygon fill=\"black\" stroke=\"black\" points=\"54.21,-40.57 44.6,-36.11 49.33,-45.59 54.21,-40.57\"/>\n</g>\n<!-- node4 -->\n<g id=\"node5\" class=\"node\">\n<title>node4</title>\n<ellipse fill=\"none\" stroke=\"black\" cx=\"99\" cy=\"-18\" rx=\"27\" ry=\"18\"/>\n<text text-anchor=\"middle\" x=\"99\" y=\"-14.3\" font-family=\"Times,serif\" font-size=\"14.00\">37</text>\n</g>\n<!-- node1&#45;&gt;node4 -->\n<g id=\"edge4\" class=\"edge\">\n<title>node1&#45;&gt;node4</title>\n<path fill=\"none\" stroke=\"black\" d=\"M99,-71.7C99,-63.98 99,-54.71 99,-46.11\"/>\n<polygon fill=\"black\" stroke=\"black\" points=\"102.5,-46.1 99,-36.1 95.5,-46.1 102.5,-46.1\"/>\n</g>\n<!-- node5 -->\n<g id=\"node6\" class=\"node\">\n<title>node5</title>\n<text text-anchor=\"middle\" x=\"171\" y=\"-14.3\" font-family=\"Times,serif\" font-size=\"14.00\">NULL</text>\n</g>\n<!-- node2&#45;&gt;node5 -->\n<g id=\"edge5\" class=\"edge\">\n<title>node2&#45;&gt;node5</title>\n<path fill=\"none\" stroke=\"black\" d=\"M171,-71.7C171,-63.98 171,-54.71 171,-46.11\"/>\n<polygon fill=\"black\" stroke=\"black\" points=\"174.5,-46.1 171,-36.1 167.5,-46.1 174.5,-46.1\"/>\n</g>\n<!-- node6 -->\n<g id=\"node7\" class=\"node\">\n<title>node6</title>\n<text text-anchor=\"middle\" x=\"243\" y=\"-14.3\" font-family=\"Times,serif\" font-size=\"14.00\">NULL</text>\n</g>\n<!-- node2&#45;&gt;node6 -->\n<g id=\"edge6\" class=\"edge\">\n<title>node2&#45;&gt;node6</title>\n<path fill=\"none\" stroke=\"black\" d=\"M185.57,-74.83C194.92,-65.75 207.3,-53.71 218.17,-43.14\"/>\n<polygon fill=\"black\" stroke=\"black\" points=\"220.67,-45.59 225.4,-36.11 215.79,-40.57 220.67,-45.59\"/>\n</g>\n</g>\n</svg>\n",
            "text/plain": [
              "<graphviz.graphs.Digraph at 0x7b64ec712ec0>"
            ]
          },
          "metadata": {}
        }
      ]
    },
    {
      "cell_type": "code",
      "source": [
        "arraybintree.array[5] = 89\n",
        "arraybintree.array[6] = 26"
      ],
      "metadata": {
        "id": "kdCrxQkqpx0b"
      },
      "execution_count": null,
      "outputs": []
    },
    {
      "cell_type": "code",
      "source": [
        "print(arraybintree.array)"
      ],
      "metadata": {
        "colab": {
          "base_uri": "https://localhost:8080/"
        },
        "id": "nsS0I85xqBwr",
        "outputId": "86dfddbb-3bb8-4ff8-c42b-478d2ea07a4d"
      },
      "execution_count": null,
      "outputs": [
        {
          "output_type": "stream",
          "name": "stdout",
          "text": [
            "[   10     4     9 -9999    37    89    26]\n"
          ]
        }
      ]
    },
    {
      "cell_type": "code",
      "source": [
        "display(arraybintree.get_digraph_simple())"
      ],
      "metadata": {
        "colab": {
          "base_uri": "https://localhost:8080/",
          "height": 272
        },
        "id": "nDrjCZvJqD1f",
        "outputId": "7459f706-78fd-4825-e116-6a749757e304"
      },
      "execution_count": null,
      "outputs": [
        {
          "output_type": "display_data",
          "data": {
            "image/svg+xml": "<?xml version=\"1.0\" encoding=\"UTF-8\" standalone=\"no\"?>\n<!DOCTYPE svg PUBLIC \"-//W3C//DTD SVG 1.1//EN\"\n \"http://www.w3.org/Graphics/SVG/1.1/DTD/svg11.dtd\">\n<!-- Generated by graphviz version 2.43.0 (0)\n -->\n<!-- Title: %3 Pages: 1 -->\n<svg width=\"278pt\" height=\"188pt\"\n viewBox=\"0.00 0.00 278.00 188.00\" xmlns=\"http://www.w3.org/2000/svg\" xmlns:xlink=\"http://www.w3.org/1999/xlink\">\n<g id=\"graph0\" class=\"graph\" transform=\"scale(1 1) rotate(0) translate(4 184)\">\n<title>%3</title>\n<polygon fill=\"white\" stroke=\"transparent\" points=\"-4,4 -4,-184 274,-184 274,4 -4,4\"/>\n<!-- node0 -->\n<g id=\"node1\" class=\"node\">\n<title>node0</title>\n<ellipse fill=\"none\" stroke=\"black\" cx=\"135\" cy=\"-162\" rx=\"27\" ry=\"18\"/>\n<text text-anchor=\"middle\" x=\"135\" y=\"-158.3\" font-family=\"Times,serif\" font-size=\"14.00\">10</text>\n</g>\n<!-- node1 -->\n<g id=\"node2\" class=\"node\">\n<title>node1</title>\n<ellipse fill=\"none\" stroke=\"black\" cx=\"99\" cy=\"-90\" rx=\"27\" ry=\"18\"/>\n<text text-anchor=\"middle\" x=\"99\" y=\"-86.3\" font-family=\"Times,serif\" font-size=\"14.00\">4</text>\n</g>\n<!-- node0&#45;&gt;node1 -->\n<g id=\"edge1\" class=\"edge\">\n<title>node0&#45;&gt;node1</title>\n<path fill=\"none\" stroke=\"black\" d=\"M126.65,-144.76C122.29,-136.28 116.85,-125.71 111.96,-116.2\"/>\n<polygon fill=\"black\" stroke=\"black\" points=\"114.99,-114.44 107.3,-107.15 108.77,-117.64 114.99,-114.44\"/>\n</g>\n<!-- node2 -->\n<g id=\"node3\" class=\"node\">\n<title>node2</title>\n<ellipse fill=\"none\" stroke=\"black\" cx=\"171\" cy=\"-90\" rx=\"27\" ry=\"18\"/>\n<text text-anchor=\"middle\" x=\"171\" y=\"-86.3\" font-family=\"Times,serif\" font-size=\"14.00\">9</text>\n</g>\n<!-- node0&#45;&gt;node2 -->\n<g id=\"edge2\" class=\"edge\">\n<title>node0&#45;&gt;node2</title>\n<path fill=\"none\" stroke=\"black\" d=\"M143.35,-144.76C147.71,-136.28 153.15,-125.71 158.04,-116.2\"/>\n<polygon fill=\"black\" stroke=\"black\" points=\"161.23,-117.64 162.7,-107.15 155.01,-114.44 161.23,-117.64\"/>\n</g>\n<!-- node3 -->\n<g id=\"node4\" class=\"node\">\n<title>node3</title>\n<text text-anchor=\"middle\" x=\"27\" y=\"-14.3\" font-family=\"Times,serif\" font-size=\"14.00\">NULL</text>\n</g>\n<!-- node1&#45;&gt;node3 -->\n<g id=\"edge3\" class=\"edge\">\n<title>node1&#45;&gt;node3</title>\n<path fill=\"none\" stroke=\"black\" d=\"M84.43,-74.83C75.08,-65.75 62.7,-53.71 51.83,-43.14\"/>\n<polygon fill=\"black\" stroke=\"black\" points=\"54.21,-40.57 44.6,-36.11 49.33,-45.59 54.21,-40.57\"/>\n</g>\n<!-- node4 -->\n<g id=\"node5\" class=\"node\">\n<title>node4</title>\n<ellipse fill=\"none\" stroke=\"black\" cx=\"99\" cy=\"-18\" rx=\"27\" ry=\"18\"/>\n<text text-anchor=\"middle\" x=\"99\" y=\"-14.3\" font-family=\"Times,serif\" font-size=\"14.00\">37</text>\n</g>\n<!-- node1&#45;&gt;node4 -->\n<g id=\"edge4\" class=\"edge\">\n<title>node1&#45;&gt;node4</title>\n<path fill=\"none\" stroke=\"black\" d=\"M99,-71.7C99,-63.98 99,-54.71 99,-46.11\"/>\n<polygon fill=\"black\" stroke=\"black\" points=\"102.5,-46.1 99,-36.1 95.5,-46.1 102.5,-46.1\"/>\n</g>\n<!-- node5 -->\n<g id=\"node6\" class=\"node\">\n<title>node5</title>\n<ellipse fill=\"none\" stroke=\"black\" cx=\"171\" cy=\"-18\" rx=\"27\" ry=\"18\"/>\n<text text-anchor=\"middle\" x=\"171\" y=\"-14.3\" font-family=\"Times,serif\" font-size=\"14.00\">89</text>\n</g>\n<!-- node2&#45;&gt;node5 -->\n<g id=\"edge5\" class=\"edge\">\n<title>node2&#45;&gt;node5</title>\n<path fill=\"none\" stroke=\"black\" d=\"M171,-71.7C171,-63.98 171,-54.71 171,-46.11\"/>\n<polygon fill=\"black\" stroke=\"black\" points=\"174.5,-46.1 171,-36.1 167.5,-46.1 174.5,-46.1\"/>\n</g>\n<!-- node6 -->\n<g id=\"node7\" class=\"node\">\n<title>node6</title>\n<ellipse fill=\"none\" stroke=\"black\" cx=\"243\" cy=\"-18\" rx=\"27\" ry=\"18\"/>\n<text text-anchor=\"middle\" x=\"243\" y=\"-14.3\" font-family=\"Times,serif\" font-size=\"14.00\">26</text>\n</g>\n<!-- node2&#45;&gt;node6 -->\n<g id=\"edge6\" class=\"edge\">\n<title>node2&#45;&gt;node6</title>\n<path fill=\"none\" stroke=\"black\" d=\"M185.57,-74.83C195.75,-64.94 209.52,-51.55 221.03,-40.36\"/>\n<polygon fill=\"black\" stroke=\"black\" points=\"223.47,-42.87 228.2,-33.38 218.59,-37.85 223.47,-42.87\"/>\n</g>\n</g>\n</svg>\n",
            "text/plain": [
              "<graphviz.graphs.Digraph at 0x7b64ec713dc0>"
            ]
          },
          "metadata": {}
        }
      ]
    },
    {
      "cell_type": "code",
      "source": [
        "arraybintree.array[3] = 90"
      ],
      "metadata": {
        "id": "GO38wmAgqGyN"
      },
      "execution_count": null,
      "outputs": []
    },
    {
      "cell_type": "code",
      "source": [
        "display(arraybintree.get_digraph_simple())"
      ],
      "metadata": {
        "colab": {
          "base_uri": "https://localhost:8080/",
          "height": 272
        },
        "id": "eY_RujRAqRqb",
        "outputId": "a87f8083-a557-44bd-cdf8-99387ded9ee1"
      },
      "execution_count": null,
      "outputs": [
        {
          "output_type": "display_data",
          "data": {
            "image/svg+xml": "<?xml version=\"1.0\" encoding=\"UTF-8\" standalone=\"no\"?>\n<!DOCTYPE svg PUBLIC \"-//W3C//DTD SVG 1.1//EN\"\n \"http://www.w3.org/Graphics/SVG/1.1/DTD/svg11.dtd\">\n<!-- Generated by graphviz version 2.43.0 (0)\n -->\n<!-- Title: %3 Pages: 1 -->\n<svg width=\"278pt\" height=\"188pt\"\n viewBox=\"0.00 0.00 278.00 188.00\" xmlns=\"http://www.w3.org/2000/svg\" xmlns:xlink=\"http://www.w3.org/1999/xlink\">\n<g id=\"graph0\" class=\"graph\" transform=\"scale(1 1) rotate(0) translate(4 184)\">\n<title>%3</title>\n<polygon fill=\"white\" stroke=\"transparent\" points=\"-4,4 -4,-184 274,-184 274,4 -4,4\"/>\n<!-- node0 -->\n<g id=\"node1\" class=\"node\">\n<title>node0</title>\n<ellipse fill=\"none\" stroke=\"black\" cx=\"135\" cy=\"-162\" rx=\"27\" ry=\"18\"/>\n<text text-anchor=\"middle\" x=\"135\" y=\"-158.3\" font-family=\"Times,serif\" font-size=\"14.00\">10</text>\n</g>\n<!-- node1 -->\n<g id=\"node2\" class=\"node\">\n<title>node1</title>\n<ellipse fill=\"none\" stroke=\"black\" cx=\"99\" cy=\"-90\" rx=\"27\" ry=\"18\"/>\n<text text-anchor=\"middle\" x=\"99\" y=\"-86.3\" font-family=\"Times,serif\" font-size=\"14.00\">4</text>\n</g>\n<!-- node0&#45;&gt;node1 -->\n<g id=\"edge1\" class=\"edge\">\n<title>node0&#45;&gt;node1</title>\n<path fill=\"none\" stroke=\"black\" d=\"M126.65,-144.76C122.29,-136.28 116.85,-125.71 111.96,-116.2\"/>\n<polygon fill=\"black\" stroke=\"black\" points=\"114.99,-114.44 107.3,-107.15 108.77,-117.64 114.99,-114.44\"/>\n</g>\n<!-- node2 -->\n<g id=\"node3\" class=\"node\">\n<title>node2</title>\n<ellipse fill=\"none\" stroke=\"black\" cx=\"171\" cy=\"-90\" rx=\"27\" ry=\"18\"/>\n<text text-anchor=\"middle\" x=\"171\" y=\"-86.3\" font-family=\"Times,serif\" font-size=\"14.00\">9</text>\n</g>\n<!-- node0&#45;&gt;node2 -->\n<g id=\"edge2\" class=\"edge\">\n<title>node0&#45;&gt;node2</title>\n<path fill=\"none\" stroke=\"black\" d=\"M143.35,-144.76C147.71,-136.28 153.15,-125.71 158.04,-116.2\"/>\n<polygon fill=\"black\" stroke=\"black\" points=\"161.23,-117.64 162.7,-107.15 155.01,-114.44 161.23,-117.64\"/>\n</g>\n<!-- node3 -->\n<g id=\"node4\" class=\"node\">\n<title>node3</title>\n<ellipse fill=\"none\" stroke=\"black\" cx=\"27\" cy=\"-18\" rx=\"27\" ry=\"18\"/>\n<text text-anchor=\"middle\" x=\"27\" y=\"-14.3\" font-family=\"Times,serif\" font-size=\"14.00\">90</text>\n</g>\n<!-- node1&#45;&gt;node3 -->\n<g id=\"edge3\" class=\"edge\">\n<title>node1&#45;&gt;node3</title>\n<path fill=\"none\" stroke=\"black\" d=\"M84.43,-74.83C74.25,-64.94 60.48,-51.55 48.97,-40.36\"/>\n<polygon fill=\"black\" stroke=\"black\" points=\"51.41,-37.85 41.8,-33.38 46.53,-42.87 51.41,-37.85\"/>\n</g>\n<!-- node4 -->\n<g id=\"node5\" class=\"node\">\n<title>node4</title>\n<ellipse fill=\"none\" stroke=\"black\" cx=\"99\" cy=\"-18\" rx=\"27\" ry=\"18\"/>\n<text text-anchor=\"middle\" x=\"99\" y=\"-14.3\" font-family=\"Times,serif\" font-size=\"14.00\">37</text>\n</g>\n<!-- node1&#45;&gt;node4 -->\n<g id=\"edge4\" class=\"edge\">\n<title>node1&#45;&gt;node4</title>\n<path fill=\"none\" stroke=\"black\" d=\"M99,-71.7C99,-63.98 99,-54.71 99,-46.11\"/>\n<polygon fill=\"black\" stroke=\"black\" points=\"102.5,-46.1 99,-36.1 95.5,-46.1 102.5,-46.1\"/>\n</g>\n<!-- node5 -->\n<g id=\"node6\" class=\"node\">\n<title>node5</title>\n<ellipse fill=\"none\" stroke=\"black\" cx=\"171\" cy=\"-18\" rx=\"27\" ry=\"18\"/>\n<text text-anchor=\"middle\" x=\"171\" y=\"-14.3\" font-family=\"Times,serif\" font-size=\"14.00\">89</text>\n</g>\n<!-- node2&#45;&gt;node5 -->\n<g id=\"edge5\" class=\"edge\">\n<title>node2&#45;&gt;node5</title>\n<path fill=\"none\" stroke=\"black\" d=\"M171,-71.7C171,-63.98 171,-54.71 171,-46.11\"/>\n<polygon fill=\"black\" stroke=\"black\" points=\"174.5,-46.1 171,-36.1 167.5,-46.1 174.5,-46.1\"/>\n</g>\n<!-- node6 -->\n<g id=\"node7\" class=\"node\">\n<title>node6</title>\n<ellipse fill=\"none\" stroke=\"black\" cx=\"243\" cy=\"-18\" rx=\"27\" ry=\"18\"/>\n<text text-anchor=\"middle\" x=\"243\" y=\"-14.3\" font-family=\"Times,serif\" font-size=\"14.00\">26</text>\n</g>\n<!-- node2&#45;&gt;node6 -->\n<g id=\"edge6\" class=\"edge\">\n<title>node2&#45;&gt;node6</title>\n<path fill=\"none\" stroke=\"black\" d=\"M185.57,-74.83C195.75,-64.94 209.52,-51.55 221.03,-40.36\"/>\n<polygon fill=\"black\" stroke=\"black\" points=\"223.47,-42.87 228.2,-33.38 218.59,-37.85 223.47,-42.87\"/>\n</g>\n</g>\n</svg>\n",
            "text/plain": [
              "<graphviz.graphs.Digraph at 0x7b64ec7119f0>"
            ]
          },
          "metadata": {}
        }
      ]
    },
    {
      "cell_type": "code",
      "source": [
        "arraybintree.get_preorder()"
      ],
      "metadata": {
        "colab": {
          "base_uri": "https://localhost:8080/"
        },
        "id": "0PjQGpMxqS-V",
        "outputId": "4ebe0c29-85a5-4ca0-9a7f-5b42cf1ddaeb"
      },
      "execution_count": null,
      "outputs": [
        {
          "output_type": "execute_result",
          "data": {
            "text/plain": [
              "[10, 4, 90, 37, 9, 89, 26]"
            ]
          },
          "metadata": {},
          "execution_count": 66
        }
      ]
    },
    {
      "cell_type": "code",
      "source": [
        "arraybintree.get_inorder()"
      ],
      "metadata": {
        "colab": {
          "base_uri": "https://localhost:8080/"
        },
        "id": "l6FBUtJBqeSI",
        "outputId": "88e74a41-3469-40cc-e05f-7c7e7505fd44"
      },
      "execution_count": null,
      "outputs": [
        {
          "output_type": "execute_result",
          "data": {
            "text/plain": [
              "[90, 4, 37, 10, 89, 9, 26]"
            ]
          },
          "metadata": {},
          "execution_count": 67
        }
      ]
    },
    {
      "cell_type": "code",
      "source": [
        "arraybintree.get_postorder()"
      ],
      "metadata": {
        "colab": {
          "base_uri": "https://localhost:8080/"
        },
        "id": "7ka0KStLq1OU",
        "outputId": "d8235847-845f-40b7-cbe7-3e38098efa94"
      },
      "execution_count": null,
      "outputs": [
        {
          "output_type": "execute_result",
          "data": {
            "text/plain": [
              "[90, 37, 4, 89, 26, 9, 10]"
            ]
          },
          "metadata": {},
          "execution_count": 68
        }
      ]
    },
    {
      "cell_type": "code",
      "source": [],
      "metadata": {
        "id": "sn0nJgIerEmy"
      },
      "execution_count": null,
      "outputs": []
    }
  ]
}