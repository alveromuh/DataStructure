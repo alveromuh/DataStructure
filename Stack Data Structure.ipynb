{
  "nbformat": 4,
  "nbformat_minor": 0,
  "metadata": {
    "colab": {
      "provenance": []
    },
    "kernelspec": {
      "name": "python3",
      "display_name": "Python 3"
    },
    "language_info": {
      "name": "python"
    }
  },
  "cells": [
    {
      "cell_type": "markdown",
      "source": [
        "# Implementasi STACK"
      ],
      "metadata": {
        "id": "pztHxowBSBWa"
      }
    },
    {
      "cell_type": "code",
      "execution_count": null,
      "metadata": {
        "id": "3wtBV5KCNCgU"
      },
      "outputs": [],
      "source": [
        "import numpy as np\n",
        "\n",
        "import graphviz as gv"
      ]
    },
    {
      "cell_type": "markdown",
      "source": [
        "## implementasi stack dengan array"
      ],
      "metadata": {
        "id": "VfjR_KstXjdU"
      }
    },
    {
      "cell_type": "code",
      "source": [
        "class ArrayStack:\n",
        "    def __init__(self, dtype, max):\n",
        "        self.dtype = dtype\n",
        "        self.max = max\n",
        "        self.array = np.empty(max, dtype=dtype)\n",
        "        self.top = -1\n",
        "\n",
        "    def get_size(self):\n",
        "        return self.top + 1\n",
        "\n",
        "    def get_capacity(self):\n",
        "        return self.max\n",
        "\n",
        "    def get_dtype(self):\n",
        "        return self.dtype\n",
        "\n",
        "    def is_empty(self):\n",
        "        if self.get_size() > 0:\n",
        "            return False\n",
        "        else:\n",
        "            return True\n",
        "\n",
        "    def is_full(self):\n",
        "        if self.get_size() >= self.get_capacity():\n",
        "            return True\n",
        "        else:\n",
        "            return False\n",
        "\n",
        "    def push(self, newdata):\n",
        "        if self.is_full():\n",
        "            print(\"Error push: stack sudah penuh\")\n",
        "        else:\n",
        "            self.top += 1\n",
        "            self.array[self.top] = newdata\n",
        "\n",
        "    def peek(self):\n",
        "        if self.is_empty():\n",
        "            print(\"Error peek: stack sedang kosong\")\n",
        "            return None\n",
        "        else:\n",
        "            return self.array[self.top]\n",
        "\n",
        "    def pop(self):\n",
        "        if self.is_empty():\n",
        "            print(\"Error pop: stack sudah kosong sebelumnya\")\n",
        "            return None\n",
        "        else:\n",
        "            output = self.array[self.top]\n",
        "            self.top -= 1\n",
        "            return output\n",
        "\n",
        "    def print_stack(self):\n",
        "        i = self.top\n",
        "        while i >= 0:\n",
        "            print(self.array[i])\n",
        "            i -= 1\n",
        "\n",
        "    def print_storage(self):\n",
        "        print(self.array)\n",
        "\n",
        "    def get_digraph_stack(self):\n",
        "        new_digraph = gv.Digraph()\n",
        "        # gambar akan terdiri dari satu tabel saja, satu kolom,\n",
        "        # dan tiap baris adalah tiap elemen di stack\n",
        "\n",
        "        tabel_besar = \"<\"\n",
        "        # pembuka tabel\n",
        "        tabel_besar += \"<TABLE BORDER=\\\"0\\\" CELLBORDER=\\\"1\\\" CELLSPACING=\\\"0\\\">\"\n",
        "        # menambahkan tiap elemen sebagai baris tersendiri\n",
        "        i = self.top\n",
        "        if i < 0:\n",
        "            tabel_besar += \"<TR><TD>\"\n",
        "            tabel_besar += \"(Stack sedang kosong; tidak ada data sama sekali.)\"\n",
        "            tabel_besar += \"</TD></TR>\"\n",
        "        while i >= 0:\n",
        "            tabel_besar += \"<TR><TD>\"\n",
        "            tabel_besar += str(self.array[i])\n",
        "            tabel_besar += \"</TD></TR>\"\n",
        "            i -= 1\n",
        "        # penutup tabel\n",
        "        tabel_besar += \"</TABLE>\"\n",
        "        tabel_besar += \">\"\n",
        "        new_digraph.node(\"ArrayStack\", shape=\"none\", label=tabel_besar)\n",
        "        return new_digraph\n",
        "\n",
        "    def get_digraph_storage(self):\n",
        "        new_digraph = gv.Digraph()\n",
        "\n",
        "        tabel_besar = \"<\"\n",
        "        tabel_besar += \"<TABLE BORDER=\\\"0\\\" CELLBORDER=\\\"1\\\" CELLSPACING=\\\"0\\\">\"\n",
        "        tabel_besar += \"<TR>\"\n",
        "\n",
        "        for i in range(self.get_capacity()):\n",
        "            tabel_besar += \"<TD>\"\n",
        "            tabel_besar += str(self.array[i])\n",
        "            tabel_besar += \"</TD>\"\n",
        "\n",
        "        tabel_besar += \"</TR>\"\n",
        "\n",
        "        tabel_besar += \"</TABLE>\"\n",
        "        tabel_besar += \">\"\n",
        "        new_digraph.node(\"array\", shape=\"none\", label = tabel_besar)\n",
        "        return new_digraph"
      ],
      "metadata": {
        "id": "N0S0O6QnXcyu"
      },
      "execution_count": null,
      "outputs": []
    },
    {
      "cell_type": "code",
      "source": [
        "arraystack = ArrayStack(int, 5)\n",
        "arraystack.push(5)\n",
        "arraystack.push(100)\n",
        "arraystack.push(80)"
      ],
      "metadata": {
        "id": "F23Ydhwpc4ZW"
      },
      "execution_count": null,
      "outputs": []
    },
    {
      "cell_type": "code",
      "source": [
        "arraystack.print_stack()"
      ],
      "metadata": {
        "colab": {
          "base_uri": "https://localhost:8080/"
        },
        "id": "aYuseGrQdHDR",
        "outputId": "c0281737-0328-4fdf-9386-833976c85f32"
      },
      "execution_count": null,
      "outputs": [
        {
          "output_type": "stream",
          "name": "stdout",
          "text": [
            "80\n",
            "100\n",
            "5\n"
          ]
        }
      ]
    },
    {
      "cell_type": "code",
      "source": [
        "print(arraystack.get_capacity())"
      ],
      "metadata": {
        "colab": {
          "base_uri": "https://localhost:8080/"
        },
        "id": "4sU0laiqdKv4",
        "outputId": "8cc4e511-a36a-4acc-e2a2-510e4726b845"
      },
      "execution_count": null,
      "outputs": [
        {
          "output_type": "stream",
          "name": "stdout",
          "text": [
            "5\n"
          ]
        }
      ]
    },
    {
      "cell_type": "code",
      "source": [
        "arraystack.print_storage()"
      ],
      "metadata": {
        "colab": {
          "base_uri": "https://localhost:8080/"
        },
        "id": "rFxTdRHKdUXw",
        "outputId": "f0a3bac9-622c-4079-e7bf-f4b64396fb95"
      },
      "execution_count": null,
      "outputs": [
        {
          "output_type": "stream",
          "name": "stdout",
          "text": [
            "[                  5                 100                  80\n",
            " 4604930618986332160 4607182418800017408]\n"
          ]
        }
      ]
    },
    {
      "cell_type": "code",
      "source": [
        "print(arraystack.peek())"
      ],
      "metadata": {
        "colab": {
          "base_uri": "https://localhost:8080/"
        },
        "id": "HKg5BwIsdaA9",
        "outputId": "62860c86-a4fe-4df6-d490-f552c3294c88"
      },
      "execution_count": null,
      "outputs": [
        {
          "output_type": "stream",
          "name": "stdout",
          "text": [
            "80\n"
          ]
        }
      ]
    },
    {
      "cell_type": "code",
      "source": [
        "arraystack.print_stack()"
      ],
      "metadata": {
        "colab": {
          "base_uri": "https://localhost:8080/"
        },
        "id": "jlEUr03MdoPQ",
        "outputId": "97508ac2-2977-4938-c323-0e4563900cdd"
      },
      "execution_count": null,
      "outputs": [
        {
          "output_type": "stream",
          "name": "stdout",
          "text": [
            "80\n",
            "100\n",
            "5\n"
          ]
        }
      ]
    },
    {
      "cell_type": "code",
      "source": [
        "nilai = arraystack.pop()\n",
        "print(nilai)"
      ],
      "metadata": {
        "colab": {
          "base_uri": "https://localhost:8080/"
        },
        "id": "nXMX9JtddtyD",
        "outputId": "249bb6cb-ea1d-4546-fe53-22376344de82"
      },
      "execution_count": null,
      "outputs": [
        {
          "output_type": "stream",
          "name": "stdout",
          "text": [
            "80\n"
          ]
        }
      ]
    },
    {
      "cell_type": "code",
      "source": [
        "arraystack.print_stack()"
      ],
      "metadata": {
        "colab": {
          "base_uri": "https://localhost:8080/"
        },
        "id": "_1y7o4kbd1r4",
        "outputId": "a3581de0-d452-464e-87de-fd5fddd2efc9"
      },
      "execution_count": null,
      "outputs": [
        {
          "output_type": "stream",
          "name": "stdout",
          "text": [
            "100\n",
            "5\n"
          ]
        }
      ]
    },
    {
      "cell_type": "code",
      "source": [
        "arraystack.print_storage()"
      ],
      "metadata": {
        "colab": {
          "base_uri": "https://localhost:8080/"
        },
        "id": "WBIiRLiRd5cH",
        "outputId": "d14a0e34-ad34-4223-f02f-c77c4d40464c"
      },
      "execution_count": null,
      "outputs": [
        {
          "output_type": "stream",
          "name": "stdout",
          "text": [
            "[                  5                 100                  80\n",
            " 4604930618986332160 4607182418800017408]\n"
          ]
        }
      ]
    },
    {
      "cell_type": "code",
      "source": [
        "arraystack.push(-10)\n",
        "arraystack.push(57)"
      ],
      "metadata": {
        "id": "G7AyokSld9PW"
      },
      "execution_count": null,
      "outputs": []
    },
    {
      "cell_type": "code",
      "source": [
        "arraystack.print_stack()"
      ],
      "metadata": {
        "colab": {
          "base_uri": "https://localhost:8080/"
        },
        "id": "PcVUhDt7eEa-",
        "outputId": "db19c1e7-70cc-4748-8d53-ea9780d5dadb"
      },
      "execution_count": null,
      "outputs": [
        {
          "output_type": "stream",
          "name": "stdout",
          "text": [
            "57\n",
            "-10\n",
            "100\n",
            "5\n"
          ]
        }
      ]
    },
    {
      "cell_type": "code",
      "source": [
        "arraystack.print_storage()"
      ],
      "metadata": {
        "colab": {
          "base_uri": "https://localhost:8080/"
        },
        "id": "Ya6wprrYeGeh",
        "outputId": "ef4681c6-aaa1-4915-d2dd-b215d75556bb"
      },
      "execution_count": null,
      "outputs": [
        {
          "output_type": "stream",
          "name": "stdout",
          "text": [
            "[                  5                 100                 -10\n",
            "                  57 4607182418800017408]\n"
          ]
        }
      ]
    },
    {
      "cell_type": "code",
      "source": [
        "arraystack.push(90)"
      ],
      "metadata": {
        "id": "DHKoFmX1eWt2"
      },
      "execution_count": null,
      "outputs": []
    },
    {
      "cell_type": "code",
      "source": [
        "arraystack.push(46)"
      ],
      "metadata": {
        "colab": {
          "base_uri": "https://localhost:8080/"
        },
        "id": "o1oJN1SIfkgr",
        "outputId": "220961ec-78c9-45eb-eb04-3053755f7a74"
      },
      "execution_count": null,
      "outputs": [
        {
          "output_type": "stream",
          "name": "stdout",
          "text": [
            "Error push: stack sudah penuh\n"
          ]
        }
      ]
    },
    {
      "cell_type": "code",
      "source": [
        "arraystack.print_storage()"
      ],
      "metadata": {
        "colab": {
          "base_uri": "https://localhost:8080/"
        },
        "id": "BqO6GimMfmP1",
        "outputId": "8e4d8343-179c-47d8-f6cf-fe90f089dd78"
      },
      "execution_count": null,
      "outputs": [
        {
          "output_type": "stream",
          "name": "stdout",
          "text": [
            "[  5 100 -10  57  90]\n"
          ]
        }
      ]
    },
    {
      "cell_type": "code",
      "source": [
        "print(arraystack.pop())\n",
        "print(arraystack.pop())\n",
        "print(arraystack.pop())\n",
        "print(arraystack.pop())"
      ],
      "metadata": {
        "colab": {
          "base_uri": "https://localhost:8080/"
        },
        "id": "bX3GU0C7fsmS",
        "outputId": "6de9a1db-2554-4819-f462-63f821ea9aef"
      },
      "execution_count": null,
      "outputs": [
        {
          "output_type": "stream",
          "name": "stdout",
          "text": [
            "90\n",
            "57\n",
            "-10\n",
            "100\n"
          ]
        }
      ]
    },
    {
      "cell_type": "code",
      "source": [
        "print(arraystack.pop())"
      ],
      "metadata": {
        "colab": {
          "base_uri": "https://localhost:8080/"
        },
        "id": "mQ7PA4ODf15X",
        "outputId": "3e5c52bf-c4fa-40cd-c8a4-192ab33adede"
      },
      "execution_count": null,
      "outputs": [
        {
          "output_type": "stream",
          "name": "stdout",
          "text": [
            "5\n"
          ]
        }
      ]
    },
    {
      "cell_type": "code",
      "source": [
        "print(arraystack.pop())"
      ],
      "metadata": {
        "colab": {
          "base_uri": "https://localhost:8080/"
        },
        "id": "KYCFP29of2bS",
        "outputId": "6459a3df-267e-41fa-d425-7f1c1ccbe635"
      },
      "execution_count": null,
      "outputs": [
        {
          "output_type": "stream",
          "name": "stdout",
          "text": [
            "Error pop: stack sudah kosong sebelumnya\n",
            "None\n"
          ]
        }
      ]
    },
    {
      "cell_type": "code",
      "source": [
        "print(arraystack.get_size())"
      ],
      "metadata": {
        "colab": {
          "base_uri": "https://localhost:8080/"
        },
        "id": "_DrZmF-5f38P",
        "outputId": "b5dfa6ea-1c7e-4f75-86f2-22cb907f57bb"
      },
      "execution_count": null,
      "outputs": [
        {
          "output_type": "stream",
          "name": "stdout",
          "text": [
            "0\n"
          ]
        }
      ]
    },
    {
      "cell_type": "code",
      "source": [
        "arraystack.print_stack()"
      ],
      "metadata": {
        "id": "Sace6UhAf92w"
      },
      "execution_count": null,
      "outputs": []
    },
    {
      "cell_type": "code",
      "source": [
        "arraystack.print_storage()"
      ],
      "metadata": {
        "colab": {
          "base_uri": "https://localhost:8080/"
        },
        "id": "oHFV5iXvgA9o",
        "outputId": "e8077a00-c4c5-4496-e77a-1f9be866c530"
      },
      "execution_count": null,
      "outputs": [
        {
          "output_type": "stream",
          "name": "stdout",
          "text": [
            "[  5 100 -10  57  90]\n"
          ]
        }
      ]
    },
    {
      "cell_type": "markdown",
      "source": [
        "## Implementasi stack dengan singly-linked list"
      ],
      "metadata": {
        "id": "rsth1KDUgIbr"
      }
    },
    {
      "cell_type": "code",
      "source": [
        "class SLNode:\n",
        "    def __init__(self, data, next = None):\n",
        "        self.data = data\n",
        "        self.next = next"
      ],
      "metadata": {
        "id": "8qpbFcG3gRI1"
      },
      "execution_count": null,
      "outputs": []
    },
    {
      "cell_type": "code",
      "source": [
        "class SLStack:\n",
        "    def __init__(self):\n",
        "        self.top = None\n",
        "\n",
        "    def is_empty(self):\n",
        "        if self.top == None:\n",
        "            return True\n",
        "        else:\n",
        "            return False\n",
        "\n",
        "    def push(self, newdata):\n",
        "        newnode = SLNode(newdata)\n",
        "        newnode.next = self.top\n",
        "        self.top = newnode\n",
        "\n",
        "    def peek(self):\n",
        "        if self.is_empty():\n",
        "            print(\"Error peekL stack sedang kosong\")\n",
        "        else:\n",
        "            return self.top.data\n",
        "\n",
        "    def pop(self):\n",
        "        if self.is_empty():\n",
        "            print(\"Error pop: stack sudah kosong sebelumnya\")\n",
        "        else:\n",
        "            output = self.top.data\n",
        "            temp = self.top\n",
        "            self.top = self.top.next\n",
        "            del temp\n",
        "            return output\n",
        "\n",
        "    def get_size(self):\n",
        "        temp = self.top\n",
        "        size = 0\n",
        "        while temp!= None:\n",
        "            size += 1\n",
        "            temp = temp.next\n",
        "        return size\n",
        "\n",
        "    def print_stack(self):\n",
        "        temp = self.top\n",
        "        while temp != None:\n",
        "            print(temp.data)\n",
        "            temp = temp.next\n",
        "\n",
        "    #print linked list\n",
        "    def print_storage(self):\n",
        "        print(\"top ->\", end = \"\")\n",
        "        temp = self.top\n",
        "        while temp!= None:\n",
        "            print(temp.data, end = \" -> \")\n",
        "            temp = temp.next\n",
        "        print(\"None\")"
      ],
      "metadata": {
        "id": "mevA-0SQgY50"
      },
      "execution_count": null,
      "outputs": []
    },
    {
      "cell_type": "code",
      "source": [
        "slstack = SLStack()\n",
        "slstack.print_storage()"
      ],
      "metadata": {
        "colab": {
          "base_uri": "https://localhost:8080/"
        },
        "id": "KyfoR5xdgjQP",
        "outputId": "25ca6264-9493-4d76-94cd-6de101f3ff24"
      },
      "execution_count": null,
      "outputs": [
        {
          "output_type": "stream",
          "name": "stdout",
          "text": [
            "top ->None\n"
          ]
        }
      ]
    },
    {
      "cell_type": "code",
      "source": [
        "slstack.push(\"abc\")\n",
        "slstack.push(\"fg\")\n",
        "slstack.push(\"ask\")\n",
        "slstack.push(\"xakm\")\n",
        "slstack.push(\"pasd\")"
      ],
      "metadata": {
        "id": "CVrN4f88iiGS"
      },
      "execution_count": null,
      "outputs": []
    },
    {
      "cell_type": "code",
      "source": [
        "slstack.print_stack()"
      ],
      "metadata": {
        "colab": {
          "base_uri": "https://localhost:8080/"
        },
        "id": "mS_4lK6siy8f",
        "outputId": "206f3682-9cb9-48ae-96b4-6bb6c525635f"
      },
      "execution_count": null,
      "outputs": [
        {
          "output_type": "stream",
          "name": "stdout",
          "text": [
            "pasd\n",
            "xakm\n",
            "ask\n",
            "fg\n",
            "abc\n"
          ]
        }
      ]
    },
    {
      "cell_type": "code",
      "source": [
        "slstack.print_storage()"
      ],
      "metadata": {
        "colab": {
          "base_uri": "https://localhost:8080/"
        },
        "id": "uVqLFGd1i2ja",
        "outputId": "4e64bdf0-31a9-4ff3-a108-255b72bd172b"
      },
      "execution_count": null,
      "outputs": [
        {
          "output_type": "stream",
          "name": "stdout",
          "text": [
            "top ->pasd -> xakm -> ask -> fg -> abc -> None\n"
          ]
        }
      ]
    },
    {
      "cell_type": "code",
      "source": [
        "print(slstack.pop())\n",
        "print(slstack.pop())\n",
        "print(slstack.pop())"
      ],
      "metadata": {
        "colab": {
          "base_uri": "https://localhost:8080/"
        },
        "id": "_ZzQsTB-i55X",
        "outputId": "a9338e8b-0b68-43ab-a4f3-26b4e59eac6a"
      },
      "execution_count": null,
      "outputs": [
        {
          "output_type": "stream",
          "name": "stdout",
          "text": [
            "pasd\n",
            "xakm\n",
            "ask\n"
          ]
        }
      ]
    },
    {
      "cell_type": "code",
      "source": [
        "slstack.print_stack()"
      ],
      "metadata": {
        "colab": {
          "base_uri": "https://localhost:8080/"
        },
        "id": "9CJAK9EOjDic",
        "outputId": "a1509a6d-c9c2-4c1f-dbfa-e6e001f737da"
      },
      "execution_count": null,
      "outputs": [
        {
          "output_type": "stream",
          "name": "stdout",
          "text": [
            "fg\n",
            "abc\n"
          ]
        }
      ]
    },
    {
      "cell_type": "code",
      "source": [
        "slstack.print_storage()"
      ],
      "metadata": {
        "colab": {
          "base_uri": "https://localhost:8080/"
        },
        "id": "FHaQLRlIjS-A",
        "outputId": "0ddaf19b-f153-453f-92ae-ea474262f976"
      },
      "execution_count": null,
      "outputs": [
        {
          "output_type": "stream",
          "name": "stdout",
          "text": [
            "top ->fg -> abc -> None\n"
          ]
        }
      ]
    },
    {
      "cell_type": "markdown",
      "source": [
        "Contoh sederhana: reverse suatu string, list, atau array"
      ],
      "metadata": {
        "id": "ZMuh3Nzsj5_L"
      }
    },
    {
      "cell_type": "code",
      "source": [
        "def reverse_arraystack(array_old):\n",
        "    array = array_old.copy()\n",
        "    arraystack = ArrayStack(type(array[0]), len(array))\n",
        "    for i in range(len(array)):\n",
        "        arraystack.push(array[i])\n",
        "    for i in range(len(array)):\n",
        "        array[i] = arraystack.pop()\n",
        "\n",
        "    return array"
      ],
      "metadata": {
        "id": "-DD1M0sOjVjS"
      },
      "execution_count": null,
      "outputs": []
    },
    {
      "cell_type": "code",
      "source": [
        "array1 = [\"m\", \"a\", \"t\", \"e\", \"k\"]\n",
        "array2 = reverse_arraystack(array1)\n",
        "\n",
        "print(array2)"
      ],
      "metadata": {
        "colab": {
          "base_uri": "https://localhost:8080/"
        },
        "id": "FblSBQcNks2U",
        "outputId": "95d0e65a-8ec0-44c1-b345-cd76f9ea57ee"
      },
      "execution_count": null,
      "outputs": [
        {
          "output_type": "stream",
          "name": "stdout",
          "text": [
            "['k', 'e', 't', 'a', 'm']\n"
          ]
        }
      ]
    },
    {
      "cell_type": "code",
      "source": [
        "def reverse_array_slsstack(array):\n",
        "    slstack = SLStack()\n",
        "    for i in range(len(array)):\n",
        "        slstack.push(array[i])\n",
        "    for i in range(len(array)):\n",
        "        array[i] = slstack.pop()\n",
        "    return slstack"
      ],
      "metadata": {
        "id": "USu3qlDolBw8"
      },
      "execution_count": null,
      "outputs": []
    },
    {
      "cell_type": "code",
      "source": [
        "array3 = [\"m\", \"a\", \"t\", \"e\", \"k\"]\n",
        "array4 = reverse_array_slsstack(array3)\n",
        "\n",
        "print(array2)"
      ],
      "metadata": {
        "colab": {
          "base_uri": "https://localhost:8080/"
        },
        "id": "n--Am2zmmEZC",
        "outputId": "c820f441-3ff4-4dd9-8ea2-d4c614e211ab"
      },
      "execution_count": null,
      "outputs": [
        {
          "output_type": "stream",
          "name": "stdout",
          "text": [
            "['k', 'e', 't', 'a', 'm']\n"
          ]
        }
      ]
    },
    {
      "cell_type": "code",
      "source": [],
      "metadata": {
        "id": "BskbEQZLmdJC"
      },
      "execution_count": null,
      "outputs": []
    }
  ]
}