{
  "nbformat": 4,
  "nbformat_minor": 0,
  "metadata": {
    "colab": {
      "provenance": []
    },
    "kernelspec": {
      "name": "python3",
      "display_name": "Python 3"
    },
    "language_info": {
      "name": "python"
    }
  },
  "cells": [
    {
      "cell_type": "code",
      "execution_count": null,
      "metadata": {
        "id": "P-n6b-d3T_KR"
      },
      "outputs": [],
      "source": [
        "import numpy as np\n",
        "import graphviz as gv"
      ]
    },
    {
      "cell_type": "markdown",
      "source": [
        "## Max Heap"
      ],
      "metadata": {
        "id": "w-X0agVPhLIP"
      }
    },
    {
      "cell_type": "code",
      "source": [
        "class ArrayBintree:\n",
        "    def __init__(self, dtype, height, emptydata=-9999):\n",
        "        self.dtype = dtype\n",
        "        self.height = height\n",
        "        self.emptydata = emptydata\n",
        "        self.array_size = 2**(height+1) - 1\n",
        "        self.array = np.empty(self.array_size, dtype=dtype)\n",
        "        for i in range(self.array_size):\n",
        "            self.array[i] = emptydata\n",
        "\n",
        "    def get_root(self):\n",
        "        root_data = self.array[0]\n",
        "        if root_data == self.emptydata:\n",
        "            return None\n",
        "        else:\n",
        "            return root_data\n",
        "\n",
        "    def set_root(self, newdata):\n",
        "        self.array[0] = newdata\n",
        "\n",
        "    def get_data(self, node_idx):\n",
        "        if node_idx < self.array_size:\n",
        "            return self.array[node_idx]\n",
        "        else:\n",
        "            print(\"Error get_data: indeks di luar ukuran tree\")\n",
        "            return None\n",
        "\n",
        "    def set_data(self, node_idx, newdata):\n",
        "        if node_idx < self.array_size:\n",
        "            self.array[node_idx] = newdata\n",
        "        else:\n",
        "            print(\"Error set_data: indeks di luar ukuran tree\")\n",
        "\n",
        "    def get_left_child_idx(self, node_idx):\n",
        "        left_idx = 2*node_idx + 1\n",
        "        if left_idx < self.array_size:\n",
        "            return left_idx\n",
        "        else:\n",
        "            return -1\n",
        "\n",
        "    def get_left_child(self, node_idx):\n",
        "        left_idx = self.get_left_child_idx(node_idx)\n",
        "        if left_idx != -1:\n",
        "            data = self.array[left_idx]\n",
        "            if data != self.emptydata:\n",
        "                return data\n",
        "            else:\n",
        "                return None\n",
        "        else:\n",
        "            return None\n",
        "\n",
        "    def get_right_child_idx(self, node_idx):\n",
        "        right_idx = 2*node_idx + 2\n",
        "        if right_idx < self.array_size:\n",
        "            return right_idx\n",
        "        else:\n",
        "            return -1\n",
        "\n",
        "    def get_right_child(self, node_idx):\n",
        "        right_idx = self.get_right_child_idx(node_idx)\n",
        "        if right_idx != -1:\n",
        "            data = self.array[right_idx]\n",
        "            if data != self.emptydata:\n",
        "                return data\n",
        "            else:\n",
        "                return None\n",
        "        else:\n",
        "            return None\n",
        "\n",
        "    def get_parent_idx(self, node_idx):\n",
        "        if node_idx == 0:\n",
        "            return -1\n",
        "        idx = int(np.floor( (node_idx - 1)/2 ))\n",
        "        return idx\n",
        "\n",
        "    # preorder: tengah, kiri, kanan\n",
        "    def get_preorder(self, current=0, result=None):\n",
        "        is_starting_node = False\n",
        "        if result == None:\n",
        "            is_starting_node = True\n",
        "            result = []\n",
        "\n",
        "        # tengah\n",
        "        current_data = self.array[current]\n",
        "        if current_data != self.emptydata:\n",
        "            result.append(current_data)\n",
        "\n",
        "        # kiri\n",
        "        left_idx = self.get_left_child_idx(current)\n",
        "        if left_idx != -1:\n",
        "            self.get_preorder(current=left_idx, result=result)\n",
        "\n",
        "        # kanan\n",
        "        right_idx = self.get_right_child_idx(current)\n",
        "        if right_idx != -1:\n",
        "            self.get_preorder(current=right_idx, result=result)\n",
        "\n",
        "        if is_starting_node:\n",
        "            return result\n",
        "\n",
        "    # inorder: kiri, tengah, kanan\n",
        "    def get_inorder(self, current=0, result=None):\n",
        "        is_starting_node = False\n",
        "        if result == None:\n",
        "            is_starting_node = True\n",
        "            result = []\n",
        "\n",
        "        # kiri\n",
        "        left_idx = self.get_left_child_idx(current)\n",
        "        if left_idx != -1:\n",
        "            self.get_inorder(current=left_idx, result=result)\n",
        "\n",
        "        # tengah\n",
        "        current_data = self.array[current]\n",
        "        if current_data != self.emptydata:\n",
        "            result.append(current_data)\n",
        "\n",
        "        # kanan\n",
        "        right_idx = self.get_right_child_idx(current)\n",
        "        if right_idx != -1:\n",
        "            self.get_inorder(current=right_idx, result=result)\n",
        "\n",
        "        if is_starting_node:\n",
        "            return result\n",
        "\n",
        "    # postorder: kiri, kanan, tengah\n",
        "    def get_postorder(self, current=0, result=None):\n",
        "        is_starting_node = False\n",
        "        if result == None:\n",
        "            is_starting_node = True\n",
        "            result = []\n",
        "\n",
        "        # kiri\n",
        "        left_idx = self.get_left_child_idx(current)\n",
        "        if left_idx != -1:\n",
        "            self.get_postorder(current=left_idx, result=result)\n",
        "\n",
        "        # kanan\n",
        "        right_idx = self.get_right_child_idx(current)\n",
        "        if right_idx != -1:\n",
        "            self.get_postorder(current=right_idx, result=result)\n",
        "\n",
        "        # tengah\n",
        "        current_data = self.array[current]\n",
        "        if current_data != self.emptydata:\n",
        "            result.append(current_data)\n",
        "\n",
        "        if is_starting_node:\n",
        "            return result\n",
        "\n",
        "    def get_digraph_simple(self):\n",
        "        digraph = gv.Digraph()\n",
        "        for idx in range(self.array_size):\n",
        "            data = self.array[idx]\n",
        "            if data != self.emptydata:\n",
        "                digraph.node(\"node\" + str(idx), label=str(data))\n",
        "                left_idx = self.get_left_child_idx(idx)\n",
        "                right_idx = self.get_right_child_idx(idx)\n",
        "                if left_idx != -1:\n",
        "                    digraph.edge(\"node\" + str(idx), \"node\" + str(left_idx))\n",
        "                    if self.array[left_idx] == self.emptydata:\n",
        "                        digraph.node(\"node\" + str(left_idx), label=\"NULL\", shape=\"none\")\n",
        "                if right_idx != -1:\n",
        "                    digraph.edge(\"node\" + str(idx), \"node\" + str(right_idx))\n",
        "                    if self.array[right_idx] == self.emptydata:\n",
        "                        digraph.node(\"node\" + str(right_idx), label=\"NULL\", shape=\"none\")\n",
        "        return digraph"
      ],
      "metadata": {
        "id": "R8d4PcYqqIkS"
      },
      "execution_count": null,
      "outputs": []
    },
    {
      "cell_type": "code",
      "source": [
        "class ArrayMaxHeap(ArrayBintree):\n",
        "    def __init__(self, dtype, height, emptydata=-9999):\n",
        "        super().__init__(dtype, height, emptydata)\n",
        "        self.n_nodes = 0\n",
        "\n",
        "    def is_correct_parent_child_data(self, parent_data, child_data):\n",
        "        if (parent_data >= child_data):\n",
        "            return True\n",
        "        else:\n",
        "            return False\n",
        "\n",
        "    def completify(self):\n",
        "        for i in range(self.array_size):\n",
        "            for j in range(i, 0, -1):\n",
        "                if ((self.array[j] != self.emptydata) and (self.array[j-1] == self.emptydata)):\n",
        "                    self.array[j-1] = self.array[j]\n",
        "                    self.array[j] = self.emptydata\n",
        "        i = 0\n",
        "        while (i < self.array_size) and (self.array[i] != self.emptydata):\n",
        "            i += 1\n",
        "        self.n_nodes = i\n",
        "\n",
        "    def heapify_bottomup(self, child_idx):\n",
        "        if child_idx > 0:\n",
        "            parent_idx = self.get_parent_idx(child_idx)\n",
        "            if not (self.is_correct_parent_child_data(self.array[parent_idx], self.array[child_idx])):\n",
        "                temp = self.array[parent_idx]\n",
        "                self.array[parent_idx] = self.array[child_idx]\n",
        "                self.array[child_idx] = temp\n",
        "            self.heapify_bottomup(parent_idx)\n",
        "\n",
        "    def insert(self, newdata):\n",
        "        if self.n_nodes == self.array_size:\n",
        "            print(\"error insert: array heap sudah penuh\")\n",
        "        else:\n",
        "            self.array[self.n_nodes] = newdata\n",
        "            self.heapify_bottomup(self.n_nodes)\n",
        "            self.n_nodes += 1\n",
        "\n",
        "    def heapify_topdown(self, parent_idx=None):\n",
        "        if parent_idx == None:\n",
        "            parent_idx = 0\n",
        "\n",
        "        left_idx = self.get_left_child_idx(parent_idx)\n",
        "        right_idx = self.get_right_child_idx(parent_idx)\n",
        "\n",
        "        if ((left_idx != -1) and (right_idx != -1)\n",
        "        and (self.array[left_idx] != self.emptydata)\n",
        "        and (self.array[right_idx] != self.emptydata)):\n",
        "            if self.is_correct_parent_child_data(\n",
        "                self.array[left_idx], self.array[right_idx]\n",
        "            ):\n",
        "                child_idx = left_idx\n",
        "            else:\n",
        "                child_idx = right_idx\n",
        "        elif (left_idx != -1) and (self.array[left_idx] != self.emptydata):\n",
        "            child_idx = left_idx\n",
        "        elif (right_idx != -1) and (self.array[right_idx] != self.emptydata):\n",
        "            child_idx = right_idx\n",
        "        else:\n",
        "            return\n",
        "\n",
        "        if self.is_correct_parent_child_data(\n",
        "            self.array[child_idx], self.array[parent_idx]\n",
        "        ):\n",
        "            temp = self.array[child_idx]\n",
        "            self.array[child_idx] = self.array[parent_idx]\n",
        "            self.array[parent_idx] = temp\n",
        "\n",
        "        self.heapify_topdown(child_idx)\n",
        "\n",
        "    def peek(self):\n",
        "        nilai = self.get_root()\n",
        "        if nilai == self.emptydata:\n",
        "            print(\"error peek: heap tree sedang kosong\")\n",
        "            return None\n",
        "        else:\n",
        "            return nilai\n",
        "\n",
        "    def delete(self):\n",
        "        nilai_root = self.get_root()\n",
        "        if nilai_root == self.emptydata:\n",
        "            print(\"error delete: heap tree sudah kosong sebelumnya\")\n",
        "            return None\n",
        "        self.set_root(self.array[self.n_nodes-1])\n",
        "\n",
        "        self.array[self.n_nodes-1] = self.emptydata\n",
        "        self.n_nodes -= 1\n",
        "\n",
        "        self.heapify_topdown()\n",
        "\n",
        "        return nilai_root\n",
        "\n",
        "    def heapify_all(self):\n",
        "        for child_idx in range(self.n_nodes, 0 , -1):\n",
        "            parent_idx = self.get_parent_idx(child_idx)\n",
        "            if not (self.is_correct_parent_child_data(\n",
        "                self.array[parent_idx], self.array[child_idx]\n",
        "            )):\n",
        "                temp = self.array[parent_idx]\n",
        "                self.array[parent_idx] = self.array[child_idx]\n",
        "                self.array[child_idx] = temp\n",
        "\n"
      ],
      "metadata": {
        "id": "pejLzRM3hJ6V"
      },
      "execution_count": null,
      "outputs": []
    },
    {
      "cell_type": "code",
      "source": [
        "bintree1 = ArrayMaxHeap(int, 3)"
      ],
      "metadata": {
        "id": "m1f54H6Zh6bX"
      },
      "execution_count": null,
      "outputs": []
    },
    {
      "cell_type": "code",
      "source": [
        "list1 = [11, 22, 44, 77, -9999, 66, -9999, 33]\n",
        "for i in range(len(list1)):\n",
        "    bintree1.array[i] = list1[i]"
      ],
      "metadata": {
        "id": "fD9dT8nCqXw4"
      },
      "execution_count": null,
      "outputs": []
    },
    {
      "cell_type": "code",
      "source": [
        "print(bintree1.array)"
      ],
      "metadata": {
        "colab": {
          "base_uri": "https://localhost:8080/"
        },
        "id": "Te1UatBkqpK_",
        "outputId": "f99d54c2-c156-4353-ee04-428cbffada1d"
      },
      "execution_count": null,
      "outputs": [
        {
          "output_type": "stream",
          "name": "stdout",
          "text": [
            "[   11    22    44    77 -9999    66 -9999    33 -9999 -9999 -9999 -9999\n",
            " -9999 -9999 -9999]\n"
          ]
        }
      ]
    },
    {
      "cell_type": "code",
      "source": [
        "display(bintree1.get_digraph_simple())"
      ],
      "metadata": {
        "colab": {
          "base_uri": "https://localhost:8080/",
          "height": 368
        },
        "id": "sXayqd2nqyVC",
        "outputId": "eca43994-4b47-4dea-e6e3-28fcc78c5940"
      },
      "execution_count": null,
      "outputs": [
        {
          "output_type": "display_data",
          "data": {
            "image/svg+xml": "<?xml version=\"1.0\" encoding=\"UTF-8\" standalone=\"no\"?>\n<!DOCTYPE svg PUBLIC \"-//W3C//DTD SVG 1.1//EN\"\n \"http://www.w3.org/Graphics/SVG/1.1/DTD/svg11.dtd\">\n<!-- Generated by graphviz version 2.43.0 (0)\n -->\n<!-- Title: %3 Pages: 1 -->\n<svg width=\"314pt\" height=\"260pt\"\n viewBox=\"0.00 0.00 314.00 260.00\" xmlns=\"http://www.w3.org/2000/svg\" xmlns:xlink=\"http://www.w3.org/1999/xlink\">\n<g id=\"graph0\" class=\"graph\" transform=\"scale(1 1) rotate(0) translate(4 256)\">\n<title>%3</title>\n<polygon fill=\"white\" stroke=\"transparent\" points=\"-4,4 -4,-256 310,-256 310,4 -4,4\"/>\n<!-- node0 -->\n<g id=\"node1\" class=\"node\">\n<title>node0</title>\n<ellipse fill=\"none\" stroke=\"black\" cx=\"171\" cy=\"-234\" rx=\"27\" ry=\"18\"/>\n<text text-anchor=\"middle\" x=\"171\" y=\"-230.3\" font-family=\"Times,serif\" font-size=\"14.00\">11</text>\n</g>\n<!-- node1 -->\n<g id=\"node2\" class=\"node\">\n<title>node1</title>\n<ellipse fill=\"none\" stroke=\"black\" cx=\"135\" cy=\"-162\" rx=\"27\" ry=\"18\"/>\n<text text-anchor=\"middle\" x=\"135\" y=\"-158.3\" font-family=\"Times,serif\" font-size=\"14.00\">22</text>\n</g>\n<!-- node0&#45;&gt;node1 -->\n<g id=\"edge1\" class=\"edge\">\n<title>node0&#45;&gt;node1</title>\n<path fill=\"none\" stroke=\"black\" d=\"M162.65,-216.76C158.29,-208.28 152.85,-197.71 147.96,-188.2\"/>\n<polygon fill=\"black\" stroke=\"black\" points=\"150.99,-186.44 143.3,-179.15 144.77,-189.64 150.99,-186.44\"/>\n</g>\n<!-- node2 -->\n<g id=\"node3\" class=\"node\">\n<title>node2</title>\n<ellipse fill=\"none\" stroke=\"black\" cx=\"207\" cy=\"-162\" rx=\"27\" ry=\"18\"/>\n<text text-anchor=\"middle\" x=\"207\" y=\"-158.3\" font-family=\"Times,serif\" font-size=\"14.00\">44</text>\n</g>\n<!-- node0&#45;&gt;node2 -->\n<g id=\"edge2\" class=\"edge\">\n<title>node0&#45;&gt;node2</title>\n<path fill=\"none\" stroke=\"black\" d=\"M179.35,-216.76C183.71,-208.28 189.15,-197.71 194.04,-188.2\"/>\n<polygon fill=\"black\" stroke=\"black\" points=\"197.23,-189.64 198.7,-179.15 191.01,-186.44 197.23,-189.64\"/>\n</g>\n<!-- node3 -->\n<g id=\"node4\" class=\"node\">\n<title>node3</title>\n<ellipse fill=\"none\" stroke=\"black\" cx=\"63\" cy=\"-90\" rx=\"27\" ry=\"18\"/>\n<text text-anchor=\"middle\" x=\"63\" y=\"-86.3\" font-family=\"Times,serif\" font-size=\"14.00\">77</text>\n</g>\n<!-- node1&#45;&gt;node3 -->\n<g id=\"edge3\" class=\"edge\">\n<title>node1&#45;&gt;node3</title>\n<path fill=\"none\" stroke=\"black\" d=\"M120.43,-146.83C110.25,-136.94 96.48,-123.55 84.97,-112.36\"/>\n<polygon fill=\"black\" stroke=\"black\" points=\"87.41,-109.85 77.8,-105.38 82.53,-114.87 87.41,-109.85\"/>\n</g>\n<!-- node4 -->\n<g id=\"node5\" class=\"node\">\n<title>node4</title>\n<text text-anchor=\"middle\" x=\"135\" y=\"-86.3\" font-family=\"Times,serif\" font-size=\"14.00\">NULL</text>\n</g>\n<!-- node1&#45;&gt;node4 -->\n<g id=\"edge4\" class=\"edge\">\n<title>node1&#45;&gt;node4</title>\n<path fill=\"none\" stroke=\"black\" d=\"M135,-143.7C135,-135.98 135,-126.71 135,-118.11\"/>\n<polygon fill=\"black\" stroke=\"black\" points=\"138.5,-118.1 135,-108.1 131.5,-118.1 138.5,-118.1\"/>\n</g>\n<!-- node5 -->\n<g id=\"node6\" class=\"node\">\n<title>node5</title>\n<ellipse fill=\"none\" stroke=\"black\" cx=\"207\" cy=\"-90\" rx=\"27\" ry=\"18\"/>\n<text text-anchor=\"middle\" x=\"207\" y=\"-86.3\" font-family=\"Times,serif\" font-size=\"14.00\">66</text>\n</g>\n<!-- node2&#45;&gt;node5 -->\n<g id=\"edge5\" class=\"edge\">\n<title>node2&#45;&gt;node5</title>\n<path fill=\"none\" stroke=\"black\" d=\"M207,-143.7C207,-135.98 207,-126.71 207,-118.11\"/>\n<polygon fill=\"black\" stroke=\"black\" points=\"210.5,-118.1 207,-108.1 203.5,-118.1 210.5,-118.1\"/>\n</g>\n<!-- node6 -->\n<g id=\"node7\" class=\"node\">\n<title>node6</title>\n<text text-anchor=\"middle\" x=\"279\" y=\"-86.3\" font-family=\"Times,serif\" font-size=\"14.00\">NULL</text>\n</g>\n<!-- node2&#45;&gt;node6 -->\n<g id=\"edge6\" class=\"edge\">\n<title>node2&#45;&gt;node6</title>\n<path fill=\"none\" stroke=\"black\" d=\"M221.57,-146.83C230.92,-137.75 243.3,-125.71 254.17,-115.14\"/>\n<polygon fill=\"black\" stroke=\"black\" points=\"256.67,-117.59 261.4,-108.11 251.79,-112.57 256.67,-117.59\"/>\n</g>\n<!-- node7 -->\n<g id=\"node8\" class=\"node\">\n<title>node7</title>\n<ellipse fill=\"none\" stroke=\"black\" cx=\"27\" cy=\"-18\" rx=\"27\" ry=\"18\"/>\n<text text-anchor=\"middle\" x=\"27\" y=\"-14.3\" font-family=\"Times,serif\" font-size=\"14.00\">33</text>\n</g>\n<!-- node3&#45;&gt;node7 -->\n<g id=\"edge7\" class=\"edge\">\n<title>node3&#45;&gt;node7</title>\n<path fill=\"none\" stroke=\"black\" d=\"M54.65,-72.76C50.29,-64.28 44.85,-53.71 39.96,-44.2\"/>\n<polygon fill=\"black\" stroke=\"black\" points=\"42.99,-42.44 35.3,-35.15 36.77,-45.64 42.99,-42.44\"/>\n</g>\n<!-- node8 -->\n<g id=\"node9\" class=\"node\">\n<title>node8</title>\n<text text-anchor=\"middle\" x=\"99\" y=\"-14.3\" font-family=\"Times,serif\" font-size=\"14.00\">NULL</text>\n</g>\n<!-- node3&#45;&gt;node8 -->\n<g id=\"edge8\" class=\"edge\">\n<title>node3&#45;&gt;node8</title>\n<path fill=\"none\" stroke=\"black\" d=\"M71.35,-72.76C75.54,-64.61 80.73,-54.53 85.47,-45.31\"/>\n<polygon fill=\"black\" stroke=\"black\" points=\"88.73,-46.62 90.19,-36.12 82.51,-43.42 88.73,-46.62\"/>\n</g>\n<!-- node11 -->\n<g id=\"node10\" class=\"node\">\n<title>node11</title>\n<text text-anchor=\"middle\" x=\"189\" y=\"-14.3\" font-family=\"Times,serif\" font-size=\"14.00\">NULL</text>\n</g>\n<!-- node5&#45;&gt;node11 -->\n<g id=\"edge9\" class=\"edge\">\n<title>node5&#45;&gt;node11</title>\n<path fill=\"none\" stroke=\"black\" d=\"M202.64,-72.05C200.64,-64.26 198.21,-54.82 195.96,-46.08\"/>\n<polygon fill=\"black\" stroke=\"black\" points=\"199.32,-45.09 193.44,-36.28 192.54,-46.83 199.32,-45.09\"/>\n</g>\n<!-- node12 -->\n<g id=\"node11\" class=\"node\">\n<title>node12</title>\n<text text-anchor=\"middle\" x=\"261\" y=\"-14.3\" font-family=\"Times,serif\" font-size=\"14.00\">NULL</text>\n</g>\n<!-- node5&#45;&gt;node12 -->\n<g id=\"edge10\" class=\"edge\">\n<title>node5&#45;&gt;node12</title>\n<path fill=\"none\" stroke=\"black\" d=\"M218.98,-73.46C225.52,-64.99 233.78,-54.29 241.24,-44.61\"/>\n<polygon fill=\"black\" stroke=\"black\" points=\"244.19,-46.52 247.53,-36.46 238.65,-42.24 244.19,-46.52\"/>\n</g>\n</g>\n</svg>\n",
            "text/plain": [
              "<graphviz.graphs.Digraph at 0x7f8c531abd00>"
            ]
          },
          "metadata": {}
        }
      ]
    },
    {
      "cell_type": "code",
      "source": [
        "bintree1.completify()"
      ],
      "metadata": {
        "id": "8NtxHgj8rGqh"
      },
      "execution_count": null,
      "outputs": []
    },
    {
      "cell_type": "code",
      "source": [
        "print(bintree1.array)"
      ],
      "metadata": {
        "colab": {
          "base_uri": "https://localhost:8080/"
        },
        "id": "Ax9ZHlBHrSDw",
        "outputId": "06903522-ef0f-415c-89a2-389fb036fc75"
      },
      "execution_count": null,
      "outputs": [
        {
          "output_type": "stream",
          "name": "stdout",
          "text": [
            "[   11    22    44    77    66    33 -9999 -9999 -9999 -9999 -9999 -9999\n",
            " -9999 -9999 -9999]\n"
          ]
        }
      ]
    },
    {
      "cell_type": "code",
      "source": [
        "display(bintree1.get_digraph_simple())"
      ],
      "metadata": {
        "colab": {
          "base_uri": "https://localhost:8080/",
          "height": 368
        },
        "id": "SD5XV6wvrUjJ",
        "outputId": "ae08d4de-e9fa-404f-d57b-6554db3142dd"
      },
      "execution_count": null,
      "outputs": [
        {
          "output_type": "display_data",
          "data": {
            "image/svg+xml": "<?xml version=\"1.0\" encoding=\"UTF-8\" standalone=\"no\"?>\n<!DOCTYPE svg PUBLIC \"-//W3C//DTD SVG 1.1//EN\"\n \"http://www.w3.org/Graphics/SVG/1.1/DTD/svg11.dtd\">\n<!-- Generated by graphviz version 2.43.0 (0)\n -->\n<!-- Title: %3 Pages: 1 -->\n<svg width=\"422pt\" height=\"260pt\"\n viewBox=\"0.00 0.00 422.00 260.00\" xmlns=\"http://www.w3.org/2000/svg\" xmlns:xlink=\"http://www.w3.org/1999/xlink\">\n<g id=\"graph0\" class=\"graph\" transform=\"scale(1 1) rotate(0) translate(4 256)\">\n<title>%3</title>\n<polygon fill=\"white\" stroke=\"transparent\" points=\"-4,4 -4,-256 418,-256 418,4 -4,4\"/>\n<!-- node0 -->\n<g id=\"node1\" class=\"node\">\n<title>node0</title>\n<ellipse fill=\"none\" stroke=\"black\" cx=\"279\" cy=\"-234\" rx=\"27\" ry=\"18\"/>\n<text text-anchor=\"middle\" x=\"279\" y=\"-230.3\" font-family=\"Times,serif\" font-size=\"14.00\">11</text>\n</g>\n<!-- node1 -->\n<g id=\"node2\" class=\"node\">\n<title>node1</title>\n<ellipse fill=\"none\" stroke=\"black\" cx=\"207\" cy=\"-162\" rx=\"27\" ry=\"18\"/>\n<text text-anchor=\"middle\" x=\"207\" y=\"-158.3\" font-family=\"Times,serif\" font-size=\"14.00\">22</text>\n</g>\n<!-- node0&#45;&gt;node1 -->\n<g id=\"edge1\" class=\"edge\">\n<title>node0&#45;&gt;node1</title>\n<path fill=\"none\" stroke=\"black\" d=\"M264.43,-218.83C254.25,-208.94 240.48,-195.55 228.97,-184.36\"/>\n<polygon fill=\"black\" stroke=\"black\" points=\"231.41,-181.85 221.8,-177.38 226.53,-186.87 231.41,-181.85\"/>\n</g>\n<!-- node2 -->\n<g id=\"node3\" class=\"node\">\n<title>node2</title>\n<ellipse fill=\"none\" stroke=\"black\" cx=\"315\" cy=\"-162\" rx=\"27\" ry=\"18\"/>\n<text text-anchor=\"middle\" x=\"315\" y=\"-158.3\" font-family=\"Times,serif\" font-size=\"14.00\">44</text>\n</g>\n<!-- node0&#45;&gt;node2 -->\n<g id=\"edge2\" class=\"edge\">\n<title>node0&#45;&gt;node2</title>\n<path fill=\"none\" stroke=\"black\" d=\"M287.35,-216.76C291.71,-208.28 297.15,-197.71 302.04,-188.2\"/>\n<polygon fill=\"black\" stroke=\"black\" points=\"305.23,-189.64 306.7,-179.15 299.01,-186.44 305.23,-189.64\"/>\n</g>\n<!-- node3 -->\n<g id=\"node4\" class=\"node\">\n<title>node3</title>\n<ellipse fill=\"none\" stroke=\"black\" cx=\"99\" cy=\"-90\" rx=\"27\" ry=\"18\"/>\n<text text-anchor=\"middle\" x=\"99\" y=\"-86.3\" font-family=\"Times,serif\" font-size=\"14.00\">77</text>\n</g>\n<!-- node1&#45;&gt;node3 -->\n<g id=\"edge3\" class=\"edge\">\n<title>node1&#45;&gt;node3</title>\n<path fill=\"none\" stroke=\"black\" d=\"M188.19,-148.81C171,-137.67 145.38,-121.06 126.01,-108.5\"/>\n<polygon fill=\"black\" stroke=\"black\" points=\"127.89,-105.56 117.6,-103.05 124.08,-111.43 127.89,-105.56\"/>\n</g>\n<!-- node4 -->\n<g id=\"node5\" class=\"node\">\n<title>node4</title>\n<ellipse fill=\"none\" stroke=\"black\" cx=\"207\" cy=\"-90\" rx=\"27\" ry=\"18\"/>\n<text text-anchor=\"middle\" x=\"207\" y=\"-86.3\" font-family=\"Times,serif\" font-size=\"14.00\">66</text>\n</g>\n<!-- node1&#45;&gt;node4 -->\n<g id=\"edge4\" class=\"edge\">\n<title>node1&#45;&gt;node4</title>\n<path fill=\"none\" stroke=\"black\" d=\"M207,-143.7C207,-135.98 207,-126.71 207,-118.11\"/>\n<polygon fill=\"black\" stroke=\"black\" points=\"210.5,-118.1 207,-108.1 203.5,-118.1 210.5,-118.1\"/>\n</g>\n<!-- node5 -->\n<g id=\"node6\" class=\"node\">\n<title>node5</title>\n<ellipse fill=\"none\" stroke=\"black\" cx=\"315\" cy=\"-90\" rx=\"27\" ry=\"18\"/>\n<text text-anchor=\"middle\" x=\"315\" y=\"-86.3\" font-family=\"Times,serif\" font-size=\"14.00\">33</text>\n</g>\n<!-- node2&#45;&gt;node5 -->\n<g id=\"edge5\" class=\"edge\">\n<title>node2&#45;&gt;node5</title>\n<path fill=\"none\" stroke=\"black\" d=\"M315,-143.7C315,-135.98 315,-126.71 315,-118.11\"/>\n<polygon fill=\"black\" stroke=\"black\" points=\"318.5,-118.1 315,-108.1 311.5,-118.1 318.5,-118.1\"/>\n</g>\n<!-- node6 -->\n<g id=\"node7\" class=\"node\">\n<title>node6</title>\n<text text-anchor=\"middle\" x=\"387\" y=\"-86.3\" font-family=\"Times,serif\" font-size=\"14.00\">NULL</text>\n</g>\n<!-- node2&#45;&gt;node6 -->\n<g id=\"edge6\" class=\"edge\">\n<title>node2&#45;&gt;node6</title>\n<path fill=\"none\" stroke=\"black\" d=\"M329.57,-146.83C338.92,-137.75 351.3,-125.71 362.17,-115.14\"/>\n<polygon fill=\"black\" stroke=\"black\" points=\"364.67,-117.59 369.4,-108.11 359.79,-112.57 364.67,-117.59\"/>\n</g>\n<!-- node7 -->\n<g id=\"node8\" class=\"node\">\n<title>node7</title>\n<text text-anchor=\"middle\" x=\"27\" y=\"-14.3\" font-family=\"Times,serif\" font-size=\"14.00\">NULL</text>\n</g>\n<!-- node3&#45;&gt;node7 -->\n<g id=\"edge7\" class=\"edge\">\n<title>node3&#45;&gt;node7</title>\n<path fill=\"none\" stroke=\"black\" d=\"M84.43,-74.83C75.08,-65.75 62.7,-53.71 51.83,-43.14\"/>\n<polygon fill=\"black\" stroke=\"black\" points=\"54.21,-40.57 44.6,-36.11 49.33,-45.59 54.21,-40.57\"/>\n</g>\n<!-- node8 -->\n<g id=\"node9\" class=\"node\">\n<title>node8</title>\n<text text-anchor=\"middle\" x=\"99\" y=\"-14.3\" font-family=\"Times,serif\" font-size=\"14.00\">NULL</text>\n</g>\n<!-- node3&#45;&gt;node8 -->\n<g id=\"edge8\" class=\"edge\">\n<title>node3&#45;&gt;node8</title>\n<path fill=\"none\" stroke=\"black\" d=\"M99,-71.7C99,-63.98 99,-54.71 99,-46.11\"/>\n<polygon fill=\"black\" stroke=\"black\" points=\"102.5,-46.1 99,-36.1 95.5,-46.1 102.5,-46.1\"/>\n</g>\n<!-- node9 -->\n<g id=\"node10\" class=\"node\">\n<title>node9</title>\n<text text-anchor=\"middle\" x=\"171\" y=\"-14.3\" font-family=\"Times,serif\" font-size=\"14.00\">NULL</text>\n</g>\n<!-- node4&#45;&gt;node9 -->\n<g id=\"edge9\" class=\"edge\">\n<title>node4&#45;&gt;node9</title>\n<path fill=\"none\" stroke=\"black\" d=\"M198.65,-72.76C194.46,-64.61 189.27,-54.53 184.53,-45.31\"/>\n<polygon fill=\"black\" stroke=\"black\" points=\"187.49,-43.42 179.81,-36.12 181.27,-46.62 187.49,-43.42\"/>\n</g>\n<!-- node10 -->\n<g id=\"node11\" class=\"node\">\n<title>node10</title>\n<text text-anchor=\"middle\" x=\"243\" y=\"-14.3\" font-family=\"Times,serif\" font-size=\"14.00\">NULL</text>\n</g>\n<!-- node4&#45;&gt;node10 -->\n<g id=\"edge10\" class=\"edge\">\n<title>node4&#45;&gt;node10</title>\n<path fill=\"none\" stroke=\"black\" d=\"M215.35,-72.76C219.54,-64.61 224.73,-54.53 229.47,-45.31\"/>\n<polygon fill=\"black\" stroke=\"black\" points=\"232.73,-46.62 234.19,-36.12 226.51,-43.42 232.73,-46.62\"/>\n</g>\n<!-- node11 -->\n<g id=\"node12\" class=\"node\">\n<title>node11</title>\n<text text-anchor=\"middle\" x=\"315\" y=\"-14.3\" font-family=\"Times,serif\" font-size=\"14.00\">NULL</text>\n</g>\n<!-- node5&#45;&gt;node11 -->\n<g id=\"edge11\" class=\"edge\">\n<title>node5&#45;&gt;node11</title>\n<path fill=\"none\" stroke=\"black\" d=\"M315,-71.7C315,-63.98 315,-54.71 315,-46.11\"/>\n<polygon fill=\"black\" stroke=\"black\" points=\"318.5,-46.1 315,-36.1 311.5,-46.1 318.5,-46.1\"/>\n</g>\n<!-- node12 -->\n<g id=\"node13\" class=\"node\">\n<title>node12</title>\n<text text-anchor=\"middle\" x=\"387\" y=\"-14.3\" font-family=\"Times,serif\" font-size=\"14.00\">NULL</text>\n</g>\n<!-- node5&#45;&gt;node12 -->\n<g id=\"edge12\" class=\"edge\">\n<title>node5&#45;&gt;node12</title>\n<path fill=\"none\" stroke=\"black\" d=\"M329.57,-74.83C338.92,-65.75 351.3,-53.71 362.17,-43.14\"/>\n<polygon fill=\"black\" stroke=\"black\" points=\"364.67,-45.59 369.4,-36.11 359.79,-40.57 364.67,-45.59\"/>\n</g>\n</g>\n</svg>\n",
            "text/plain": [
              "<graphviz.graphs.Digraph at 0x7f8c531a93c0>"
            ]
          },
          "metadata": {}
        }
      ]
    },
    {
      "cell_type": "code",
      "source": [
        "bintree1.array[3]"
      ],
      "metadata": {
        "colab": {
          "base_uri": "https://localhost:8080/"
        },
        "id": "dgiN-7axrdHJ",
        "outputId": "6f943ea8-a952-445a-e832-8651b15947ba"
      },
      "execution_count": null,
      "outputs": [
        {
          "output_type": "execute_result",
          "data": {
            "text/plain": [
              "77"
            ]
          },
          "metadata": {},
          "execution_count": 35
        }
      ]
    },
    {
      "cell_type": "code",
      "source": [
        "bintree1.heapify_bottomup(3)"
      ],
      "metadata": {
        "id": "SyYWWVwGruGA"
      },
      "execution_count": null,
      "outputs": []
    },
    {
      "cell_type": "code",
      "source": [
        "display(bintree1.get_digraph_simple())"
      ],
      "metadata": {
        "colab": {
          "base_uri": "https://localhost:8080/",
          "height": 368
        },
        "id": "NXgNrqbCsBl9",
        "outputId": "6c9999eb-a5ba-4cf8-b643-67fa6fcd9128"
      },
      "execution_count": null,
      "outputs": [
        {
          "output_type": "display_data",
          "data": {
            "image/svg+xml": "<?xml version=\"1.0\" encoding=\"UTF-8\" standalone=\"no\"?>\n<!DOCTYPE svg PUBLIC \"-//W3C//DTD SVG 1.1//EN\"\n \"http://www.w3.org/Graphics/SVG/1.1/DTD/svg11.dtd\">\n<!-- Generated by graphviz version 2.43.0 (0)\n -->\n<!-- Title: %3 Pages: 1 -->\n<svg width=\"422pt\" height=\"260pt\"\n viewBox=\"0.00 0.00 422.00 260.00\" xmlns=\"http://www.w3.org/2000/svg\" xmlns:xlink=\"http://www.w3.org/1999/xlink\">\n<g id=\"graph0\" class=\"graph\" transform=\"scale(1 1) rotate(0) translate(4 256)\">\n<title>%3</title>\n<polygon fill=\"white\" stroke=\"transparent\" points=\"-4,4 -4,-256 418,-256 418,4 -4,4\"/>\n<!-- node0 -->\n<g id=\"node1\" class=\"node\">\n<title>node0</title>\n<ellipse fill=\"none\" stroke=\"black\" cx=\"279\" cy=\"-234\" rx=\"27\" ry=\"18\"/>\n<text text-anchor=\"middle\" x=\"279\" y=\"-230.3\" font-family=\"Times,serif\" font-size=\"14.00\">77</text>\n</g>\n<!-- node1 -->\n<g id=\"node2\" class=\"node\">\n<title>node1</title>\n<ellipse fill=\"none\" stroke=\"black\" cx=\"207\" cy=\"-162\" rx=\"27\" ry=\"18\"/>\n<text text-anchor=\"middle\" x=\"207\" y=\"-158.3\" font-family=\"Times,serif\" font-size=\"14.00\">11</text>\n</g>\n<!-- node0&#45;&gt;node1 -->\n<g id=\"edge1\" class=\"edge\">\n<title>node0&#45;&gt;node1</title>\n<path fill=\"none\" stroke=\"black\" d=\"M264.43,-218.83C254.25,-208.94 240.48,-195.55 228.97,-184.36\"/>\n<polygon fill=\"black\" stroke=\"black\" points=\"231.41,-181.85 221.8,-177.38 226.53,-186.87 231.41,-181.85\"/>\n</g>\n<!-- node2 -->\n<g id=\"node3\" class=\"node\">\n<title>node2</title>\n<ellipse fill=\"none\" stroke=\"black\" cx=\"315\" cy=\"-162\" rx=\"27\" ry=\"18\"/>\n<text text-anchor=\"middle\" x=\"315\" y=\"-158.3\" font-family=\"Times,serif\" font-size=\"14.00\">44</text>\n</g>\n<!-- node0&#45;&gt;node2 -->\n<g id=\"edge2\" class=\"edge\">\n<title>node0&#45;&gt;node2</title>\n<path fill=\"none\" stroke=\"black\" d=\"M287.35,-216.76C291.71,-208.28 297.15,-197.71 302.04,-188.2\"/>\n<polygon fill=\"black\" stroke=\"black\" points=\"305.23,-189.64 306.7,-179.15 299.01,-186.44 305.23,-189.64\"/>\n</g>\n<!-- node3 -->\n<g id=\"node4\" class=\"node\">\n<title>node3</title>\n<ellipse fill=\"none\" stroke=\"black\" cx=\"99\" cy=\"-90\" rx=\"27\" ry=\"18\"/>\n<text text-anchor=\"middle\" x=\"99\" y=\"-86.3\" font-family=\"Times,serif\" font-size=\"14.00\">22</text>\n</g>\n<!-- node1&#45;&gt;node3 -->\n<g id=\"edge3\" class=\"edge\">\n<title>node1&#45;&gt;node3</title>\n<path fill=\"none\" stroke=\"black\" d=\"M188.19,-148.81C171,-137.67 145.38,-121.06 126.01,-108.5\"/>\n<polygon fill=\"black\" stroke=\"black\" points=\"127.89,-105.56 117.6,-103.05 124.08,-111.43 127.89,-105.56\"/>\n</g>\n<!-- node4 -->\n<g id=\"node5\" class=\"node\">\n<title>node4</title>\n<ellipse fill=\"none\" stroke=\"black\" cx=\"207\" cy=\"-90\" rx=\"27\" ry=\"18\"/>\n<text text-anchor=\"middle\" x=\"207\" y=\"-86.3\" font-family=\"Times,serif\" font-size=\"14.00\">66</text>\n</g>\n<!-- node1&#45;&gt;node4 -->\n<g id=\"edge4\" class=\"edge\">\n<title>node1&#45;&gt;node4</title>\n<path fill=\"none\" stroke=\"black\" d=\"M207,-143.7C207,-135.98 207,-126.71 207,-118.11\"/>\n<polygon fill=\"black\" stroke=\"black\" points=\"210.5,-118.1 207,-108.1 203.5,-118.1 210.5,-118.1\"/>\n</g>\n<!-- node5 -->\n<g id=\"node6\" class=\"node\">\n<title>node5</title>\n<ellipse fill=\"none\" stroke=\"black\" cx=\"315\" cy=\"-90\" rx=\"27\" ry=\"18\"/>\n<text text-anchor=\"middle\" x=\"315\" y=\"-86.3\" font-family=\"Times,serif\" font-size=\"14.00\">33</text>\n</g>\n<!-- node2&#45;&gt;node5 -->\n<g id=\"edge5\" class=\"edge\">\n<title>node2&#45;&gt;node5</title>\n<path fill=\"none\" stroke=\"black\" d=\"M315,-143.7C315,-135.98 315,-126.71 315,-118.11\"/>\n<polygon fill=\"black\" stroke=\"black\" points=\"318.5,-118.1 315,-108.1 311.5,-118.1 318.5,-118.1\"/>\n</g>\n<!-- node6 -->\n<g id=\"node7\" class=\"node\">\n<title>node6</title>\n<text text-anchor=\"middle\" x=\"387\" y=\"-86.3\" font-family=\"Times,serif\" font-size=\"14.00\">NULL</text>\n</g>\n<!-- node2&#45;&gt;node6 -->\n<g id=\"edge6\" class=\"edge\">\n<title>node2&#45;&gt;node6</title>\n<path fill=\"none\" stroke=\"black\" d=\"M329.57,-146.83C338.92,-137.75 351.3,-125.71 362.17,-115.14\"/>\n<polygon fill=\"black\" stroke=\"black\" points=\"364.67,-117.59 369.4,-108.11 359.79,-112.57 364.67,-117.59\"/>\n</g>\n<!-- node7 -->\n<g id=\"node8\" class=\"node\">\n<title>node7</title>\n<text text-anchor=\"middle\" x=\"27\" y=\"-14.3\" font-family=\"Times,serif\" font-size=\"14.00\">NULL</text>\n</g>\n<!-- node3&#45;&gt;node7 -->\n<g id=\"edge7\" class=\"edge\">\n<title>node3&#45;&gt;node7</title>\n<path fill=\"none\" stroke=\"black\" d=\"M84.43,-74.83C75.08,-65.75 62.7,-53.71 51.83,-43.14\"/>\n<polygon fill=\"black\" stroke=\"black\" points=\"54.21,-40.57 44.6,-36.11 49.33,-45.59 54.21,-40.57\"/>\n</g>\n<!-- node8 -->\n<g id=\"node9\" class=\"node\">\n<title>node8</title>\n<text text-anchor=\"middle\" x=\"99\" y=\"-14.3\" font-family=\"Times,serif\" font-size=\"14.00\">NULL</text>\n</g>\n<!-- node3&#45;&gt;node8 -->\n<g id=\"edge8\" class=\"edge\">\n<title>node3&#45;&gt;node8</title>\n<path fill=\"none\" stroke=\"black\" d=\"M99,-71.7C99,-63.98 99,-54.71 99,-46.11\"/>\n<polygon fill=\"black\" stroke=\"black\" points=\"102.5,-46.1 99,-36.1 95.5,-46.1 102.5,-46.1\"/>\n</g>\n<!-- node9 -->\n<g id=\"node10\" class=\"node\">\n<title>node9</title>\n<text text-anchor=\"middle\" x=\"171\" y=\"-14.3\" font-family=\"Times,serif\" font-size=\"14.00\">NULL</text>\n</g>\n<!-- node4&#45;&gt;node9 -->\n<g id=\"edge9\" class=\"edge\">\n<title>node4&#45;&gt;node9</title>\n<path fill=\"none\" stroke=\"black\" d=\"M198.65,-72.76C194.46,-64.61 189.27,-54.53 184.53,-45.31\"/>\n<polygon fill=\"black\" stroke=\"black\" points=\"187.49,-43.42 179.81,-36.12 181.27,-46.62 187.49,-43.42\"/>\n</g>\n<!-- node10 -->\n<g id=\"node11\" class=\"node\">\n<title>node10</title>\n<text text-anchor=\"middle\" x=\"243\" y=\"-14.3\" font-family=\"Times,serif\" font-size=\"14.00\">NULL</text>\n</g>\n<!-- node4&#45;&gt;node10 -->\n<g id=\"edge10\" class=\"edge\">\n<title>node4&#45;&gt;node10</title>\n<path fill=\"none\" stroke=\"black\" d=\"M215.35,-72.76C219.54,-64.61 224.73,-54.53 229.47,-45.31\"/>\n<polygon fill=\"black\" stroke=\"black\" points=\"232.73,-46.62 234.19,-36.12 226.51,-43.42 232.73,-46.62\"/>\n</g>\n<!-- node11 -->\n<g id=\"node12\" class=\"node\">\n<title>node11</title>\n<text text-anchor=\"middle\" x=\"315\" y=\"-14.3\" font-family=\"Times,serif\" font-size=\"14.00\">NULL</text>\n</g>\n<!-- node5&#45;&gt;node11 -->\n<g id=\"edge11\" class=\"edge\">\n<title>node5&#45;&gt;node11</title>\n<path fill=\"none\" stroke=\"black\" d=\"M315,-71.7C315,-63.98 315,-54.71 315,-46.11\"/>\n<polygon fill=\"black\" stroke=\"black\" points=\"318.5,-46.1 315,-36.1 311.5,-46.1 318.5,-46.1\"/>\n</g>\n<!-- node12 -->\n<g id=\"node13\" class=\"node\">\n<title>node12</title>\n<text text-anchor=\"middle\" x=\"387\" y=\"-14.3\" font-family=\"Times,serif\" font-size=\"14.00\">NULL</text>\n</g>\n<!-- node5&#45;&gt;node12 -->\n<g id=\"edge12\" class=\"edge\">\n<title>node5&#45;&gt;node12</title>\n<path fill=\"none\" stroke=\"black\" d=\"M329.57,-74.83C338.92,-65.75 351.3,-53.71 362.17,-43.14\"/>\n<polygon fill=\"black\" stroke=\"black\" points=\"364.67,-45.59 369.4,-36.11 359.79,-40.57 364.67,-45.59\"/>\n</g>\n</g>\n</svg>\n",
            "text/plain": [
              "<graphviz.graphs.Digraph at 0x7f8c531a9ff0>"
            ]
          },
          "metadata": {}
        }
      ]
    },
    {
      "cell_type": "code",
      "source": [
        "bintree1.heapify_topdown()"
      ],
      "metadata": {
        "id": "jvWC4RPtsD7q"
      },
      "execution_count": null,
      "outputs": []
    },
    {
      "cell_type": "code",
      "source": [
        "display(bintree1.get_digraph_simple())"
      ],
      "metadata": {
        "colab": {
          "base_uri": "https://localhost:8080/",
          "height": 368
        },
        "id": "LM88fOFIsRv7",
        "outputId": "8e88e27a-8681-4bdc-8e90-b45a853e6207"
      },
      "execution_count": null,
      "outputs": [
        {
          "output_type": "display_data",
          "data": {
            "image/svg+xml": "<?xml version=\"1.0\" encoding=\"UTF-8\" standalone=\"no\"?>\n<!DOCTYPE svg PUBLIC \"-//W3C//DTD SVG 1.1//EN\"\n \"http://www.w3.org/Graphics/SVG/1.1/DTD/svg11.dtd\">\n<!-- Generated by graphviz version 2.43.0 (0)\n -->\n<!-- Title: %3 Pages: 1 -->\n<svg width=\"422pt\" height=\"260pt\"\n viewBox=\"0.00 0.00 422.00 260.00\" xmlns=\"http://www.w3.org/2000/svg\" xmlns:xlink=\"http://www.w3.org/1999/xlink\">\n<g id=\"graph0\" class=\"graph\" transform=\"scale(1 1) rotate(0) translate(4 256)\">\n<title>%3</title>\n<polygon fill=\"white\" stroke=\"transparent\" points=\"-4,4 -4,-256 418,-256 418,4 -4,4\"/>\n<!-- node0 -->\n<g id=\"node1\" class=\"node\">\n<title>node0</title>\n<ellipse fill=\"none\" stroke=\"black\" cx=\"279\" cy=\"-234\" rx=\"27\" ry=\"18\"/>\n<text text-anchor=\"middle\" x=\"279\" y=\"-230.3\" font-family=\"Times,serif\" font-size=\"14.00\">77</text>\n</g>\n<!-- node1 -->\n<g id=\"node2\" class=\"node\">\n<title>node1</title>\n<ellipse fill=\"none\" stroke=\"black\" cx=\"207\" cy=\"-162\" rx=\"27\" ry=\"18\"/>\n<text text-anchor=\"middle\" x=\"207\" y=\"-158.3\" font-family=\"Times,serif\" font-size=\"14.00\">11</text>\n</g>\n<!-- node0&#45;&gt;node1 -->\n<g id=\"edge1\" class=\"edge\">\n<title>node0&#45;&gt;node1</title>\n<path fill=\"none\" stroke=\"black\" d=\"M264.43,-218.83C254.25,-208.94 240.48,-195.55 228.97,-184.36\"/>\n<polygon fill=\"black\" stroke=\"black\" points=\"231.41,-181.85 221.8,-177.38 226.53,-186.87 231.41,-181.85\"/>\n</g>\n<!-- node2 -->\n<g id=\"node3\" class=\"node\">\n<title>node2</title>\n<ellipse fill=\"none\" stroke=\"black\" cx=\"315\" cy=\"-162\" rx=\"27\" ry=\"18\"/>\n<text text-anchor=\"middle\" x=\"315\" y=\"-158.3\" font-family=\"Times,serif\" font-size=\"14.00\">44</text>\n</g>\n<!-- node0&#45;&gt;node2 -->\n<g id=\"edge2\" class=\"edge\">\n<title>node0&#45;&gt;node2</title>\n<path fill=\"none\" stroke=\"black\" d=\"M287.35,-216.76C291.71,-208.28 297.15,-197.71 302.04,-188.2\"/>\n<polygon fill=\"black\" stroke=\"black\" points=\"305.23,-189.64 306.7,-179.15 299.01,-186.44 305.23,-189.64\"/>\n</g>\n<!-- node3 -->\n<g id=\"node4\" class=\"node\">\n<title>node3</title>\n<ellipse fill=\"none\" stroke=\"black\" cx=\"99\" cy=\"-90\" rx=\"27\" ry=\"18\"/>\n<text text-anchor=\"middle\" x=\"99\" y=\"-86.3\" font-family=\"Times,serif\" font-size=\"14.00\">22</text>\n</g>\n<!-- node1&#45;&gt;node3 -->\n<g id=\"edge3\" class=\"edge\">\n<title>node1&#45;&gt;node3</title>\n<path fill=\"none\" stroke=\"black\" d=\"M188.19,-148.81C171,-137.67 145.38,-121.06 126.01,-108.5\"/>\n<polygon fill=\"black\" stroke=\"black\" points=\"127.89,-105.56 117.6,-103.05 124.08,-111.43 127.89,-105.56\"/>\n</g>\n<!-- node4 -->\n<g id=\"node5\" class=\"node\">\n<title>node4</title>\n<ellipse fill=\"none\" stroke=\"black\" cx=\"207\" cy=\"-90\" rx=\"27\" ry=\"18\"/>\n<text text-anchor=\"middle\" x=\"207\" y=\"-86.3\" font-family=\"Times,serif\" font-size=\"14.00\">66</text>\n</g>\n<!-- node1&#45;&gt;node4 -->\n<g id=\"edge4\" class=\"edge\">\n<title>node1&#45;&gt;node4</title>\n<path fill=\"none\" stroke=\"black\" d=\"M207,-143.7C207,-135.98 207,-126.71 207,-118.11\"/>\n<polygon fill=\"black\" stroke=\"black\" points=\"210.5,-118.1 207,-108.1 203.5,-118.1 210.5,-118.1\"/>\n</g>\n<!-- node5 -->\n<g id=\"node6\" class=\"node\">\n<title>node5</title>\n<ellipse fill=\"none\" stroke=\"black\" cx=\"315\" cy=\"-90\" rx=\"27\" ry=\"18\"/>\n<text text-anchor=\"middle\" x=\"315\" y=\"-86.3\" font-family=\"Times,serif\" font-size=\"14.00\">33</text>\n</g>\n<!-- node2&#45;&gt;node5 -->\n<g id=\"edge5\" class=\"edge\">\n<title>node2&#45;&gt;node5</title>\n<path fill=\"none\" stroke=\"black\" d=\"M315,-143.7C315,-135.98 315,-126.71 315,-118.11\"/>\n<polygon fill=\"black\" stroke=\"black\" points=\"318.5,-118.1 315,-108.1 311.5,-118.1 318.5,-118.1\"/>\n</g>\n<!-- node6 -->\n<g id=\"node7\" class=\"node\">\n<title>node6</title>\n<text text-anchor=\"middle\" x=\"387\" y=\"-86.3\" font-family=\"Times,serif\" font-size=\"14.00\">NULL</text>\n</g>\n<!-- node2&#45;&gt;node6 -->\n<g id=\"edge6\" class=\"edge\">\n<title>node2&#45;&gt;node6</title>\n<path fill=\"none\" stroke=\"black\" d=\"M329.57,-146.83C338.92,-137.75 351.3,-125.71 362.17,-115.14\"/>\n<polygon fill=\"black\" stroke=\"black\" points=\"364.67,-117.59 369.4,-108.11 359.79,-112.57 364.67,-117.59\"/>\n</g>\n<!-- node7 -->\n<g id=\"node8\" class=\"node\">\n<title>node7</title>\n<text text-anchor=\"middle\" x=\"27\" y=\"-14.3\" font-family=\"Times,serif\" font-size=\"14.00\">NULL</text>\n</g>\n<!-- node3&#45;&gt;node7 -->\n<g id=\"edge7\" class=\"edge\">\n<title>node3&#45;&gt;node7</title>\n<path fill=\"none\" stroke=\"black\" d=\"M84.43,-74.83C75.08,-65.75 62.7,-53.71 51.83,-43.14\"/>\n<polygon fill=\"black\" stroke=\"black\" points=\"54.21,-40.57 44.6,-36.11 49.33,-45.59 54.21,-40.57\"/>\n</g>\n<!-- node8 -->\n<g id=\"node9\" class=\"node\">\n<title>node8</title>\n<text text-anchor=\"middle\" x=\"99\" y=\"-14.3\" font-family=\"Times,serif\" font-size=\"14.00\">NULL</text>\n</g>\n<!-- node3&#45;&gt;node8 -->\n<g id=\"edge8\" class=\"edge\">\n<title>node3&#45;&gt;node8</title>\n<path fill=\"none\" stroke=\"black\" d=\"M99,-71.7C99,-63.98 99,-54.71 99,-46.11\"/>\n<polygon fill=\"black\" stroke=\"black\" points=\"102.5,-46.1 99,-36.1 95.5,-46.1 102.5,-46.1\"/>\n</g>\n<!-- node9 -->\n<g id=\"node10\" class=\"node\">\n<title>node9</title>\n<text text-anchor=\"middle\" x=\"171\" y=\"-14.3\" font-family=\"Times,serif\" font-size=\"14.00\">NULL</text>\n</g>\n<!-- node4&#45;&gt;node9 -->\n<g id=\"edge9\" class=\"edge\">\n<title>node4&#45;&gt;node9</title>\n<path fill=\"none\" stroke=\"black\" d=\"M198.65,-72.76C194.46,-64.61 189.27,-54.53 184.53,-45.31\"/>\n<polygon fill=\"black\" stroke=\"black\" points=\"187.49,-43.42 179.81,-36.12 181.27,-46.62 187.49,-43.42\"/>\n</g>\n<!-- node10 -->\n<g id=\"node11\" class=\"node\">\n<title>node10</title>\n<text text-anchor=\"middle\" x=\"243\" y=\"-14.3\" font-family=\"Times,serif\" font-size=\"14.00\">NULL</text>\n</g>\n<!-- node4&#45;&gt;node10 -->\n<g id=\"edge10\" class=\"edge\">\n<title>node4&#45;&gt;node10</title>\n<path fill=\"none\" stroke=\"black\" d=\"M215.35,-72.76C219.54,-64.61 224.73,-54.53 229.47,-45.31\"/>\n<polygon fill=\"black\" stroke=\"black\" points=\"232.73,-46.62 234.19,-36.12 226.51,-43.42 232.73,-46.62\"/>\n</g>\n<!-- node11 -->\n<g id=\"node12\" class=\"node\">\n<title>node11</title>\n<text text-anchor=\"middle\" x=\"315\" y=\"-14.3\" font-family=\"Times,serif\" font-size=\"14.00\">NULL</text>\n</g>\n<!-- node5&#45;&gt;node11 -->\n<g id=\"edge11\" class=\"edge\">\n<title>node5&#45;&gt;node11</title>\n<path fill=\"none\" stroke=\"black\" d=\"M315,-71.7C315,-63.98 315,-54.71 315,-46.11\"/>\n<polygon fill=\"black\" stroke=\"black\" points=\"318.5,-46.1 315,-36.1 311.5,-46.1 318.5,-46.1\"/>\n</g>\n<!-- node12 -->\n<g id=\"node13\" class=\"node\">\n<title>node12</title>\n<text text-anchor=\"middle\" x=\"387\" y=\"-14.3\" font-family=\"Times,serif\" font-size=\"14.00\">NULL</text>\n</g>\n<!-- node5&#45;&gt;node12 -->\n<g id=\"edge12\" class=\"edge\">\n<title>node5&#45;&gt;node12</title>\n<path fill=\"none\" stroke=\"black\" d=\"M329.57,-74.83C338.92,-65.75 351.3,-53.71 362.17,-43.14\"/>\n<polygon fill=\"black\" stroke=\"black\" points=\"364.67,-45.59 369.4,-36.11 359.79,-40.57 364.67,-45.59\"/>\n</g>\n</g>\n</svg>\n",
            "text/plain": [
              "<graphviz.graphs.Digraph at 0x7f8c531ab0d0>"
            ]
          },
          "metadata": {}
        }
      ]
    },
    {
      "cell_type": "code",
      "source": [
        "print(bintree1.array)"
      ],
      "metadata": {
        "colab": {
          "base_uri": "https://localhost:8080/"
        },
        "id": "CxR3rBI0sTVV",
        "outputId": "8fb8e1fd-a641-4eda-f605-653ce594da6c"
      },
      "execution_count": null,
      "outputs": [
        {
          "output_type": "stream",
          "name": "stdout",
          "text": [
            "[   77    11    44    22    66    33 -9999 -9999 -9999 -9999 -9999 -9999\n",
            " -9999 -9999 -9999]\n"
          ]
        }
      ]
    },
    {
      "cell_type": "code",
      "source": [
        "bintree1.array[5]"
      ],
      "metadata": {
        "colab": {
          "base_uri": "https://localhost:8080/"
        },
        "id": "9SYaPKMOsoiO",
        "outputId": "ea66b4d7-9693-489b-de21-b0d89a8d7e0f"
      },
      "execution_count": null,
      "outputs": [
        {
          "output_type": "execute_result",
          "data": {
            "text/plain": [
              "33"
            ]
          },
          "metadata": {},
          "execution_count": 41
        }
      ]
    },
    {
      "cell_type": "code",
      "source": [
        "bintree1.heapify_bottomup(5)"
      ],
      "metadata": {
        "id": "cO8dh9zMssP8"
      },
      "execution_count": null,
      "outputs": []
    },
    {
      "cell_type": "code",
      "source": [
        "display(bintree1.get_digraph_simple())"
      ],
      "metadata": {
        "colab": {
          "base_uri": "https://localhost:8080/",
          "height": 368
        },
        "id": "GLwss6iNsynx",
        "outputId": "b32752ab-ce17-4ab5-add6-f25cfc8a96cd"
      },
      "execution_count": null,
      "outputs": [
        {
          "output_type": "display_data",
          "data": {
            "image/svg+xml": "<?xml version=\"1.0\" encoding=\"UTF-8\" standalone=\"no\"?>\n<!DOCTYPE svg PUBLIC \"-//W3C//DTD SVG 1.1//EN\"\n \"http://www.w3.org/Graphics/SVG/1.1/DTD/svg11.dtd\">\n<!-- Generated by graphviz version 2.43.0 (0)\n -->\n<!-- Title: %3 Pages: 1 -->\n<svg width=\"422pt\" height=\"260pt\"\n viewBox=\"0.00 0.00 422.00 260.00\" xmlns=\"http://www.w3.org/2000/svg\" xmlns:xlink=\"http://www.w3.org/1999/xlink\">\n<g id=\"graph0\" class=\"graph\" transform=\"scale(1 1) rotate(0) translate(4 256)\">\n<title>%3</title>\n<polygon fill=\"white\" stroke=\"transparent\" points=\"-4,4 -4,-256 418,-256 418,4 -4,4\"/>\n<!-- node0 -->\n<g id=\"node1\" class=\"node\">\n<title>node0</title>\n<ellipse fill=\"none\" stroke=\"black\" cx=\"279\" cy=\"-234\" rx=\"27\" ry=\"18\"/>\n<text text-anchor=\"middle\" x=\"279\" y=\"-230.3\" font-family=\"Times,serif\" font-size=\"14.00\">77</text>\n</g>\n<!-- node1 -->\n<g id=\"node2\" class=\"node\">\n<title>node1</title>\n<ellipse fill=\"none\" stroke=\"black\" cx=\"207\" cy=\"-162\" rx=\"27\" ry=\"18\"/>\n<text text-anchor=\"middle\" x=\"207\" y=\"-158.3\" font-family=\"Times,serif\" font-size=\"14.00\">11</text>\n</g>\n<!-- node0&#45;&gt;node1 -->\n<g id=\"edge1\" class=\"edge\">\n<title>node0&#45;&gt;node1</title>\n<path fill=\"none\" stroke=\"black\" d=\"M264.43,-218.83C254.25,-208.94 240.48,-195.55 228.97,-184.36\"/>\n<polygon fill=\"black\" stroke=\"black\" points=\"231.41,-181.85 221.8,-177.38 226.53,-186.87 231.41,-181.85\"/>\n</g>\n<!-- node2 -->\n<g id=\"node3\" class=\"node\">\n<title>node2</title>\n<ellipse fill=\"none\" stroke=\"black\" cx=\"315\" cy=\"-162\" rx=\"27\" ry=\"18\"/>\n<text text-anchor=\"middle\" x=\"315\" y=\"-158.3\" font-family=\"Times,serif\" font-size=\"14.00\">44</text>\n</g>\n<!-- node0&#45;&gt;node2 -->\n<g id=\"edge2\" class=\"edge\">\n<title>node0&#45;&gt;node2</title>\n<path fill=\"none\" stroke=\"black\" d=\"M287.35,-216.76C291.71,-208.28 297.15,-197.71 302.04,-188.2\"/>\n<polygon fill=\"black\" stroke=\"black\" points=\"305.23,-189.64 306.7,-179.15 299.01,-186.44 305.23,-189.64\"/>\n</g>\n<!-- node3 -->\n<g id=\"node4\" class=\"node\">\n<title>node3</title>\n<ellipse fill=\"none\" stroke=\"black\" cx=\"99\" cy=\"-90\" rx=\"27\" ry=\"18\"/>\n<text text-anchor=\"middle\" x=\"99\" y=\"-86.3\" font-family=\"Times,serif\" font-size=\"14.00\">22</text>\n</g>\n<!-- node1&#45;&gt;node3 -->\n<g id=\"edge3\" class=\"edge\">\n<title>node1&#45;&gt;node3</title>\n<path fill=\"none\" stroke=\"black\" d=\"M188.19,-148.81C171,-137.67 145.38,-121.06 126.01,-108.5\"/>\n<polygon fill=\"black\" stroke=\"black\" points=\"127.89,-105.56 117.6,-103.05 124.08,-111.43 127.89,-105.56\"/>\n</g>\n<!-- node4 -->\n<g id=\"node5\" class=\"node\">\n<title>node4</title>\n<ellipse fill=\"none\" stroke=\"black\" cx=\"207\" cy=\"-90\" rx=\"27\" ry=\"18\"/>\n<text text-anchor=\"middle\" x=\"207\" y=\"-86.3\" font-family=\"Times,serif\" font-size=\"14.00\">66</text>\n</g>\n<!-- node1&#45;&gt;node4 -->\n<g id=\"edge4\" class=\"edge\">\n<title>node1&#45;&gt;node4</title>\n<path fill=\"none\" stroke=\"black\" d=\"M207,-143.7C207,-135.98 207,-126.71 207,-118.11\"/>\n<polygon fill=\"black\" stroke=\"black\" points=\"210.5,-118.1 207,-108.1 203.5,-118.1 210.5,-118.1\"/>\n</g>\n<!-- node5 -->\n<g id=\"node6\" class=\"node\">\n<title>node5</title>\n<ellipse fill=\"none\" stroke=\"black\" cx=\"315\" cy=\"-90\" rx=\"27\" ry=\"18\"/>\n<text text-anchor=\"middle\" x=\"315\" y=\"-86.3\" font-family=\"Times,serif\" font-size=\"14.00\">33</text>\n</g>\n<!-- node2&#45;&gt;node5 -->\n<g id=\"edge5\" class=\"edge\">\n<title>node2&#45;&gt;node5</title>\n<path fill=\"none\" stroke=\"black\" d=\"M315,-143.7C315,-135.98 315,-126.71 315,-118.11\"/>\n<polygon fill=\"black\" stroke=\"black\" points=\"318.5,-118.1 315,-108.1 311.5,-118.1 318.5,-118.1\"/>\n</g>\n<!-- node6 -->\n<g id=\"node7\" class=\"node\">\n<title>node6</title>\n<text text-anchor=\"middle\" x=\"387\" y=\"-86.3\" font-family=\"Times,serif\" font-size=\"14.00\">NULL</text>\n</g>\n<!-- node2&#45;&gt;node6 -->\n<g id=\"edge6\" class=\"edge\">\n<title>node2&#45;&gt;node6</title>\n<path fill=\"none\" stroke=\"black\" d=\"M329.57,-146.83C338.92,-137.75 351.3,-125.71 362.17,-115.14\"/>\n<polygon fill=\"black\" stroke=\"black\" points=\"364.67,-117.59 369.4,-108.11 359.79,-112.57 364.67,-117.59\"/>\n</g>\n<!-- node7 -->\n<g id=\"node8\" class=\"node\">\n<title>node7</title>\n<text text-anchor=\"middle\" x=\"27\" y=\"-14.3\" font-family=\"Times,serif\" font-size=\"14.00\">NULL</text>\n</g>\n<!-- node3&#45;&gt;node7 -->\n<g id=\"edge7\" class=\"edge\">\n<title>node3&#45;&gt;node7</title>\n<path fill=\"none\" stroke=\"black\" d=\"M84.43,-74.83C75.08,-65.75 62.7,-53.71 51.83,-43.14\"/>\n<polygon fill=\"black\" stroke=\"black\" points=\"54.21,-40.57 44.6,-36.11 49.33,-45.59 54.21,-40.57\"/>\n</g>\n<!-- node8 -->\n<g id=\"node9\" class=\"node\">\n<title>node8</title>\n<text text-anchor=\"middle\" x=\"99\" y=\"-14.3\" font-family=\"Times,serif\" font-size=\"14.00\">NULL</text>\n</g>\n<!-- node3&#45;&gt;node8 -->\n<g id=\"edge8\" class=\"edge\">\n<title>node3&#45;&gt;node8</title>\n<path fill=\"none\" stroke=\"black\" d=\"M99,-71.7C99,-63.98 99,-54.71 99,-46.11\"/>\n<polygon fill=\"black\" stroke=\"black\" points=\"102.5,-46.1 99,-36.1 95.5,-46.1 102.5,-46.1\"/>\n</g>\n<!-- node9 -->\n<g id=\"node10\" class=\"node\">\n<title>node9</title>\n<text text-anchor=\"middle\" x=\"171\" y=\"-14.3\" font-family=\"Times,serif\" font-size=\"14.00\">NULL</text>\n</g>\n<!-- node4&#45;&gt;node9 -->\n<g id=\"edge9\" class=\"edge\">\n<title>node4&#45;&gt;node9</title>\n<path fill=\"none\" stroke=\"black\" d=\"M198.65,-72.76C194.46,-64.61 189.27,-54.53 184.53,-45.31\"/>\n<polygon fill=\"black\" stroke=\"black\" points=\"187.49,-43.42 179.81,-36.12 181.27,-46.62 187.49,-43.42\"/>\n</g>\n<!-- node10 -->\n<g id=\"node11\" class=\"node\">\n<title>node10</title>\n<text text-anchor=\"middle\" x=\"243\" y=\"-14.3\" font-family=\"Times,serif\" font-size=\"14.00\">NULL</text>\n</g>\n<!-- node4&#45;&gt;node10 -->\n<g id=\"edge10\" class=\"edge\">\n<title>node4&#45;&gt;node10</title>\n<path fill=\"none\" stroke=\"black\" d=\"M215.35,-72.76C219.54,-64.61 224.73,-54.53 229.47,-45.31\"/>\n<polygon fill=\"black\" stroke=\"black\" points=\"232.73,-46.62 234.19,-36.12 226.51,-43.42 232.73,-46.62\"/>\n</g>\n<!-- node11 -->\n<g id=\"node12\" class=\"node\">\n<title>node11</title>\n<text text-anchor=\"middle\" x=\"315\" y=\"-14.3\" font-family=\"Times,serif\" font-size=\"14.00\">NULL</text>\n</g>\n<!-- node5&#45;&gt;node11 -->\n<g id=\"edge11\" class=\"edge\">\n<title>node5&#45;&gt;node11</title>\n<path fill=\"none\" stroke=\"black\" d=\"M315,-71.7C315,-63.98 315,-54.71 315,-46.11\"/>\n<polygon fill=\"black\" stroke=\"black\" points=\"318.5,-46.1 315,-36.1 311.5,-46.1 318.5,-46.1\"/>\n</g>\n<!-- node12 -->\n<g id=\"node13\" class=\"node\">\n<title>node12</title>\n<text text-anchor=\"middle\" x=\"387\" y=\"-14.3\" font-family=\"Times,serif\" font-size=\"14.00\">NULL</text>\n</g>\n<!-- node5&#45;&gt;node12 -->\n<g id=\"edge12\" class=\"edge\">\n<title>node5&#45;&gt;node12</title>\n<path fill=\"none\" stroke=\"black\" d=\"M329.57,-74.83C338.92,-65.75 351.3,-53.71 362.17,-43.14\"/>\n<polygon fill=\"black\" stroke=\"black\" points=\"364.67,-45.59 369.4,-36.11 359.79,-40.57 364.67,-45.59\"/>\n</g>\n</g>\n</svg>\n",
            "text/plain": [
              "<graphviz.graphs.Digraph at 0x7f8c531abe50>"
            ]
          },
          "metadata": {}
        }
      ]
    },
    {
      "cell_type": "code",
      "source": [
        "bintree1.heapify_all()"
      ],
      "metadata": {
        "id": "1ninH6l4s0Tw"
      },
      "execution_count": null,
      "outputs": []
    },
    {
      "cell_type": "code",
      "source": [
        "display(bintree1.get_digraph_simple())"
      ],
      "metadata": {
        "colab": {
          "base_uri": "https://localhost:8080/",
          "height": 368
        },
        "id": "mJZf4MJss9RN",
        "outputId": "5a4541c8-183e-47ef-90d5-6e0a8f63f8e0"
      },
      "execution_count": null,
      "outputs": [
        {
          "output_type": "display_data",
          "data": {
            "image/svg+xml": "<?xml version=\"1.0\" encoding=\"UTF-8\" standalone=\"no\"?>\n<!DOCTYPE svg PUBLIC \"-//W3C//DTD SVG 1.1//EN\"\n \"http://www.w3.org/Graphics/SVG/1.1/DTD/svg11.dtd\">\n<!-- Generated by graphviz version 2.43.0 (0)\n -->\n<!-- Title: %3 Pages: 1 -->\n<svg width=\"422pt\" height=\"260pt\"\n viewBox=\"0.00 0.00 422.00 260.00\" xmlns=\"http://www.w3.org/2000/svg\" xmlns:xlink=\"http://www.w3.org/1999/xlink\">\n<g id=\"graph0\" class=\"graph\" transform=\"scale(1 1) rotate(0) translate(4 256)\">\n<title>%3</title>\n<polygon fill=\"white\" stroke=\"transparent\" points=\"-4,4 -4,-256 418,-256 418,4 -4,4\"/>\n<!-- node0 -->\n<g id=\"node1\" class=\"node\">\n<title>node0</title>\n<ellipse fill=\"none\" stroke=\"black\" cx=\"279\" cy=\"-234\" rx=\"27\" ry=\"18\"/>\n<text text-anchor=\"middle\" x=\"279\" y=\"-230.3\" font-family=\"Times,serif\" font-size=\"14.00\">77</text>\n</g>\n<!-- node1 -->\n<g id=\"node2\" class=\"node\">\n<title>node1</title>\n<ellipse fill=\"none\" stroke=\"black\" cx=\"207\" cy=\"-162\" rx=\"27\" ry=\"18\"/>\n<text text-anchor=\"middle\" x=\"207\" y=\"-158.3\" font-family=\"Times,serif\" font-size=\"14.00\">66</text>\n</g>\n<!-- node0&#45;&gt;node1 -->\n<g id=\"edge1\" class=\"edge\">\n<title>node0&#45;&gt;node1</title>\n<path fill=\"none\" stroke=\"black\" d=\"M264.43,-218.83C254.25,-208.94 240.48,-195.55 228.97,-184.36\"/>\n<polygon fill=\"black\" stroke=\"black\" points=\"231.41,-181.85 221.8,-177.38 226.53,-186.87 231.41,-181.85\"/>\n</g>\n<!-- node2 -->\n<g id=\"node3\" class=\"node\">\n<title>node2</title>\n<ellipse fill=\"none\" stroke=\"black\" cx=\"315\" cy=\"-162\" rx=\"27\" ry=\"18\"/>\n<text text-anchor=\"middle\" x=\"315\" y=\"-158.3\" font-family=\"Times,serif\" font-size=\"14.00\">44</text>\n</g>\n<!-- node0&#45;&gt;node2 -->\n<g id=\"edge2\" class=\"edge\">\n<title>node0&#45;&gt;node2</title>\n<path fill=\"none\" stroke=\"black\" d=\"M287.35,-216.76C291.71,-208.28 297.15,-197.71 302.04,-188.2\"/>\n<polygon fill=\"black\" stroke=\"black\" points=\"305.23,-189.64 306.7,-179.15 299.01,-186.44 305.23,-189.64\"/>\n</g>\n<!-- node3 -->\n<g id=\"node4\" class=\"node\">\n<title>node3</title>\n<ellipse fill=\"none\" stroke=\"black\" cx=\"99\" cy=\"-90\" rx=\"27\" ry=\"18\"/>\n<text text-anchor=\"middle\" x=\"99\" y=\"-86.3\" font-family=\"Times,serif\" font-size=\"14.00\">22</text>\n</g>\n<!-- node1&#45;&gt;node3 -->\n<g id=\"edge3\" class=\"edge\">\n<title>node1&#45;&gt;node3</title>\n<path fill=\"none\" stroke=\"black\" d=\"M188.19,-148.81C171,-137.67 145.38,-121.06 126.01,-108.5\"/>\n<polygon fill=\"black\" stroke=\"black\" points=\"127.89,-105.56 117.6,-103.05 124.08,-111.43 127.89,-105.56\"/>\n</g>\n<!-- node4 -->\n<g id=\"node5\" class=\"node\">\n<title>node4</title>\n<ellipse fill=\"none\" stroke=\"black\" cx=\"207\" cy=\"-90\" rx=\"27\" ry=\"18\"/>\n<text text-anchor=\"middle\" x=\"207\" y=\"-86.3\" font-family=\"Times,serif\" font-size=\"14.00\">11</text>\n</g>\n<!-- node1&#45;&gt;node4 -->\n<g id=\"edge4\" class=\"edge\">\n<title>node1&#45;&gt;node4</title>\n<path fill=\"none\" stroke=\"black\" d=\"M207,-143.7C207,-135.98 207,-126.71 207,-118.11\"/>\n<polygon fill=\"black\" stroke=\"black\" points=\"210.5,-118.1 207,-108.1 203.5,-118.1 210.5,-118.1\"/>\n</g>\n<!-- node5 -->\n<g id=\"node6\" class=\"node\">\n<title>node5</title>\n<ellipse fill=\"none\" stroke=\"black\" cx=\"315\" cy=\"-90\" rx=\"27\" ry=\"18\"/>\n<text text-anchor=\"middle\" x=\"315\" y=\"-86.3\" font-family=\"Times,serif\" font-size=\"14.00\">33</text>\n</g>\n<!-- node2&#45;&gt;node5 -->\n<g id=\"edge5\" class=\"edge\">\n<title>node2&#45;&gt;node5</title>\n<path fill=\"none\" stroke=\"black\" d=\"M315,-143.7C315,-135.98 315,-126.71 315,-118.11\"/>\n<polygon fill=\"black\" stroke=\"black\" points=\"318.5,-118.1 315,-108.1 311.5,-118.1 318.5,-118.1\"/>\n</g>\n<!-- node6 -->\n<g id=\"node7\" class=\"node\">\n<title>node6</title>\n<text text-anchor=\"middle\" x=\"387\" y=\"-86.3\" font-family=\"Times,serif\" font-size=\"14.00\">NULL</text>\n</g>\n<!-- node2&#45;&gt;node6 -->\n<g id=\"edge6\" class=\"edge\">\n<title>node2&#45;&gt;node6</title>\n<path fill=\"none\" stroke=\"black\" d=\"M329.57,-146.83C338.92,-137.75 351.3,-125.71 362.17,-115.14\"/>\n<polygon fill=\"black\" stroke=\"black\" points=\"364.67,-117.59 369.4,-108.11 359.79,-112.57 364.67,-117.59\"/>\n</g>\n<!-- node7 -->\n<g id=\"node8\" class=\"node\">\n<title>node7</title>\n<text text-anchor=\"middle\" x=\"27\" y=\"-14.3\" font-family=\"Times,serif\" font-size=\"14.00\">NULL</text>\n</g>\n<!-- node3&#45;&gt;node7 -->\n<g id=\"edge7\" class=\"edge\">\n<title>node3&#45;&gt;node7</title>\n<path fill=\"none\" stroke=\"black\" d=\"M84.43,-74.83C75.08,-65.75 62.7,-53.71 51.83,-43.14\"/>\n<polygon fill=\"black\" stroke=\"black\" points=\"54.21,-40.57 44.6,-36.11 49.33,-45.59 54.21,-40.57\"/>\n</g>\n<!-- node8 -->\n<g id=\"node9\" class=\"node\">\n<title>node8</title>\n<text text-anchor=\"middle\" x=\"99\" y=\"-14.3\" font-family=\"Times,serif\" font-size=\"14.00\">NULL</text>\n</g>\n<!-- node3&#45;&gt;node8 -->\n<g id=\"edge8\" class=\"edge\">\n<title>node3&#45;&gt;node8</title>\n<path fill=\"none\" stroke=\"black\" d=\"M99,-71.7C99,-63.98 99,-54.71 99,-46.11\"/>\n<polygon fill=\"black\" stroke=\"black\" points=\"102.5,-46.1 99,-36.1 95.5,-46.1 102.5,-46.1\"/>\n</g>\n<!-- node9 -->\n<g id=\"node10\" class=\"node\">\n<title>node9</title>\n<text text-anchor=\"middle\" x=\"171\" y=\"-14.3\" font-family=\"Times,serif\" font-size=\"14.00\">NULL</text>\n</g>\n<!-- node4&#45;&gt;node9 -->\n<g id=\"edge9\" class=\"edge\">\n<title>node4&#45;&gt;node9</title>\n<path fill=\"none\" stroke=\"black\" d=\"M198.65,-72.76C194.46,-64.61 189.27,-54.53 184.53,-45.31\"/>\n<polygon fill=\"black\" stroke=\"black\" points=\"187.49,-43.42 179.81,-36.12 181.27,-46.62 187.49,-43.42\"/>\n</g>\n<!-- node10 -->\n<g id=\"node11\" class=\"node\">\n<title>node10</title>\n<text text-anchor=\"middle\" x=\"243\" y=\"-14.3\" font-family=\"Times,serif\" font-size=\"14.00\">NULL</text>\n</g>\n<!-- node4&#45;&gt;node10 -->\n<g id=\"edge10\" class=\"edge\">\n<title>node4&#45;&gt;node10</title>\n<path fill=\"none\" stroke=\"black\" d=\"M215.35,-72.76C219.54,-64.61 224.73,-54.53 229.47,-45.31\"/>\n<polygon fill=\"black\" stroke=\"black\" points=\"232.73,-46.62 234.19,-36.12 226.51,-43.42 232.73,-46.62\"/>\n</g>\n<!-- node11 -->\n<g id=\"node12\" class=\"node\">\n<title>node11</title>\n<text text-anchor=\"middle\" x=\"315\" y=\"-14.3\" font-family=\"Times,serif\" font-size=\"14.00\">NULL</text>\n</g>\n<!-- node5&#45;&gt;node11 -->\n<g id=\"edge11\" class=\"edge\">\n<title>node5&#45;&gt;node11</title>\n<path fill=\"none\" stroke=\"black\" d=\"M315,-71.7C315,-63.98 315,-54.71 315,-46.11\"/>\n<polygon fill=\"black\" stroke=\"black\" points=\"318.5,-46.1 315,-36.1 311.5,-46.1 318.5,-46.1\"/>\n</g>\n<!-- node12 -->\n<g id=\"node13\" class=\"node\">\n<title>node12</title>\n<text text-anchor=\"middle\" x=\"387\" y=\"-14.3\" font-family=\"Times,serif\" font-size=\"14.00\">NULL</text>\n</g>\n<!-- node5&#45;&gt;node12 -->\n<g id=\"edge12\" class=\"edge\">\n<title>node5&#45;&gt;node12</title>\n<path fill=\"none\" stroke=\"black\" d=\"M329.57,-74.83C338.92,-65.75 351.3,-53.71 362.17,-43.14\"/>\n<polygon fill=\"black\" stroke=\"black\" points=\"364.67,-45.59 369.4,-36.11 359.79,-40.57 364.67,-45.59\"/>\n</g>\n</g>\n</svg>\n",
            "text/plain": [
              "<graphviz.graphs.Digraph at 0x7f8c531a9a80>"
            ]
          },
          "metadata": {}
        }
      ]
    },
    {
      "cell_type": "code",
      "source": [
        "arraymaxheap = ArrayMaxHeap(int, 4)"
      ],
      "metadata": {
        "id": "5M41Q1ges_YD"
      },
      "execution_count": null,
      "outputs": []
    },
    {
      "cell_type": "code",
      "source": [
        "arraymaxheap.insert(50)"
      ],
      "metadata": {
        "id": "gSFZtr4Dtbof"
      },
      "execution_count": null,
      "outputs": []
    },
    {
      "cell_type": "code",
      "source": [
        "display(arraymaxheap.get_digraph_simple())"
      ],
      "metadata": {
        "colab": {
          "base_uri": "https://localhost:8080/",
          "height": 176
        },
        "id": "6HRW2haztedH",
        "outputId": "3f907428-8b94-4bc7-cb7c-12368e27fc9c"
      },
      "execution_count": null,
      "outputs": [
        {
          "output_type": "display_data",
          "data": {
            "image/svg+xml": "<?xml version=\"1.0\" encoding=\"UTF-8\" standalone=\"no\"?>\n<!DOCTYPE svg PUBLIC \"-//W3C//DTD SVG 1.1//EN\"\n \"http://www.w3.org/Graphics/SVG/1.1/DTD/svg11.dtd\">\n<!-- Generated by graphviz version 2.43.0 (0)\n -->\n<!-- Title: %3 Pages: 1 -->\n<svg width=\"134pt\" height=\"116pt\"\n viewBox=\"0.00 0.00 134.00 116.00\" xmlns=\"http://www.w3.org/2000/svg\" xmlns:xlink=\"http://www.w3.org/1999/xlink\">\n<g id=\"graph0\" class=\"graph\" transform=\"scale(1 1) rotate(0) translate(4 112)\">\n<title>%3</title>\n<polygon fill=\"white\" stroke=\"transparent\" points=\"-4,4 -4,-112 130,-112 130,4 -4,4\"/>\n<!-- node0 -->\n<g id=\"node1\" class=\"node\">\n<title>node0</title>\n<ellipse fill=\"none\" stroke=\"black\" cx=\"63\" cy=\"-90\" rx=\"27\" ry=\"18\"/>\n<text text-anchor=\"middle\" x=\"63\" y=\"-86.3\" font-family=\"Times,serif\" font-size=\"14.00\">50</text>\n</g>\n<!-- node1 -->\n<g id=\"node2\" class=\"node\">\n<title>node1</title>\n<text text-anchor=\"middle\" x=\"27\" y=\"-14.3\" font-family=\"Times,serif\" font-size=\"14.00\">NULL</text>\n</g>\n<!-- node0&#45;&gt;node1 -->\n<g id=\"edge1\" class=\"edge\">\n<title>node0&#45;&gt;node1</title>\n<path fill=\"none\" stroke=\"black\" d=\"M54.65,-72.76C50.46,-64.61 45.27,-54.53 40.53,-45.31\"/>\n<polygon fill=\"black\" stroke=\"black\" points=\"43.49,-43.42 35.81,-36.12 37.27,-46.62 43.49,-43.42\"/>\n</g>\n<!-- node2 -->\n<g id=\"node3\" class=\"node\">\n<title>node2</title>\n<text text-anchor=\"middle\" x=\"99\" y=\"-14.3\" font-family=\"Times,serif\" font-size=\"14.00\">NULL</text>\n</g>\n<!-- node0&#45;&gt;node2 -->\n<g id=\"edge2\" class=\"edge\">\n<title>node0&#45;&gt;node2</title>\n<path fill=\"none\" stroke=\"black\" d=\"M71.35,-72.76C75.54,-64.61 80.73,-54.53 85.47,-45.31\"/>\n<polygon fill=\"black\" stroke=\"black\" points=\"88.73,-46.62 90.19,-36.12 82.51,-43.42 88.73,-46.62\"/>\n</g>\n</g>\n</svg>\n",
            "text/plain": [
              "<graphviz.graphs.Digraph at 0x7f8c531ab2e0>"
            ]
          },
          "metadata": {}
        }
      ]
    },
    {
      "cell_type": "code",
      "source": [
        "arraymaxheap.insert(40)"
      ],
      "metadata": {
        "id": "rPAa6fp2tycu"
      },
      "execution_count": null,
      "outputs": []
    },
    {
      "cell_type": "code",
      "source": [
        "display(arraymaxheap.get_digraph_simple())"
      ],
      "metadata": {
        "colab": {
          "base_uri": "https://localhost:8080/",
          "height": 272
        },
        "id": "TSDEGxXTt3j8",
        "outputId": "9815d287-70a6-42d3-a67e-bd5c0b82844a"
      },
      "execution_count": null,
      "outputs": [
        {
          "output_type": "display_data",
          "data": {
            "image/svg+xml": "<?xml version=\"1.0\" encoding=\"UTF-8\" standalone=\"no\"?>\n<!DOCTYPE svg PUBLIC \"-//W3C//DTD SVG 1.1//EN\"\n \"http://www.w3.org/Graphics/SVG/1.1/DTD/svg11.dtd\">\n<!-- Generated by graphviz version 2.43.0 (0)\n -->\n<!-- Title: %3 Pages: 1 -->\n<svg width=\"170pt\" height=\"188pt\"\n viewBox=\"0.00 0.00 170.00 188.00\" xmlns=\"http://www.w3.org/2000/svg\" xmlns:xlink=\"http://www.w3.org/1999/xlink\">\n<g id=\"graph0\" class=\"graph\" transform=\"scale(1 1) rotate(0) translate(4 184)\">\n<title>%3</title>\n<polygon fill=\"white\" stroke=\"transparent\" points=\"-4,4 -4,-184 166,-184 166,4 -4,4\"/>\n<!-- node0 -->\n<g id=\"node1\" class=\"node\">\n<title>node0</title>\n<ellipse fill=\"none\" stroke=\"black\" cx=\"99\" cy=\"-162\" rx=\"27\" ry=\"18\"/>\n<text text-anchor=\"middle\" x=\"99\" y=\"-158.3\" font-family=\"Times,serif\" font-size=\"14.00\">50</text>\n</g>\n<!-- node1 -->\n<g id=\"node2\" class=\"node\">\n<title>node1</title>\n<ellipse fill=\"none\" stroke=\"black\" cx=\"63\" cy=\"-90\" rx=\"27\" ry=\"18\"/>\n<text text-anchor=\"middle\" x=\"63\" y=\"-86.3\" font-family=\"Times,serif\" font-size=\"14.00\">40</text>\n</g>\n<!-- node0&#45;&gt;node1 -->\n<g id=\"edge1\" class=\"edge\">\n<title>node0&#45;&gt;node1</title>\n<path fill=\"none\" stroke=\"black\" d=\"M90.65,-144.76C86.29,-136.28 80.85,-125.71 75.96,-116.2\"/>\n<polygon fill=\"black\" stroke=\"black\" points=\"78.99,-114.44 71.3,-107.15 72.77,-117.64 78.99,-114.44\"/>\n</g>\n<!-- node2 -->\n<g id=\"node3\" class=\"node\">\n<title>node2</title>\n<text text-anchor=\"middle\" x=\"135\" y=\"-86.3\" font-family=\"Times,serif\" font-size=\"14.00\">NULL</text>\n</g>\n<!-- node0&#45;&gt;node2 -->\n<g id=\"edge2\" class=\"edge\">\n<title>node0&#45;&gt;node2</title>\n<path fill=\"none\" stroke=\"black\" d=\"M107.35,-144.76C111.54,-136.61 116.73,-126.53 121.47,-117.31\"/>\n<polygon fill=\"black\" stroke=\"black\" points=\"124.73,-118.62 126.19,-108.12 118.51,-115.42 124.73,-118.62\"/>\n</g>\n<!-- node3 -->\n<g id=\"node4\" class=\"node\">\n<title>node3</title>\n<text text-anchor=\"middle\" x=\"27\" y=\"-14.3\" font-family=\"Times,serif\" font-size=\"14.00\">NULL</text>\n</g>\n<!-- node1&#45;&gt;node3 -->\n<g id=\"edge3\" class=\"edge\">\n<title>node1&#45;&gt;node3</title>\n<path fill=\"none\" stroke=\"black\" d=\"M54.65,-72.76C50.46,-64.61 45.27,-54.53 40.53,-45.31\"/>\n<polygon fill=\"black\" stroke=\"black\" points=\"43.49,-43.42 35.81,-36.12 37.27,-46.62 43.49,-43.42\"/>\n</g>\n<!-- node4 -->\n<g id=\"node5\" class=\"node\">\n<title>node4</title>\n<text text-anchor=\"middle\" x=\"99\" y=\"-14.3\" font-family=\"Times,serif\" font-size=\"14.00\">NULL</text>\n</g>\n<!-- node1&#45;&gt;node4 -->\n<g id=\"edge4\" class=\"edge\">\n<title>node1&#45;&gt;node4</title>\n<path fill=\"none\" stroke=\"black\" d=\"M71.35,-72.76C75.54,-64.61 80.73,-54.53 85.47,-45.31\"/>\n<polygon fill=\"black\" stroke=\"black\" points=\"88.73,-46.62 90.19,-36.12 82.51,-43.42 88.73,-46.62\"/>\n</g>\n</g>\n</svg>\n",
            "text/plain": [
              "<graphviz.graphs.Digraph at 0x7f8c52ff44c0>"
            ]
          },
          "metadata": {}
        }
      ]
    },
    {
      "cell_type": "code",
      "source": [
        "arraymaxheap.insert(70)"
      ],
      "metadata": {
        "id": "IAma2ciXt5qJ"
      },
      "execution_count": null,
      "outputs": []
    },
    {
      "cell_type": "code",
      "source": [
        "display(arraymaxheap.get_digraph_simple())"
      ],
      "metadata": {
        "colab": {
          "base_uri": "https://localhost:8080/",
          "height": 272
        },
        "id": "ZJW0c01Nt8z1",
        "outputId": "d17e2c92-e179-4154-dca0-78fa22561809"
      },
      "execution_count": null,
      "outputs": [
        {
          "output_type": "display_data",
          "data": {
            "image/svg+xml": "<?xml version=\"1.0\" encoding=\"UTF-8\" standalone=\"no\"?>\n<!DOCTYPE svg PUBLIC \"-//W3C//DTD SVG 1.1//EN\"\n \"http://www.w3.org/Graphics/SVG/1.1/DTD/svg11.dtd\">\n<!-- Generated by graphviz version 2.43.0 (0)\n -->\n<!-- Title: %3 Pages: 1 -->\n<svg width=\"278pt\" height=\"188pt\"\n viewBox=\"0.00 0.00 278.00 188.00\" xmlns=\"http://www.w3.org/2000/svg\" xmlns:xlink=\"http://www.w3.org/1999/xlink\">\n<g id=\"graph0\" class=\"graph\" transform=\"scale(1 1) rotate(0) translate(4 184)\">\n<title>%3</title>\n<polygon fill=\"white\" stroke=\"transparent\" points=\"-4,4 -4,-184 274,-184 274,4 -4,4\"/>\n<!-- node0 -->\n<g id=\"node1\" class=\"node\">\n<title>node0</title>\n<ellipse fill=\"none\" stroke=\"black\" cx=\"135\" cy=\"-162\" rx=\"27\" ry=\"18\"/>\n<text text-anchor=\"middle\" x=\"135\" y=\"-158.3\" font-family=\"Times,serif\" font-size=\"14.00\">70</text>\n</g>\n<!-- node1 -->\n<g id=\"node2\" class=\"node\">\n<title>node1</title>\n<ellipse fill=\"none\" stroke=\"black\" cx=\"99\" cy=\"-90\" rx=\"27\" ry=\"18\"/>\n<text text-anchor=\"middle\" x=\"99\" y=\"-86.3\" font-family=\"Times,serif\" font-size=\"14.00\">40</text>\n</g>\n<!-- node0&#45;&gt;node1 -->\n<g id=\"edge1\" class=\"edge\">\n<title>node0&#45;&gt;node1</title>\n<path fill=\"none\" stroke=\"black\" d=\"M126.65,-144.76C122.29,-136.28 116.85,-125.71 111.96,-116.2\"/>\n<polygon fill=\"black\" stroke=\"black\" points=\"114.99,-114.44 107.3,-107.15 108.77,-117.64 114.99,-114.44\"/>\n</g>\n<!-- node2 -->\n<g id=\"node3\" class=\"node\">\n<title>node2</title>\n<ellipse fill=\"none\" stroke=\"black\" cx=\"171\" cy=\"-90\" rx=\"27\" ry=\"18\"/>\n<text text-anchor=\"middle\" x=\"171\" y=\"-86.3\" font-family=\"Times,serif\" font-size=\"14.00\">50</text>\n</g>\n<!-- node0&#45;&gt;node2 -->\n<g id=\"edge2\" class=\"edge\">\n<title>node0&#45;&gt;node2</title>\n<path fill=\"none\" stroke=\"black\" d=\"M143.35,-144.76C147.71,-136.28 153.15,-125.71 158.04,-116.2\"/>\n<polygon fill=\"black\" stroke=\"black\" points=\"161.23,-117.64 162.7,-107.15 155.01,-114.44 161.23,-117.64\"/>\n</g>\n<!-- node3 -->\n<g id=\"node4\" class=\"node\">\n<title>node3</title>\n<text text-anchor=\"middle\" x=\"27\" y=\"-14.3\" font-family=\"Times,serif\" font-size=\"14.00\">NULL</text>\n</g>\n<!-- node1&#45;&gt;node3 -->\n<g id=\"edge3\" class=\"edge\">\n<title>node1&#45;&gt;node3</title>\n<path fill=\"none\" stroke=\"black\" d=\"M84.43,-74.83C75.08,-65.75 62.7,-53.71 51.83,-43.14\"/>\n<polygon fill=\"black\" stroke=\"black\" points=\"54.21,-40.57 44.6,-36.11 49.33,-45.59 54.21,-40.57\"/>\n</g>\n<!-- node4 -->\n<g id=\"node5\" class=\"node\">\n<title>node4</title>\n<text text-anchor=\"middle\" x=\"99\" y=\"-14.3\" font-family=\"Times,serif\" font-size=\"14.00\">NULL</text>\n</g>\n<!-- node1&#45;&gt;node4 -->\n<g id=\"edge4\" class=\"edge\">\n<title>node1&#45;&gt;node4</title>\n<path fill=\"none\" stroke=\"black\" d=\"M99,-71.7C99,-63.98 99,-54.71 99,-46.11\"/>\n<polygon fill=\"black\" stroke=\"black\" points=\"102.5,-46.1 99,-36.1 95.5,-46.1 102.5,-46.1\"/>\n</g>\n<!-- node5 -->\n<g id=\"node6\" class=\"node\">\n<title>node5</title>\n<text text-anchor=\"middle\" x=\"171\" y=\"-14.3\" font-family=\"Times,serif\" font-size=\"14.00\">NULL</text>\n</g>\n<!-- node2&#45;&gt;node5 -->\n<g id=\"edge5\" class=\"edge\">\n<title>node2&#45;&gt;node5</title>\n<path fill=\"none\" stroke=\"black\" d=\"M171,-71.7C171,-63.98 171,-54.71 171,-46.11\"/>\n<polygon fill=\"black\" stroke=\"black\" points=\"174.5,-46.1 171,-36.1 167.5,-46.1 174.5,-46.1\"/>\n</g>\n<!-- node6 -->\n<g id=\"node7\" class=\"node\">\n<title>node6</title>\n<text text-anchor=\"middle\" x=\"243\" y=\"-14.3\" font-family=\"Times,serif\" font-size=\"14.00\">NULL</text>\n</g>\n<!-- node2&#45;&gt;node6 -->\n<g id=\"edge6\" class=\"edge\">\n<title>node2&#45;&gt;node6</title>\n<path fill=\"none\" stroke=\"black\" d=\"M185.57,-74.83C194.92,-65.75 207.3,-53.71 218.17,-43.14\"/>\n<polygon fill=\"black\" stroke=\"black\" points=\"220.67,-45.59 225.4,-36.11 215.79,-40.57 220.67,-45.59\"/>\n</g>\n</g>\n</svg>\n",
            "text/plain": [
              "<graphviz.graphs.Digraph at 0x7f8c531a9a80>"
            ]
          },
          "metadata": {}
        }
      ]
    },
    {
      "cell_type": "code",
      "source": [
        "arraymaxheap.insert(43)"
      ],
      "metadata": {
        "id": "HcAlL3oKt-tw"
      },
      "execution_count": null,
      "outputs": []
    },
    {
      "cell_type": "code",
      "source": [
        "display(arraymaxheap.get_digraph_simple())"
      ],
      "metadata": {
        "colab": {
          "base_uri": "https://localhost:8080/",
          "height": 368
        },
        "id": "6VV9_9BduHBL",
        "outputId": "e3706e8c-4cb9-46a8-f170-3dfc38ee3680"
      },
      "execution_count": null,
      "outputs": [
        {
          "output_type": "display_data",
          "data": {
            "image/svg+xml": "<?xml version=\"1.0\" encoding=\"UTF-8\" standalone=\"no\"?>\n<!DOCTYPE svg PUBLIC \"-//W3C//DTD SVG 1.1//EN\"\n \"http://www.w3.org/Graphics/SVG/1.1/DTD/svg11.dtd\">\n<!-- Generated by graphviz version 2.43.0 (0)\n -->\n<!-- Title: %3 Pages: 1 -->\n<svg width=\"314pt\" height=\"260pt\"\n viewBox=\"0.00 0.00 314.00 260.00\" xmlns=\"http://www.w3.org/2000/svg\" xmlns:xlink=\"http://www.w3.org/1999/xlink\">\n<g id=\"graph0\" class=\"graph\" transform=\"scale(1 1) rotate(0) translate(4 256)\">\n<title>%3</title>\n<polygon fill=\"white\" stroke=\"transparent\" points=\"-4,4 -4,-256 310,-256 310,4 -4,4\"/>\n<!-- node0 -->\n<g id=\"node1\" class=\"node\">\n<title>node0</title>\n<ellipse fill=\"none\" stroke=\"black\" cx=\"171\" cy=\"-234\" rx=\"27\" ry=\"18\"/>\n<text text-anchor=\"middle\" x=\"171\" y=\"-230.3\" font-family=\"Times,serif\" font-size=\"14.00\">70</text>\n</g>\n<!-- node1 -->\n<g id=\"node2\" class=\"node\">\n<title>node1</title>\n<ellipse fill=\"none\" stroke=\"black\" cx=\"135\" cy=\"-162\" rx=\"27\" ry=\"18\"/>\n<text text-anchor=\"middle\" x=\"135\" y=\"-158.3\" font-family=\"Times,serif\" font-size=\"14.00\">43</text>\n</g>\n<!-- node0&#45;&gt;node1 -->\n<g id=\"edge1\" class=\"edge\">\n<title>node0&#45;&gt;node1</title>\n<path fill=\"none\" stroke=\"black\" d=\"M162.65,-216.76C158.29,-208.28 152.85,-197.71 147.96,-188.2\"/>\n<polygon fill=\"black\" stroke=\"black\" points=\"150.99,-186.44 143.3,-179.15 144.77,-189.64 150.99,-186.44\"/>\n</g>\n<!-- node2 -->\n<g id=\"node3\" class=\"node\">\n<title>node2</title>\n<ellipse fill=\"none\" stroke=\"black\" cx=\"207\" cy=\"-162\" rx=\"27\" ry=\"18\"/>\n<text text-anchor=\"middle\" x=\"207\" y=\"-158.3\" font-family=\"Times,serif\" font-size=\"14.00\">50</text>\n</g>\n<!-- node0&#45;&gt;node2 -->\n<g id=\"edge2\" class=\"edge\">\n<title>node0&#45;&gt;node2</title>\n<path fill=\"none\" stroke=\"black\" d=\"M179.35,-216.76C183.71,-208.28 189.15,-197.71 194.04,-188.2\"/>\n<polygon fill=\"black\" stroke=\"black\" points=\"197.23,-189.64 198.7,-179.15 191.01,-186.44 197.23,-189.64\"/>\n</g>\n<!-- node3 -->\n<g id=\"node4\" class=\"node\">\n<title>node3</title>\n<ellipse fill=\"none\" stroke=\"black\" cx=\"63\" cy=\"-90\" rx=\"27\" ry=\"18\"/>\n<text text-anchor=\"middle\" x=\"63\" y=\"-86.3\" font-family=\"Times,serif\" font-size=\"14.00\">40</text>\n</g>\n<!-- node1&#45;&gt;node3 -->\n<g id=\"edge3\" class=\"edge\">\n<title>node1&#45;&gt;node3</title>\n<path fill=\"none\" stroke=\"black\" d=\"M120.43,-146.83C110.25,-136.94 96.48,-123.55 84.97,-112.36\"/>\n<polygon fill=\"black\" stroke=\"black\" points=\"87.41,-109.85 77.8,-105.38 82.53,-114.87 87.41,-109.85\"/>\n</g>\n<!-- node4 -->\n<g id=\"node5\" class=\"node\">\n<title>node4</title>\n<text text-anchor=\"middle\" x=\"135\" y=\"-86.3\" font-family=\"Times,serif\" font-size=\"14.00\">NULL</text>\n</g>\n<!-- node1&#45;&gt;node4 -->\n<g id=\"edge4\" class=\"edge\">\n<title>node1&#45;&gt;node4</title>\n<path fill=\"none\" stroke=\"black\" d=\"M135,-143.7C135,-135.98 135,-126.71 135,-118.11\"/>\n<polygon fill=\"black\" stroke=\"black\" points=\"138.5,-118.1 135,-108.1 131.5,-118.1 138.5,-118.1\"/>\n</g>\n<!-- node5 -->\n<g id=\"node6\" class=\"node\">\n<title>node5</title>\n<text text-anchor=\"middle\" x=\"207\" y=\"-86.3\" font-family=\"Times,serif\" font-size=\"14.00\">NULL</text>\n</g>\n<!-- node2&#45;&gt;node5 -->\n<g id=\"edge5\" class=\"edge\">\n<title>node2&#45;&gt;node5</title>\n<path fill=\"none\" stroke=\"black\" d=\"M207,-143.7C207,-135.98 207,-126.71 207,-118.11\"/>\n<polygon fill=\"black\" stroke=\"black\" points=\"210.5,-118.1 207,-108.1 203.5,-118.1 210.5,-118.1\"/>\n</g>\n<!-- node6 -->\n<g id=\"node7\" class=\"node\">\n<title>node6</title>\n<text text-anchor=\"middle\" x=\"279\" y=\"-86.3\" font-family=\"Times,serif\" font-size=\"14.00\">NULL</text>\n</g>\n<!-- node2&#45;&gt;node6 -->\n<g id=\"edge6\" class=\"edge\">\n<title>node2&#45;&gt;node6</title>\n<path fill=\"none\" stroke=\"black\" d=\"M221.57,-146.83C230.92,-137.75 243.3,-125.71 254.17,-115.14\"/>\n<polygon fill=\"black\" stroke=\"black\" points=\"256.67,-117.59 261.4,-108.11 251.79,-112.57 256.67,-117.59\"/>\n</g>\n<!-- node7 -->\n<g id=\"node8\" class=\"node\">\n<title>node7</title>\n<text text-anchor=\"middle\" x=\"27\" y=\"-14.3\" font-family=\"Times,serif\" font-size=\"14.00\">NULL</text>\n</g>\n<!-- node3&#45;&gt;node7 -->\n<g id=\"edge7\" class=\"edge\">\n<title>node3&#45;&gt;node7</title>\n<path fill=\"none\" stroke=\"black\" d=\"M54.65,-72.76C50.46,-64.61 45.27,-54.53 40.53,-45.31\"/>\n<polygon fill=\"black\" stroke=\"black\" points=\"43.49,-43.42 35.81,-36.12 37.27,-46.62 43.49,-43.42\"/>\n</g>\n<!-- node8 -->\n<g id=\"node9\" class=\"node\">\n<title>node8</title>\n<text text-anchor=\"middle\" x=\"99\" y=\"-14.3\" font-family=\"Times,serif\" font-size=\"14.00\">NULL</text>\n</g>\n<!-- node3&#45;&gt;node8 -->\n<g id=\"edge8\" class=\"edge\">\n<title>node3&#45;&gt;node8</title>\n<path fill=\"none\" stroke=\"black\" d=\"M71.35,-72.76C75.54,-64.61 80.73,-54.53 85.47,-45.31\"/>\n<polygon fill=\"black\" stroke=\"black\" points=\"88.73,-46.62 90.19,-36.12 82.51,-43.42 88.73,-46.62\"/>\n</g>\n</g>\n</svg>\n",
            "text/plain": [
              "<graphviz.graphs.Digraph at 0x7f8c531a9de0>"
            ]
          },
          "metadata": {}
        }
      ]
    },
    {
      "cell_type": "code",
      "source": [
        "arraymaxheap.insert(60)"
      ],
      "metadata": {
        "id": "dknL_ZY0uIHW"
      },
      "execution_count": null,
      "outputs": []
    },
    {
      "cell_type": "code",
      "source": [
        "display(arraymaxheap.get_digraph_simple())"
      ],
      "metadata": {
        "colab": {
          "base_uri": "https://localhost:8080/",
          "height": 368
        },
        "id": "x1K6D5-WuPXs",
        "outputId": "eeb97228-d18c-4624-949e-03de10b90119"
      },
      "execution_count": null,
      "outputs": [
        {
          "output_type": "display_data",
          "data": {
            "image/svg+xml": "<?xml version=\"1.0\" encoding=\"UTF-8\" standalone=\"no\"?>\n<!DOCTYPE svg PUBLIC \"-//W3C//DTD SVG 1.1//EN\"\n \"http://www.w3.org/Graphics/SVG/1.1/DTD/svg11.dtd\">\n<!-- Generated by graphviz version 2.43.0 (0)\n -->\n<!-- Title: %3 Pages: 1 -->\n<svg width=\"350pt\" height=\"260pt\"\n viewBox=\"0.00 0.00 350.00 260.00\" xmlns=\"http://www.w3.org/2000/svg\" xmlns:xlink=\"http://www.w3.org/1999/xlink\">\n<g id=\"graph0\" class=\"graph\" transform=\"scale(1 1) rotate(0) translate(4 256)\">\n<title>%3</title>\n<polygon fill=\"white\" stroke=\"transparent\" points=\"-4,4 -4,-256 346,-256 346,4 -4,4\"/>\n<!-- node0 -->\n<g id=\"node1\" class=\"node\">\n<title>node0</title>\n<ellipse fill=\"none\" stroke=\"black\" cx=\"207\" cy=\"-234\" rx=\"27\" ry=\"18\"/>\n<text text-anchor=\"middle\" x=\"207\" y=\"-230.3\" font-family=\"Times,serif\" font-size=\"14.00\">70</text>\n</g>\n<!-- node1 -->\n<g id=\"node2\" class=\"node\">\n<title>node1</title>\n<ellipse fill=\"none\" stroke=\"black\" cx=\"171\" cy=\"-162\" rx=\"27\" ry=\"18\"/>\n<text text-anchor=\"middle\" x=\"171\" y=\"-158.3\" font-family=\"Times,serif\" font-size=\"14.00\">60</text>\n</g>\n<!-- node0&#45;&gt;node1 -->\n<g id=\"edge1\" class=\"edge\">\n<title>node0&#45;&gt;node1</title>\n<path fill=\"none\" stroke=\"black\" d=\"M198.65,-216.76C194.29,-208.28 188.85,-197.71 183.96,-188.2\"/>\n<polygon fill=\"black\" stroke=\"black\" points=\"186.99,-186.44 179.3,-179.15 180.77,-189.64 186.99,-186.44\"/>\n</g>\n<!-- node2 -->\n<g id=\"node3\" class=\"node\">\n<title>node2</title>\n<ellipse fill=\"none\" stroke=\"black\" cx=\"243\" cy=\"-162\" rx=\"27\" ry=\"18\"/>\n<text text-anchor=\"middle\" x=\"243\" y=\"-158.3\" font-family=\"Times,serif\" font-size=\"14.00\">50</text>\n</g>\n<!-- node0&#45;&gt;node2 -->\n<g id=\"edge2\" class=\"edge\">\n<title>node0&#45;&gt;node2</title>\n<path fill=\"none\" stroke=\"black\" d=\"M215.35,-216.76C219.71,-208.28 225.15,-197.71 230.04,-188.2\"/>\n<polygon fill=\"black\" stroke=\"black\" points=\"233.23,-189.64 234.7,-179.15 227.01,-186.44 233.23,-189.64\"/>\n</g>\n<!-- node3 -->\n<g id=\"node4\" class=\"node\">\n<title>node3</title>\n<ellipse fill=\"none\" stroke=\"black\" cx=\"99\" cy=\"-90\" rx=\"27\" ry=\"18\"/>\n<text text-anchor=\"middle\" x=\"99\" y=\"-86.3\" font-family=\"Times,serif\" font-size=\"14.00\">40</text>\n</g>\n<!-- node1&#45;&gt;node3 -->\n<g id=\"edge3\" class=\"edge\">\n<title>node1&#45;&gt;node3</title>\n<path fill=\"none\" stroke=\"black\" d=\"M156.43,-146.83C146.25,-136.94 132.48,-123.55 120.97,-112.36\"/>\n<polygon fill=\"black\" stroke=\"black\" points=\"123.41,-109.85 113.8,-105.38 118.53,-114.87 123.41,-109.85\"/>\n</g>\n<!-- node4 -->\n<g id=\"node5\" class=\"node\">\n<title>node4</title>\n<ellipse fill=\"none\" stroke=\"black\" cx=\"171\" cy=\"-90\" rx=\"27\" ry=\"18\"/>\n<text text-anchor=\"middle\" x=\"171\" y=\"-86.3\" font-family=\"Times,serif\" font-size=\"14.00\">43</text>\n</g>\n<!-- node1&#45;&gt;node4 -->\n<g id=\"edge4\" class=\"edge\">\n<title>node1&#45;&gt;node4</title>\n<path fill=\"none\" stroke=\"black\" d=\"M171,-143.7C171,-135.98 171,-126.71 171,-118.11\"/>\n<polygon fill=\"black\" stroke=\"black\" points=\"174.5,-118.1 171,-108.1 167.5,-118.1 174.5,-118.1\"/>\n</g>\n<!-- node5 -->\n<g id=\"node6\" class=\"node\">\n<title>node5</title>\n<text text-anchor=\"middle\" x=\"243\" y=\"-86.3\" font-family=\"Times,serif\" font-size=\"14.00\">NULL</text>\n</g>\n<!-- node2&#45;&gt;node5 -->\n<g id=\"edge5\" class=\"edge\">\n<title>node2&#45;&gt;node5</title>\n<path fill=\"none\" stroke=\"black\" d=\"M243,-143.7C243,-135.98 243,-126.71 243,-118.11\"/>\n<polygon fill=\"black\" stroke=\"black\" points=\"246.5,-118.1 243,-108.1 239.5,-118.1 246.5,-118.1\"/>\n</g>\n<!-- node6 -->\n<g id=\"node7\" class=\"node\">\n<title>node6</title>\n<text text-anchor=\"middle\" x=\"315\" y=\"-86.3\" font-family=\"Times,serif\" font-size=\"14.00\">NULL</text>\n</g>\n<!-- node2&#45;&gt;node6 -->\n<g id=\"edge6\" class=\"edge\">\n<title>node2&#45;&gt;node6</title>\n<path fill=\"none\" stroke=\"black\" d=\"M257.57,-146.83C266.92,-137.75 279.3,-125.71 290.17,-115.14\"/>\n<polygon fill=\"black\" stroke=\"black\" points=\"292.67,-117.59 297.4,-108.11 287.79,-112.57 292.67,-117.59\"/>\n</g>\n<!-- node7 -->\n<g id=\"node8\" class=\"node\">\n<title>node7</title>\n<text text-anchor=\"middle\" x=\"27\" y=\"-14.3\" font-family=\"Times,serif\" font-size=\"14.00\">NULL</text>\n</g>\n<!-- node3&#45;&gt;node7 -->\n<g id=\"edge7\" class=\"edge\">\n<title>node3&#45;&gt;node7</title>\n<path fill=\"none\" stroke=\"black\" d=\"M84.43,-74.83C75.08,-65.75 62.7,-53.71 51.83,-43.14\"/>\n<polygon fill=\"black\" stroke=\"black\" points=\"54.21,-40.57 44.6,-36.11 49.33,-45.59 54.21,-40.57\"/>\n</g>\n<!-- node8 -->\n<g id=\"node9\" class=\"node\">\n<title>node8</title>\n<text text-anchor=\"middle\" x=\"99\" y=\"-14.3\" font-family=\"Times,serif\" font-size=\"14.00\">NULL</text>\n</g>\n<!-- node3&#45;&gt;node8 -->\n<g id=\"edge8\" class=\"edge\">\n<title>node3&#45;&gt;node8</title>\n<path fill=\"none\" stroke=\"black\" d=\"M99,-71.7C99,-63.98 99,-54.71 99,-46.11\"/>\n<polygon fill=\"black\" stroke=\"black\" points=\"102.5,-46.1 99,-36.1 95.5,-46.1 102.5,-46.1\"/>\n</g>\n<!-- node9 -->\n<g id=\"node10\" class=\"node\">\n<title>node9</title>\n<text text-anchor=\"middle\" x=\"171\" y=\"-14.3\" font-family=\"Times,serif\" font-size=\"14.00\">NULL</text>\n</g>\n<!-- node4&#45;&gt;node9 -->\n<g id=\"edge9\" class=\"edge\">\n<title>node4&#45;&gt;node9</title>\n<path fill=\"none\" stroke=\"black\" d=\"M171,-71.7C171,-63.98 171,-54.71 171,-46.11\"/>\n<polygon fill=\"black\" stroke=\"black\" points=\"174.5,-46.1 171,-36.1 167.5,-46.1 174.5,-46.1\"/>\n</g>\n<!-- node10 -->\n<g id=\"node11\" class=\"node\">\n<title>node10</title>\n<text text-anchor=\"middle\" x=\"243\" y=\"-14.3\" font-family=\"Times,serif\" font-size=\"14.00\">NULL</text>\n</g>\n<!-- node4&#45;&gt;node10 -->\n<g id=\"edge10\" class=\"edge\">\n<title>node4&#45;&gt;node10</title>\n<path fill=\"none\" stroke=\"black\" d=\"M185.57,-74.83C194.92,-65.75 207.3,-53.71 218.17,-43.14\"/>\n<polygon fill=\"black\" stroke=\"black\" points=\"220.67,-45.59 225.4,-36.11 215.79,-40.57 220.67,-45.59\"/>\n</g>\n</g>\n</svg>\n",
            "text/plain": [
              "<graphviz.graphs.Digraph at 0x7f8c52ff4f10>"
            ]
          },
          "metadata": {}
        }
      ]
    },
    {
      "cell_type": "code",
      "source": [
        "arraymaxheap.delete()"
      ],
      "metadata": {
        "colab": {
          "base_uri": "https://localhost:8080/"
        },
        "id": "T6LW7gMnuQlF",
        "outputId": "f16fa2a2-1447-41e9-c2f8-66b9b4512741"
      },
      "execution_count": null,
      "outputs": [
        {
          "output_type": "execute_result",
          "data": {
            "text/plain": [
              "70"
            ]
          },
          "metadata": {},
          "execution_count": 60
        }
      ]
    },
    {
      "cell_type": "code",
      "source": [
        "display(arraymaxheap.get_digraph_simple())"
      ],
      "metadata": {
        "colab": {
          "base_uri": "https://localhost:8080/",
          "height": 368
        },
        "id": "qZ_Am8atufhA",
        "outputId": "e3c5da6d-90f6-4507-98b0-287cd2e2ddcb"
      },
      "execution_count": null,
      "outputs": [
        {
          "output_type": "display_data",
          "data": {
            "image/svg+xml": "<?xml version=\"1.0\" encoding=\"UTF-8\" standalone=\"no\"?>\n<!DOCTYPE svg PUBLIC \"-//W3C//DTD SVG 1.1//EN\"\n \"http://www.w3.org/Graphics/SVG/1.1/DTD/svg11.dtd\">\n<!-- Generated by graphviz version 2.43.0 (0)\n -->\n<!-- Title: %3 Pages: 1 -->\n<svg width=\"314pt\" height=\"260pt\"\n viewBox=\"0.00 0.00 314.00 260.00\" xmlns=\"http://www.w3.org/2000/svg\" xmlns:xlink=\"http://www.w3.org/1999/xlink\">\n<g id=\"graph0\" class=\"graph\" transform=\"scale(1 1) rotate(0) translate(4 256)\">\n<title>%3</title>\n<polygon fill=\"white\" stroke=\"transparent\" points=\"-4,4 -4,-256 310,-256 310,4 -4,4\"/>\n<!-- node0 -->\n<g id=\"node1\" class=\"node\">\n<title>node0</title>\n<ellipse fill=\"none\" stroke=\"black\" cx=\"171\" cy=\"-234\" rx=\"27\" ry=\"18\"/>\n<text text-anchor=\"middle\" x=\"171\" y=\"-230.3\" font-family=\"Times,serif\" font-size=\"14.00\">60</text>\n</g>\n<!-- node1 -->\n<g id=\"node2\" class=\"node\">\n<title>node1</title>\n<ellipse fill=\"none\" stroke=\"black\" cx=\"135\" cy=\"-162\" rx=\"27\" ry=\"18\"/>\n<text text-anchor=\"middle\" x=\"135\" y=\"-158.3\" font-family=\"Times,serif\" font-size=\"14.00\">43</text>\n</g>\n<!-- node0&#45;&gt;node1 -->\n<g id=\"edge1\" class=\"edge\">\n<title>node0&#45;&gt;node1</title>\n<path fill=\"none\" stroke=\"black\" d=\"M162.65,-216.76C158.29,-208.28 152.85,-197.71 147.96,-188.2\"/>\n<polygon fill=\"black\" stroke=\"black\" points=\"150.99,-186.44 143.3,-179.15 144.77,-189.64 150.99,-186.44\"/>\n</g>\n<!-- node2 -->\n<g id=\"node3\" class=\"node\">\n<title>node2</title>\n<ellipse fill=\"none\" stroke=\"black\" cx=\"207\" cy=\"-162\" rx=\"27\" ry=\"18\"/>\n<text text-anchor=\"middle\" x=\"207\" y=\"-158.3\" font-family=\"Times,serif\" font-size=\"14.00\">50</text>\n</g>\n<!-- node0&#45;&gt;node2 -->\n<g id=\"edge2\" class=\"edge\">\n<title>node0&#45;&gt;node2</title>\n<path fill=\"none\" stroke=\"black\" d=\"M179.35,-216.76C183.71,-208.28 189.15,-197.71 194.04,-188.2\"/>\n<polygon fill=\"black\" stroke=\"black\" points=\"197.23,-189.64 198.7,-179.15 191.01,-186.44 197.23,-189.64\"/>\n</g>\n<!-- node3 -->\n<g id=\"node4\" class=\"node\">\n<title>node3</title>\n<ellipse fill=\"none\" stroke=\"black\" cx=\"63\" cy=\"-90\" rx=\"27\" ry=\"18\"/>\n<text text-anchor=\"middle\" x=\"63\" y=\"-86.3\" font-family=\"Times,serif\" font-size=\"14.00\">40</text>\n</g>\n<!-- node1&#45;&gt;node3 -->\n<g id=\"edge3\" class=\"edge\">\n<title>node1&#45;&gt;node3</title>\n<path fill=\"none\" stroke=\"black\" d=\"M120.43,-146.83C110.25,-136.94 96.48,-123.55 84.97,-112.36\"/>\n<polygon fill=\"black\" stroke=\"black\" points=\"87.41,-109.85 77.8,-105.38 82.53,-114.87 87.41,-109.85\"/>\n</g>\n<!-- node4 -->\n<g id=\"node5\" class=\"node\">\n<title>node4</title>\n<text text-anchor=\"middle\" x=\"135\" y=\"-86.3\" font-family=\"Times,serif\" font-size=\"14.00\">NULL</text>\n</g>\n<!-- node1&#45;&gt;node4 -->\n<g id=\"edge4\" class=\"edge\">\n<title>node1&#45;&gt;node4</title>\n<path fill=\"none\" stroke=\"black\" d=\"M135,-143.7C135,-135.98 135,-126.71 135,-118.11\"/>\n<polygon fill=\"black\" stroke=\"black\" points=\"138.5,-118.1 135,-108.1 131.5,-118.1 138.5,-118.1\"/>\n</g>\n<!-- node5 -->\n<g id=\"node6\" class=\"node\">\n<title>node5</title>\n<text text-anchor=\"middle\" x=\"207\" y=\"-86.3\" font-family=\"Times,serif\" font-size=\"14.00\">NULL</text>\n</g>\n<!-- node2&#45;&gt;node5 -->\n<g id=\"edge5\" class=\"edge\">\n<title>node2&#45;&gt;node5</title>\n<path fill=\"none\" stroke=\"black\" d=\"M207,-143.7C207,-135.98 207,-126.71 207,-118.11\"/>\n<polygon fill=\"black\" stroke=\"black\" points=\"210.5,-118.1 207,-108.1 203.5,-118.1 210.5,-118.1\"/>\n</g>\n<!-- node6 -->\n<g id=\"node7\" class=\"node\">\n<title>node6</title>\n<text text-anchor=\"middle\" x=\"279\" y=\"-86.3\" font-family=\"Times,serif\" font-size=\"14.00\">NULL</text>\n</g>\n<!-- node2&#45;&gt;node6 -->\n<g id=\"edge6\" class=\"edge\">\n<title>node2&#45;&gt;node6</title>\n<path fill=\"none\" stroke=\"black\" d=\"M221.57,-146.83C230.92,-137.75 243.3,-125.71 254.17,-115.14\"/>\n<polygon fill=\"black\" stroke=\"black\" points=\"256.67,-117.59 261.4,-108.11 251.79,-112.57 256.67,-117.59\"/>\n</g>\n<!-- node7 -->\n<g id=\"node8\" class=\"node\">\n<title>node7</title>\n<text text-anchor=\"middle\" x=\"27\" y=\"-14.3\" font-family=\"Times,serif\" font-size=\"14.00\">NULL</text>\n</g>\n<!-- node3&#45;&gt;node7 -->\n<g id=\"edge7\" class=\"edge\">\n<title>node3&#45;&gt;node7</title>\n<path fill=\"none\" stroke=\"black\" d=\"M54.65,-72.76C50.46,-64.61 45.27,-54.53 40.53,-45.31\"/>\n<polygon fill=\"black\" stroke=\"black\" points=\"43.49,-43.42 35.81,-36.12 37.27,-46.62 43.49,-43.42\"/>\n</g>\n<!-- node8 -->\n<g id=\"node9\" class=\"node\">\n<title>node8</title>\n<text text-anchor=\"middle\" x=\"99\" y=\"-14.3\" font-family=\"Times,serif\" font-size=\"14.00\">NULL</text>\n</g>\n<!-- node3&#45;&gt;node8 -->\n<g id=\"edge8\" class=\"edge\">\n<title>node3&#45;&gt;node8</title>\n<path fill=\"none\" stroke=\"black\" d=\"M71.35,-72.76C75.54,-64.61 80.73,-54.53 85.47,-45.31\"/>\n<polygon fill=\"black\" stroke=\"black\" points=\"88.73,-46.62 90.19,-36.12 82.51,-43.42 88.73,-46.62\"/>\n</g>\n</g>\n</svg>\n",
            "text/plain": [
              "<graphviz.graphs.Digraph at 0x7f8c531aa740>"
            ]
          },
          "metadata": {}
        }
      ]
    },
    {
      "cell_type": "code",
      "source": [
        "arraymaxheap.delete()"
      ],
      "metadata": {
        "colab": {
          "base_uri": "https://localhost:8080/"
        },
        "id": "fPnFArXDuhh_",
        "outputId": "74c9730f-55e5-4a5d-d67c-a5acfe5b867d"
      },
      "execution_count": null,
      "outputs": [
        {
          "output_type": "execute_result",
          "data": {
            "text/plain": [
              "60"
            ]
          },
          "metadata": {},
          "execution_count": 62
        }
      ]
    },
    {
      "cell_type": "code",
      "source": [
        "display(arraymaxheap.get_digraph_simple())"
      ],
      "metadata": {
        "colab": {
          "base_uri": "https://localhost:8080/",
          "height": 272
        },
        "id": "j9NbkJZJuxT4",
        "outputId": "fed90777-6036-4837-c911-ac4e9da9dacd"
      },
      "execution_count": null,
      "outputs": [
        {
          "output_type": "display_data",
          "data": {
            "image/svg+xml": "<?xml version=\"1.0\" encoding=\"UTF-8\" standalone=\"no\"?>\n<!DOCTYPE svg PUBLIC \"-//W3C//DTD SVG 1.1//EN\"\n \"http://www.w3.org/Graphics/SVG/1.1/DTD/svg11.dtd\">\n<!-- Generated by graphviz version 2.43.0 (0)\n -->\n<!-- Title: %3 Pages: 1 -->\n<svg width=\"278pt\" height=\"188pt\"\n viewBox=\"0.00 0.00 278.00 188.00\" xmlns=\"http://www.w3.org/2000/svg\" xmlns:xlink=\"http://www.w3.org/1999/xlink\">\n<g id=\"graph0\" class=\"graph\" transform=\"scale(1 1) rotate(0) translate(4 184)\">\n<title>%3</title>\n<polygon fill=\"white\" stroke=\"transparent\" points=\"-4,4 -4,-184 274,-184 274,4 -4,4\"/>\n<!-- node0 -->\n<g id=\"node1\" class=\"node\">\n<title>node0</title>\n<ellipse fill=\"none\" stroke=\"black\" cx=\"135\" cy=\"-162\" rx=\"27\" ry=\"18\"/>\n<text text-anchor=\"middle\" x=\"135\" y=\"-158.3\" font-family=\"Times,serif\" font-size=\"14.00\">50</text>\n</g>\n<!-- node1 -->\n<g id=\"node2\" class=\"node\">\n<title>node1</title>\n<ellipse fill=\"none\" stroke=\"black\" cx=\"99\" cy=\"-90\" rx=\"27\" ry=\"18\"/>\n<text text-anchor=\"middle\" x=\"99\" y=\"-86.3\" font-family=\"Times,serif\" font-size=\"14.00\">43</text>\n</g>\n<!-- node0&#45;&gt;node1 -->\n<g id=\"edge1\" class=\"edge\">\n<title>node0&#45;&gt;node1</title>\n<path fill=\"none\" stroke=\"black\" d=\"M126.65,-144.76C122.29,-136.28 116.85,-125.71 111.96,-116.2\"/>\n<polygon fill=\"black\" stroke=\"black\" points=\"114.99,-114.44 107.3,-107.15 108.77,-117.64 114.99,-114.44\"/>\n</g>\n<!-- node2 -->\n<g id=\"node3\" class=\"node\">\n<title>node2</title>\n<ellipse fill=\"none\" stroke=\"black\" cx=\"171\" cy=\"-90\" rx=\"27\" ry=\"18\"/>\n<text text-anchor=\"middle\" x=\"171\" y=\"-86.3\" font-family=\"Times,serif\" font-size=\"14.00\">40</text>\n</g>\n<!-- node0&#45;&gt;node2 -->\n<g id=\"edge2\" class=\"edge\">\n<title>node0&#45;&gt;node2</title>\n<path fill=\"none\" stroke=\"black\" d=\"M143.35,-144.76C147.71,-136.28 153.15,-125.71 158.04,-116.2\"/>\n<polygon fill=\"black\" stroke=\"black\" points=\"161.23,-117.64 162.7,-107.15 155.01,-114.44 161.23,-117.64\"/>\n</g>\n<!-- node3 -->\n<g id=\"node4\" class=\"node\">\n<title>node3</title>\n<text text-anchor=\"middle\" x=\"27\" y=\"-14.3\" font-family=\"Times,serif\" font-size=\"14.00\">NULL</text>\n</g>\n<!-- node1&#45;&gt;node3 -->\n<g id=\"edge3\" class=\"edge\">\n<title>node1&#45;&gt;node3</title>\n<path fill=\"none\" stroke=\"black\" d=\"M84.43,-74.83C75.08,-65.75 62.7,-53.71 51.83,-43.14\"/>\n<polygon fill=\"black\" stroke=\"black\" points=\"54.21,-40.57 44.6,-36.11 49.33,-45.59 54.21,-40.57\"/>\n</g>\n<!-- node4 -->\n<g id=\"node5\" class=\"node\">\n<title>node4</title>\n<text text-anchor=\"middle\" x=\"99\" y=\"-14.3\" font-family=\"Times,serif\" font-size=\"14.00\">NULL</text>\n</g>\n<!-- node1&#45;&gt;node4 -->\n<g id=\"edge4\" class=\"edge\">\n<title>node1&#45;&gt;node4</title>\n<path fill=\"none\" stroke=\"black\" d=\"M99,-71.7C99,-63.98 99,-54.71 99,-46.11\"/>\n<polygon fill=\"black\" stroke=\"black\" points=\"102.5,-46.1 99,-36.1 95.5,-46.1 102.5,-46.1\"/>\n</g>\n<!-- node5 -->\n<g id=\"node6\" class=\"node\">\n<title>node5</title>\n<text text-anchor=\"middle\" x=\"171\" y=\"-14.3\" font-family=\"Times,serif\" font-size=\"14.00\">NULL</text>\n</g>\n<!-- node2&#45;&gt;node5 -->\n<g id=\"edge5\" class=\"edge\">\n<title>node2&#45;&gt;node5</title>\n<path fill=\"none\" stroke=\"black\" d=\"M171,-71.7C171,-63.98 171,-54.71 171,-46.11\"/>\n<polygon fill=\"black\" stroke=\"black\" points=\"174.5,-46.1 171,-36.1 167.5,-46.1 174.5,-46.1\"/>\n</g>\n<!-- node6 -->\n<g id=\"node7\" class=\"node\">\n<title>node6</title>\n<text text-anchor=\"middle\" x=\"243\" y=\"-14.3\" font-family=\"Times,serif\" font-size=\"14.00\">NULL</text>\n</g>\n<!-- node2&#45;&gt;node6 -->\n<g id=\"edge6\" class=\"edge\">\n<title>node2&#45;&gt;node6</title>\n<path fill=\"none\" stroke=\"black\" d=\"M185.57,-74.83C194.92,-65.75 207.3,-53.71 218.17,-43.14\"/>\n<polygon fill=\"black\" stroke=\"black\" points=\"220.67,-45.59 225.4,-36.11 215.79,-40.57 220.67,-45.59\"/>\n</g>\n</g>\n</svg>\n",
            "text/plain": [
              "<graphviz.graphs.Digraph at 0x7f8c52ff7970>"
            ]
          },
          "metadata": {}
        }
      ]
    },
    {
      "cell_type": "code",
      "source": [],
      "metadata": {
        "id": "NAEW0Ixyuyit"
      },
      "execution_count": null,
      "outputs": []
    }
  ]
}