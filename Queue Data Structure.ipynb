{
  "nbformat": 4,
  "nbformat_minor": 0,
  "metadata": {
    "colab": {
      "provenance": []
    },
    "kernelspec": {
      "name": "python3",
      "display_name": "Python 3"
    },
    "language_info": {
      "name": "python"
    }
  },
  "cells": [
    {
      "cell_type": "markdown",
      "source": [
        "## queue dengan array"
      ],
      "metadata": {
        "id": "Cxv8PI2waXop"
      }
    },
    {
      "cell_type": "code",
      "source": [
        "import numpy as np"
      ],
      "metadata": {
        "id": "EORqlN2yWTnw"
      },
      "execution_count": null,
      "outputs": []
    },
    {
      "cell_type": "code",
      "source": [
        "class ArrayLinQueue:\n",
        "    def __init__(self, dtype, array_max):\n",
        "        self.dtype = dtype\n",
        "        self.array_max = array_max\n",
        "        self.array = np.empty(array_max, dtype = dtype)\n",
        "        self.front = -1\n",
        "        self.rear = -1\n",
        "\n",
        "    def get_size(self):\n",
        "        size = (self.rear - self.front) + 1\n",
        "        return size\n",
        "\n",
        "    def get_capacity_queue(self):\n",
        "        if self.front == -1:\n",
        "            capacity_queue = self.array_max\n",
        "        else:\n",
        "            capacity_queue = self.array_max - self.front\n",
        "        return capacity_queue\n",
        "\n",
        "    def is_empty(self):\n",
        "        if self.front == -1:\n",
        "            return True\n",
        "        else:\n",
        "            return False\n",
        "\n",
        "    def is_full(self):\n",
        "        if self.rear == self.array_max -1:\n",
        "            return True\n",
        "        else:\n",
        "            return False\n",
        "\n",
        "    def enqueue(self, newdata):\n",
        "        if self.is_full():\n",
        "            print(\"Error enqueue: queue sudah penuh sebelumnya\")\n",
        "        elif self.front == -1:\n",
        "            self.front += 1\n",
        "            self.rear += 1\n",
        "            self.array[self.rear] = newdata\n",
        "        else:\n",
        "            self.rear += 1\n",
        "            self.array[self.rear] = newdata\n",
        "\n",
        "    def peek(self):\n",
        "        if self.is_empty():\n",
        "            print(\"Error peek: queue sedang kosong\")\n",
        "        else:\n",
        "            return self.array[self.front]\n",
        "\n",
        "    def dequeue(self):\n",
        "        if self.is_empty():\n",
        "            print(\"error dequeue: queue sedah kosong sebelumnya\")\n",
        "            return None\n",
        "        elif (self.get_size() == 1):\n",
        "            output = self.array[self.front]\n",
        "            self.front = -1\n",
        "            self.rear = -1\n",
        "            return output\n",
        "        else:\n",
        "            output = self.array[self.front]\n",
        "            self.front += 1\n",
        "            return output\n",
        "\n",
        "    def print_storage(self):\n",
        "        print(self.array)\n",
        "\n",
        "    def print_queue(self):\n",
        "        print(\"front: \", end=\"\")\n",
        "        if self.is_empty():\n",
        "            print(\"(tidak ada data): rear\")\n",
        "        else:\n",
        "            for i in range(self.front, self.rear):\n",
        "                print(self.array[i], end=\" | \")\n",
        "            print(self.array[self.rear], end =\"\")\n",
        "            print(\" : rear\")"
      ],
      "metadata": {
        "id": "zBjj3vHeac0i"
      },
      "execution_count": null,
      "outputs": []
    },
    {
      "cell_type": "code",
      "source": [
        "arraylinqueue = ArrayLinQueue(int, 5)"
      ],
      "metadata": {
        "id": "04pUjbu_eqMN"
      },
      "execution_count": null,
      "outputs": []
    },
    {
      "cell_type": "code",
      "source": [
        "arraylinqueue.print_queue()"
      ],
      "metadata": {
        "colab": {
          "base_uri": "https://localhost:8080/"
        },
        "id": "TcqylcnLezsA",
        "outputId": "de5aa02c-a1a8-4df4-f113-b7f640e0d76d"
      },
      "execution_count": null,
      "outputs": [
        {
          "output_type": "stream",
          "name": "stdout",
          "text": [
            "front: (tidak ada data): rear\n"
          ]
        }
      ]
    },
    {
      "cell_type": "code",
      "source": [
        "arraylinqueue.print_storage()"
      ],
      "metadata": {
        "colab": {
          "base_uri": "https://localhost:8080/"
        },
        "id": "DZj1lZDXe3my",
        "outputId": "fbf3d3c2-7742-4a22-9800-4ee84c82b8ce"
      },
      "execution_count": null,
      "outputs": [
        {
          "output_type": "stream",
          "name": "stdout",
          "text": [
            "[     94569718872315                   0 8386019333807480933\n",
            " 7022364301954937888                 176]\n"
          ]
        }
      ]
    },
    {
      "cell_type": "code",
      "source": [
        "arraylinqueue.enqueue(-18)\n",
        "arraylinqueue.enqueue(67)\n",
        "arraylinqueue.enqueue(32)"
      ],
      "metadata": {
        "id": "ZVbZCIkue8f2"
      },
      "execution_count": null,
      "outputs": []
    },
    {
      "cell_type": "code",
      "source": [
        "arraylinqueue.print_queue()"
      ],
      "metadata": {
        "colab": {
          "base_uri": "https://localhost:8080/"
        },
        "id": "Fc3GMoJlfMXP",
        "outputId": "97a46a00-8d63-48cc-c16a-0662ff5bbd95"
      },
      "execution_count": null,
      "outputs": [
        {
          "output_type": "stream",
          "name": "stdout",
          "text": [
            "front: -18 | 67 | 32 : rear\n"
          ]
        }
      ]
    },
    {
      "cell_type": "code",
      "source": [
        "arraylinqueue.print_storage()"
      ],
      "metadata": {
        "colab": {
          "base_uri": "https://localhost:8080/"
        },
        "id": "-ZiZMc6yfQ-n",
        "outputId": "8dac352f-f702-43da-f2d5-31587dea2829"
      },
      "execution_count": null,
      "outputs": [
        {
          "output_type": "stream",
          "name": "stdout",
          "text": [
            "[                -18                  67                  32\n",
            " 7022364301954937888                 176]\n"
          ]
        }
      ]
    },
    {
      "cell_type": "code",
      "source": [
        "print(arraylinqueue.front)\n",
        "print(arraylinqueue.rear)"
      ],
      "metadata": {
        "colab": {
          "base_uri": "https://localhost:8080/"
        },
        "id": "yftppZa4fVcw",
        "outputId": "c56862a5-d56b-469a-f9a0-881773cab5cb"
      },
      "execution_count": null,
      "outputs": [
        {
          "output_type": "stream",
          "name": "stdout",
          "text": [
            "0\n",
            "2\n"
          ]
        }
      ]
    },
    {
      "cell_type": "code",
      "source": [
        "arraylinqueue.enqueue(-29)"
      ],
      "metadata": {
        "id": "UcCqQ0MYfkC1"
      },
      "execution_count": null,
      "outputs": []
    },
    {
      "cell_type": "code",
      "source": [
        "arraylinqueue.print_queue()"
      ],
      "metadata": {
        "colab": {
          "base_uri": "https://localhost:8080/"
        },
        "id": "evn5Fmv9fs8f",
        "outputId": "08bd24c2-f8fb-415f-df88-525f30190c61"
      },
      "execution_count": null,
      "outputs": [
        {
          "output_type": "stream",
          "name": "stdout",
          "text": [
            "front: -18 | 67 | 32 | -29 : rear\n"
          ]
        }
      ]
    },
    {
      "cell_type": "code",
      "source": [
        "arraylinqueue.print_storage()"
      ],
      "metadata": {
        "colab": {
          "base_uri": "https://localhost:8080/"
        },
        "id": "mF26aOCXfv3q",
        "outputId": "40f82017-2673-4156-87d3-0a1fa6150913"
      },
      "execution_count": null,
      "outputs": [
        {
          "output_type": "stream",
          "name": "stdout",
          "text": [
            "[-18  67  32 -29 176]\n"
          ]
        }
      ]
    },
    {
      "cell_type": "code",
      "source": [
        "print(arraylinqueue.front)\n",
        "print(arraylinqueue.rear)"
      ],
      "metadata": {
        "colab": {
          "base_uri": "https://localhost:8080/"
        },
        "id": "TP3Iq9dRf0dT",
        "outputId": "a87c2b8b-4921-48a5-9088-dbc72064221c"
      },
      "execution_count": null,
      "outputs": [
        {
          "output_type": "stream",
          "name": "stdout",
          "text": [
            "0\n",
            "3\n"
          ]
        }
      ]
    },
    {
      "cell_type": "code",
      "source": [
        "print(arraylinqueue.peek())"
      ],
      "metadata": {
        "colab": {
          "base_uri": "https://localhost:8080/"
        },
        "id": "CKscgoKcf3CS",
        "outputId": "be26060b-d6c3-41dd-cf32-4bdd3a5daf6e"
      },
      "execution_count": null,
      "outputs": [
        {
          "output_type": "stream",
          "name": "stdout",
          "text": [
            "-18\n"
          ]
        }
      ]
    },
    {
      "cell_type": "code",
      "source": [
        "arraylinqueue.print_queue()"
      ],
      "metadata": {
        "colab": {
          "base_uri": "https://localhost:8080/"
        },
        "id": "vUZRbgrIgB29",
        "outputId": "511fd675-d4ec-47d3-9d87-44c2d665c93f"
      },
      "execution_count": null,
      "outputs": [
        {
          "output_type": "stream",
          "name": "stdout",
          "text": [
            "front: -18 | 67 | 32 | -29 : rear\n"
          ]
        }
      ]
    },
    {
      "cell_type": "code",
      "source": [
        "nilai = arraylinqueue.dequeue()\n",
        "print(nilai)"
      ],
      "metadata": {
        "colab": {
          "base_uri": "https://localhost:8080/"
        },
        "id": "BWn6vBKigHQh",
        "outputId": "bf237305-19ba-462a-b084-7a3fec28ea56"
      },
      "execution_count": null,
      "outputs": [
        {
          "output_type": "stream",
          "name": "stdout",
          "text": [
            "-18\n"
          ]
        }
      ]
    },
    {
      "cell_type": "code",
      "source": [
        "arraylinqueue.print_queue()"
      ],
      "metadata": {
        "colab": {
          "base_uri": "https://localhost:8080/"
        },
        "id": "LE_MeAI6gOL5",
        "outputId": "2900ae36-1c64-405b-defa-5408d1575f8d"
      },
      "execution_count": null,
      "outputs": [
        {
          "output_type": "stream",
          "name": "stdout",
          "text": [
            "front: 67 | 32 | -29 : rear\n"
          ]
        }
      ]
    },
    {
      "cell_type": "code",
      "source": [
        "arraylinqueue.print_storage()"
      ],
      "metadata": {
        "colab": {
          "base_uri": "https://localhost:8080/"
        },
        "id": "FlWjseNFgSb6",
        "outputId": "a1bc9ff3-96ee-4d6f-d31d-86b318cce740"
      },
      "execution_count": null,
      "outputs": [
        {
          "output_type": "stream",
          "name": "stdout",
          "text": [
            "[-18  67  32 -29 176]\n"
          ]
        }
      ]
    },
    {
      "cell_type": "code",
      "source": [
        "print(arraylinqueue.front)\n",
        "print(arraylinqueue.rear)"
      ],
      "metadata": {
        "colab": {
          "base_uri": "https://localhost:8080/"
        },
        "id": "k9MzkqqigWt7",
        "outputId": "558e9c08-65b8-4206-d488-7a48a2b2c54f"
      },
      "execution_count": null,
      "outputs": [
        {
          "output_type": "stream",
          "name": "stdout",
          "text": [
            "1\n",
            "3\n"
          ]
        }
      ]
    },
    {
      "cell_type": "code",
      "source": [
        "print(arraylinqueue.dequeue())"
      ],
      "metadata": {
        "colab": {
          "base_uri": "https://localhost:8080/"
        },
        "id": "iaoEKSRMgiNp",
        "outputId": "b736bf28-cc64-4fa7-ae4e-71d6c57121eb"
      },
      "execution_count": null,
      "outputs": [
        {
          "output_type": "stream",
          "name": "stdout",
          "text": [
            "67\n"
          ]
        }
      ]
    },
    {
      "cell_type": "code",
      "source": [
        "arraylinqueue.print_queue()"
      ],
      "metadata": {
        "colab": {
          "base_uri": "https://localhost:8080/"
        },
        "id": "MXQxIe03grjS",
        "outputId": "18db9ce3-2f57-4dbe-f70d-47b16317bde5"
      },
      "execution_count": null,
      "outputs": [
        {
          "output_type": "stream",
          "name": "stdout",
          "text": [
            "front: 32 | -29 : rear\n"
          ]
        }
      ]
    },
    {
      "cell_type": "code",
      "source": [
        "print(arraylinqueue.dequeue())\n",
        "print(arraylinqueue.dequeue())"
      ],
      "metadata": {
        "colab": {
          "base_uri": "https://localhost:8080/"
        },
        "id": "xO-H6etngv4I",
        "outputId": "bcf3bf7e-b59a-4966-d88d-02015ba4aa81"
      },
      "execution_count": null,
      "outputs": [
        {
          "output_type": "stream",
          "name": "stdout",
          "text": [
            "32\n",
            "-29\n"
          ]
        }
      ]
    },
    {
      "cell_type": "code",
      "source": [
        "arraylinqueue.print_queue()"
      ],
      "metadata": {
        "colab": {
          "base_uri": "https://localhost:8080/"
        },
        "id": "GIN-bGrCg7ja",
        "outputId": "91e3679d-c67f-4429-c108-b85b21fa62f4"
      },
      "execution_count": null,
      "outputs": [
        {
          "output_type": "stream",
          "name": "stdout",
          "text": [
            "front: (tidak ada data): rear\n"
          ]
        }
      ]
    },
    {
      "cell_type": "code",
      "source": [
        "print(arraylinqueue.front)\n",
        "print(arraylinqueue.rear)"
      ],
      "metadata": {
        "colab": {
          "base_uri": "https://localhost:8080/"
        },
        "id": "5BmVRqUqg_mc",
        "outputId": "0d67b1b5-7aae-4340-fb53-fa65c4ab683c"
      },
      "execution_count": null,
      "outputs": [
        {
          "output_type": "stream",
          "name": "stdout",
          "text": [
            "-1\n",
            "-1\n"
          ]
        }
      ]
    },
    {
      "cell_type": "code",
      "source": [
        "print(arraylinqueue.dequeue())"
      ],
      "metadata": {
        "colab": {
          "base_uri": "https://localhost:8080/"
        },
        "id": "LiQVDLeahEGX",
        "outputId": "7961f18e-16b8-4459-8194-79d79fe5bcc0"
      },
      "execution_count": null,
      "outputs": [
        {
          "output_type": "stream",
          "name": "stdout",
          "text": [
            "error dequeue: queue sedah kosong sebelumnya\n",
            "None\n"
          ]
        }
      ]
    },
    {
      "cell_type": "code",
      "source": [
        "arraylinqueue.enqueue(-25)\n",
        "arraylinqueue.enqueue(13)\n",
        "arraylinqueue.enqueue(48)\n",
        "arraylinqueue.enqueue(-87)\n",
        "arraylinqueue.enqueue(38)"
      ],
      "metadata": {
        "id": "wXA5iARNhIdx"
      },
      "execution_count": null,
      "outputs": []
    },
    {
      "cell_type": "code",
      "source": [
        "arraylinqueue.print_queue()"
      ],
      "metadata": {
        "colab": {
          "base_uri": "https://localhost:8080/"
        },
        "id": "JBVissdxhV5z",
        "outputId": "6b58b36d-650b-4f48-e1f9-ab264be37619"
      },
      "execution_count": null,
      "outputs": [
        {
          "output_type": "stream",
          "name": "stdout",
          "text": [
            "front: -25 | 13 | 48 | -87 | 38 : rear\n"
          ]
        }
      ]
    },
    {
      "cell_type": "code",
      "source": [
        "arraylinqueue.print_storage()"
      ],
      "metadata": {
        "colab": {
          "base_uri": "https://localhost:8080/"
        },
        "id": "WKXuy5rhhZD7",
        "outputId": "a3c328b3-c037-4d95-e845-596a26448826"
      },
      "execution_count": null,
      "outputs": [
        {
          "output_type": "stream",
          "name": "stdout",
          "text": [
            "[-25  13  48 -87  38]\n"
          ]
        }
      ]
    },
    {
      "cell_type": "code",
      "source": [
        "print(arraylinqueue.is_full())"
      ],
      "metadata": {
        "colab": {
          "base_uri": "https://localhost:8080/"
        },
        "id": "ulJ6BBNChcyc",
        "outputId": "b7029992-0f01-4313-d872-158d0022a499"
      },
      "execution_count": null,
      "outputs": [
        {
          "output_type": "stream",
          "name": "stdout",
          "text": [
            "True\n"
          ]
        }
      ]
    },
    {
      "cell_type": "code",
      "source": [
        "print(arraylinqueue.front)\n",
        "print(arraylinqueue.rear)"
      ],
      "metadata": {
        "colab": {
          "base_uri": "https://localhost:8080/"
        },
        "id": "bVv7oGuhhiPp",
        "outputId": "50c20e96-16d7-4a7e-c49b-a0a36cf1ac9e"
      },
      "execution_count": null,
      "outputs": [
        {
          "output_type": "stream",
          "name": "stdout",
          "text": [
            "0\n",
            "4\n"
          ]
        }
      ]
    },
    {
      "cell_type": "code",
      "source": [
        "arraylinqueue.enqueue(24)"
      ],
      "metadata": {
        "colab": {
          "base_uri": "https://localhost:8080/"
        },
        "id": "_lBN-BzahlW4",
        "outputId": "0bf9bcc0-2cd9-477b-9c50-ad31a1f7d77c"
      },
      "execution_count": null,
      "outputs": [
        {
          "output_type": "stream",
          "name": "stdout",
          "text": [
            "Error enqueue: queue sudah penuh sebelumnya\n"
          ]
        }
      ]
    },
    {
      "cell_type": "code",
      "source": [
        "print(arraylinqueue.dequeue())\n",
        "print(arraylinqueue.dequeue())"
      ],
      "metadata": {
        "colab": {
          "base_uri": "https://localhost:8080/"
        },
        "id": "sn6Yo7NWhqP9",
        "outputId": "6663c5ae-3895-4c6a-9a3e-76e37ab8a8bf"
      },
      "execution_count": null,
      "outputs": [
        {
          "output_type": "stream",
          "name": "stdout",
          "text": [
            "-25\n",
            "13\n"
          ]
        }
      ]
    },
    {
      "cell_type": "code",
      "source": [
        "arraylinqueue.print_queue()"
      ],
      "metadata": {
        "colab": {
          "base_uri": "https://localhost:8080/"
        },
        "id": "XPzCl23EhxjR",
        "outputId": "89bba196-1036-41db-9677-7484fa7a39db"
      },
      "execution_count": null,
      "outputs": [
        {
          "output_type": "stream",
          "name": "stdout",
          "text": [
            "front: 48 | -87 | 38 : rear\n"
          ]
        }
      ]
    },
    {
      "cell_type": "code",
      "source": [
        "arraylinqueue.print_storage()"
      ],
      "metadata": {
        "colab": {
          "base_uri": "https://localhost:8080/"
        },
        "id": "fQtD8bVjh2Ag",
        "outputId": "28b98822-a4f5-4440-f76a-5bedb55691c7"
      },
      "execution_count": null,
      "outputs": [
        {
          "output_type": "stream",
          "name": "stdout",
          "text": [
            "[-25  13  48 -87  38]\n"
          ]
        }
      ]
    },
    {
      "cell_type": "code",
      "source": [
        "print(arraylinqueue.front)\n",
        "print(arraylinqueue.rear)"
      ],
      "metadata": {
        "colab": {
          "base_uri": "https://localhost:8080/"
        },
        "id": "lrzYiouWh5b9",
        "outputId": "2b68018b-5d8f-4849-d75f-a8f5dbb683b7"
      },
      "execution_count": null,
      "outputs": [
        {
          "output_type": "stream",
          "name": "stdout",
          "text": [
            "2\n",
            "4\n"
          ]
        }
      ]
    },
    {
      "cell_type": "code",
      "source": [
        "arraylinqueue.enqueue(-53)"
      ],
      "metadata": {
        "colab": {
          "base_uri": "https://localhost:8080/"
        },
        "id": "LSjKCRVrh8bH",
        "outputId": "a20eea42-74e6-4c72-96e9-787d216355f5"
      },
      "execution_count": null,
      "outputs": [
        {
          "output_type": "stream",
          "name": "stdout",
          "text": [
            "Error enqueue: queue sudah penuh sebelumnya\n"
          ]
        }
      ]
    },
    {
      "cell_type": "markdown",
      "source": [
        "## circular queue dengan array"
      ],
      "metadata": {
        "id": "UPmD3Dr4iSQv"
      }
    },
    {
      "cell_type": "code",
      "source": [
        "class ArrayCircQueue:\n",
        "    def __init__(self, dtype, max):\n",
        "        self.dtype = dtype\n",
        "        self.max = max\n",
        "        self.array = np.empty(max, dtype = dtype)\n",
        "        self.front = -1\n",
        "        self.rear = -1\n",
        "\n",
        "    def is_empty(self):\n",
        "        if self.front == -1:\n",
        "            return True\n",
        "        else:\n",
        "            return False\n",
        "\n",
        "    def is_full(self):\n",
        "        if self.front == (self.rear + 1) % self.max:\n",
        "            return True\n",
        "        else:\n",
        "            return False\n",
        "\n",
        "    def get_size(self):\n",
        "        if self.is_empty():\n",
        "            size = 0\n",
        "        elif self.front <= self.rear:\n",
        "            size = (self.rear - self.front) + 1\n",
        "        else:\n",
        "            size = self.max - (self.front - self.rear - 1)\n",
        "        return size\n",
        "\n",
        "    def get_capacity(self):\n",
        "        return self.max\n",
        "\n",
        "    def enqueue(self, newdata):\n",
        "        if self.is_full():\n",
        "            print(\"error enqueue: queue sudah penuh sebelumnya\")\n",
        "        elif self.front == -1:\n",
        "            self.front += 1\n",
        "            self.rear += 1\n",
        "            self.array[self.rear] = newdata\n",
        "        else:\n",
        "            self.rear = (self.rear + 1) % self.max\n",
        "            self.array[self.rear] = newdata\n",
        "\n",
        "    def peek(self):\n",
        "        if self.is_empty():\n",
        "            print(\"error peek: queue sudah kosong\")\n",
        "        else:\n",
        "            return self.array[self.front]\n",
        "\n",
        "    def dequeue(self):\n",
        "        if self.is_empty():\n",
        "            print(\"error dequeue = queue sudah kosong sebelumnya\")\n",
        "            return None\n",
        "        elif (self.get_size() == 1):\n",
        "            output = self.array[self.front]\n",
        "            self.front = -1\n",
        "            self.rear = -1\n",
        "            return output\n",
        "        else:\n",
        "            output = self.array[self.front]\n",
        "            self.front = (self.front + 1) % self.max\n",
        "            return output\n",
        "\n",
        "    def print_storage(self):\n",
        "        print(self.array)\n",
        "\n",
        "    def print_queue(self):\n",
        "        print(\"front : \", end =\"\")\n",
        "        if self.is_empty():\n",
        "            print(\"(tidak ada data ): rear\")\n",
        "        else:\n",
        "            i = self.front\n",
        "            while i != self.rear:\n",
        "                print(self.array[i], end=\" | \")\n",
        "                i = (i + 1) % self.max\n",
        "            print(self.array[self.rear], end=\"\")\n",
        "            print(\" : rear\")"
      ],
      "metadata": {
        "id": "iXIE3L4kiE_r"
      },
      "execution_count": null,
      "outputs": []
    },
    {
      "cell_type": "code",
      "source": [
        "arraycircqueue = ArrayCircQueue(int, 5)\n",
        "arraycircqueue.print_queue()"
      ],
      "metadata": {
        "colab": {
          "base_uri": "https://localhost:8080/"
        },
        "id": "cz_-djX7lZhF",
        "outputId": "7670ebc8-18d8-4634-d783-5f11438a6511"
      },
      "execution_count": null,
      "outputs": [
        {
          "output_type": "stream",
          "name": "stdout",
          "text": [
            "front : (tidak ada data ): rear\n"
          ]
        }
      ]
    },
    {
      "cell_type": "code",
      "source": [
        "arraycircqueue.print_storage()"
      ],
      "metadata": {
        "colab": {
          "base_uri": "https://localhost:8080/"
        },
        "id": "JMnNjI_5l-6i",
        "outputId": "e3c68146-0443-41d5-9931-b9043a2d2c0e"
      },
      "execution_count": null,
      "outputs": [
        {
          "output_type": "stream",
          "name": "stdout",
          "text": [
            "[                -18                  67                  32\n",
            "                 -29 4607182418800017408]\n"
          ]
        }
      ]
    },
    {
      "cell_type": "code",
      "source": [
        "arraycircqueue.enqueue(65)\n",
        "arraycircqueue.enqueue(-11)\n",
        "arraycircqueue.enqueue(43)"
      ],
      "metadata": {
        "id": "9vH7Kmg-mBvp"
      },
      "execution_count": null,
      "outputs": []
    },
    {
      "cell_type": "code",
      "source": [
        "arraycircqueue.print_queue()"
      ],
      "metadata": {
        "colab": {
          "base_uri": "https://localhost:8080/"
        },
        "id": "YPMXGQkbmILU",
        "outputId": "604f83cc-2368-4674-ccdd-0f163ee49cfd"
      },
      "execution_count": null,
      "outputs": [
        {
          "output_type": "stream",
          "name": "stdout",
          "text": [
            "front : 65 | -11 | 43 : rear\n"
          ]
        }
      ]
    },
    {
      "cell_type": "code",
      "source": [
        "arraycircqueue.print_storage()"
      ],
      "metadata": {
        "colab": {
          "base_uri": "https://localhost:8080/"
        },
        "id": "ibVO2pBPmKb2",
        "outputId": "cde4c7b7-a3a1-45e6-ab6f-e2ca275b10e2"
      },
      "execution_count": null,
      "outputs": [
        {
          "output_type": "stream",
          "name": "stdout",
          "text": [
            "[                 65                 -11                  43\n",
            "                 -29 4607182418800017408]\n"
          ]
        }
      ]
    },
    {
      "cell_type": "code",
      "source": [
        "print(arraycircqueue.front)\n",
        "print(arraycircqueue.rear)"
      ],
      "metadata": {
        "colab": {
          "base_uri": "https://localhost:8080/"
        },
        "id": "JUnhaxHImNah",
        "outputId": "74419b9d-c222-43bd-db78-796e37f57308"
      },
      "execution_count": null,
      "outputs": [
        {
          "output_type": "stream",
          "name": "stdout",
          "text": [
            "0\n",
            "2\n"
          ]
        }
      ]
    },
    {
      "cell_type": "code",
      "source": [
        "arraycircqueue.enqueue(97)\n",
        "arraycircqueue.enqueue(-12)"
      ],
      "metadata": {
        "id": "joah1C8OmUxE"
      },
      "execution_count": null,
      "outputs": []
    },
    {
      "cell_type": "code",
      "source": [
        "arraycircqueue.print_queue()"
      ],
      "metadata": {
        "colab": {
          "base_uri": "https://localhost:8080/"
        },
        "id": "qUPO4g0kmZbJ",
        "outputId": "4b5792ce-707d-4898-c264-27ed13d84376"
      },
      "execution_count": null,
      "outputs": [
        {
          "output_type": "stream",
          "name": "stdout",
          "text": [
            "front : 65 | -11 | 43 | 97 | -12 : rear\n"
          ]
        }
      ]
    },
    {
      "cell_type": "code",
      "source": [
        "arraycircqueue.enqueue(46)"
      ],
      "metadata": {
        "colab": {
          "base_uri": "https://localhost:8080/"
        },
        "id": "h_aySoLHmaxy",
        "outputId": "19293ac3-d155-48aa-a626-8f993a5637a3"
      },
      "execution_count": null,
      "outputs": [
        {
          "output_type": "stream",
          "name": "stdout",
          "text": [
            "error enqueue: queue sudah penuh sebelumnya\n"
          ]
        }
      ]
    },
    {
      "cell_type": "code",
      "source": [
        "arraycircqueue.print_storage()"
      ],
      "metadata": {
        "colab": {
          "base_uri": "https://localhost:8080/"
        },
        "id": "zR4ayPUMmdYz",
        "outputId": "890fa053-60f4-4331-a723-d09b8e47625a"
      },
      "execution_count": null,
      "outputs": [
        {
          "output_type": "stream",
          "name": "stdout",
          "text": [
            "[ 65 -11  43  97 -12]\n"
          ]
        }
      ]
    },
    {
      "cell_type": "code",
      "source": [
        "print(arraycircqueue.front)\n",
        "print(arraycircqueue.rear)"
      ],
      "metadata": {
        "colab": {
          "base_uri": "https://localhost:8080/"
        },
        "id": "NLcaiqQfmffK",
        "outputId": "bc5cdc5b-51ad-430e-cb87-169a98b623cb"
      },
      "execution_count": null,
      "outputs": [
        {
          "output_type": "stream",
          "name": "stdout",
          "text": [
            "0\n",
            "4\n"
          ]
        }
      ]
    },
    {
      "cell_type": "code",
      "source": [
        "print(arraycircqueue.peek())"
      ],
      "metadata": {
        "colab": {
          "base_uri": "https://localhost:8080/"
        },
        "id": "DF8a8RqBmmBw",
        "outputId": "7219a15c-1b81-4f01-b4c9-be6c3410b459"
      },
      "execution_count": null,
      "outputs": [
        {
          "output_type": "stream",
          "name": "stdout",
          "text": [
            "65\n"
          ]
        }
      ]
    },
    {
      "cell_type": "code",
      "source": [
        "print(arraycircqueue.dequeue())"
      ],
      "metadata": {
        "colab": {
          "base_uri": "https://localhost:8080/"
        },
        "id": "TM75z-Kjmpw8",
        "outputId": "ce0001fb-932f-43e8-c234-6df41dff80bc"
      },
      "execution_count": null,
      "outputs": [
        {
          "output_type": "stream",
          "name": "stdout",
          "text": [
            "65\n"
          ]
        }
      ]
    },
    {
      "cell_type": "code",
      "source": [
        "arraycircqueue.print_queue()"
      ],
      "metadata": {
        "colab": {
          "base_uri": "https://localhost:8080/"
        },
        "id": "g_AKYFyomtoi",
        "outputId": "c2ca3e95-1e25-4cc6-97d2-dd387b81867b"
      },
      "execution_count": null,
      "outputs": [
        {
          "output_type": "stream",
          "name": "stdout",
          "text": [
            "front : -11 | 43 | 97 | -12 : rear\n"
          ]
        }
      ]
    },
    {
      "cell_type": "code",
      "source": [
        "arraycircqueue.print_storage()"
      ],
      "metadata": {
        "colab": {
          "base_uri": "https://localhost:8080/"
        },
        "id": "qvBkJGIlmwrT",
        "outputId": "42670bdc-b8ec-4736-cfde-2444f4093f85"
      },
      "execution_count": null,
      "outputs": [
        {
          "output_type": "stream",
          "name": "stdout",
          "text": [
            "[ 65 -11  43  97 -12]\n"
          ]
        }
      ]
    },
    {
      "cell_type": "code",
      "source": [
        "print(arraycircqueue.front)\n",
        "print(arraycircqueue.rear)"
      ],
      "metadata": {
        "colab": {
          "base_uri": "https://localhost:8080/"
        },
        "id": "sWJPhK6fmzcc",
        "outputId": "7f6113e5-0d04-4ed3-dc7d-514289d31bd5"
      },
      "execution_count": null,
      "outputs": [
        {
          "output_type": "stream",
          "name": "stdout",
          "text": [
            "1\n",
            "4\n"
          ]
        }
      ]
    },
    {
      "cell_type": "code",
      "source": [
        "print(arraycircqueue.dequeue())\n",
        "print(arraycircqueue.dequeue())"
      ],
      "metadata": {
        "colab": {
          "base_uri": "https://localhost:8080/"
        },
        "id": "wQBz_3iOm13E",
        "outputId": "022fd6e0-4132-4fa1-f056-e58b4f2a7591"
      },
      "execution_count": null,
      "outputs": [
        {
          "output_type": "stream",
          "name": "stdout",
          "text": [
            "-11\n",
            "43\n"
          ]
        }
      ]
    },
    {
      "cell_type": "code",
      "source": [
        "arraycircqueue.print_queue()"
      ],
      "metadata": {
        "colab": {
          "base_uri": "https://localhost:8080/"
        },
        "id": "MdlLEVlRm5LY",
        "outputId": "34064a3d-e393-47e3-e794-a1581694faa0"
      },
      "execution_count": null,
      "outputs": [
        {
          "output_type": "stream",
          "name": "stdout",
          "text": [
            "front : 97 | -12 : rear\n"
          ]
        }
      ]
    },
    {
      "cell_type": "code",
      "source": [
        "arraycircqueue.print_storage()"
      ],
      "metadata": {
        "colab": {
          "base_uri": "https://localhost:8080/"
        },
        "id": "-aBtW4qbm7Fo",
        "outputId": "0b081195-c251-4848-ca0f-71832c4e520c"
      },
      "execution_count": null,
      "outputs": [
        {
          "output_type": "stream",
          "name": "stdout",
          "text": [
            "[ 65 -11  43  97 -12]\n"
          ]
        }
      ]
    },
    {
      "cell_type": "code",
      "source": [
        "arraycircqueue.enqueue(-74)"
      ],
      "metadata": {
        "id": "zBn-C-7bnBhn"
      },
      "execution_count": null,
      "outputs": []
    },
    {
      "cell_type": "code",
      "source": [
        "arraycircqueue.print_queue()"
      ],
      "metadata": {
        "colab": {
          "base_uri": "https://localhost:8080/"
        },
        "id": "bVOMOE0qnGMK",
        "outputId": "d0d84e15-940a-466b-b9a8-b235fcf47e22"
      },
      "execution_count": null,
      "outputs": [
        {
          "output_type": "stream",
          "name": "stdout",
          "text": [
            "front : 97 | -12 | -74 : rear\n"
          ]
        }
      ]
    },
    {
      "cell_type": "code",
      "source": [
        "arraycircqueue.print_storage()"
      ],
      "metadata": {
        "colab": {
          "base_uri": "https://localhost:8080/"
        },
        "id": "i0klu421nLmq",
        "outputId": "9ce2ef67-676f-4dcb-b368-4977998b2d29"
      },
      "execution_count": null,
      "outputs": [
        {
          "output_type": "stream",
          "name": "stdout",
          "text": [
            "[-74 -11  43  97 -12]\n"
          ]
        }
      ]
    },
    {
      "cell_type": "code",
      "source": [
        "print(arraycircqueue.front)\n",
        "print(arraycircqueue.rear)"
      ],
      "metadata": {
        "colab": {
          "base_uri": "https://localhost:8080/"
        },
        "id": "uQphL_X4nQQ-",
        "outputId": "65e93cc2-e82d-4a5a-fb7f-8bae666da798"
      },
      "execution_count": null,
      "outputs": [
        {
          "output_type": "stream",
          "name": "stdout",
          "text": [
            "3\n",
            "0\n"
          ]
        }
      ]
    },
    {
      "cell_type": "code",
      "source": [
        "arraycircqueue.enqueue(19)"
      ],
      "metadata": {
        "id": "Bc2hQ0qDnXim"
      },
      "execution_count": null,
      "outputs": []
    },
    {
      "cell_type": "code",
      "source": [
        "arraycircqueue.print_queue()"
      ],
      "metadata": {
        "colab": {
          "base_uri": "https://localhost:8080/"
        },
        "id": "bE0Hh8d7nk0h",
        "outputId": "b6cc2e19-dfde-4fa4-91c3-b4dd66486d2a"
      },
      "execution_count": null,
      "outputs": [
        {
          "output_type": "stream",
          "name": "stdout",
          "text": [
            "front : 97 | -12 | -74 | 19 : rear\n"
          ]
        }
      ]
    },
    {
      "cell_type": "code",
      "source": [
        "arraycircqueue.print_storage()"
      ],
      "metadata": {
        "colab": {
          "base_uri": "https://localhost:8080/"
        },
        "id": "luVB56WEnmw4",
        "outputId": "72eda6d2-7675-4bb5-b593-e31d5a96d7d9"
      },
      "execution_count": null,
      "outputs": [
        {
          "output_type": "stream",
          "name": "stdout",
          "text": [
            "[-74  19  43  97 -12]\n"
          ]
        }
      ]
    },
    {
      "cell_type": "code",
      "source": [
        "print(arraycircqueue.front)\n",
        "print(arraycircqueue.rear)"
      ],
      "metadata": {
        "colab": {
          "base_uri": "https://localhost:8080/"
        },
        "id": "Lxzqts49norR",
        "outputId": "6183fe47-a1fa-49f4-95f5-3684cdfda38c"
      },
      "execution_count": null,
      "outputs": [
        {
          "output_type": "stream",
          "name": "stdout",
          "text": [
            "3\n",
            "1\n"
          ]
        }
      ]
    },
    {
      "cell_type": "code",
      "source": [
        "arraycircqueue.enqueue(85)"
      ],
      "metadata": {
        "id": "UKyMJX69nuSz"
      },
      "execution_count": null,
      "outputs": []
    },
    {
      "cell_type": "code",
      "source": [
        "arraycircqueue.print_queue()"
      ],
      "metadata": {
        "colab": {
          "base_uri": "https://localhost:8080/"
        },
        "id": "lqJSw9bkn0xN",
        "outputId": "c5698597-0b28-408c-bbe6-316808975e9f"
      },
      "execution_count": null,
      "outputs": [
        {
          "output_type": "stream",
          "name": "stdout",
          "text": [
            "front : 97 | -12 | -74 | 19 | 85 : rear\n"
          ]
        }
      ]
    },
    {
      "cell_type": "code",
      "source": [
        "arraycircqueue.print_storage()"
      ],
      "metadata": {
        "colab": {
          "base_uri": "https://localhost:8080/"
        },
        "id": "HPQO3aJin2ai",
        "outputId": "5d8ce492-c451-48be-b5f8-2eb938763ca3"
      },
      "execution_count": null,
      "outputs": [
        {
          "output_type": "stream",
          "name": "stdout",
          "text": [
            "[-74  19  85  97 -12]\n"
          ]
        }
      ]
    },
    {
      "cell_type": "code",
      "source": [
        "arraycircqueue.enqueue(-31)"
      ],
      "metadata": {
        "colab": {
          "base_uri": "https://localhost:8080/"
        },
        "id": "YglDKV9Tn5C8",
        "outputId": "5877f2d1-9c93-46d3-81de-efc76fe3d07d"
      },
      "execution_count": null,
      "outputs": [
        {
          "output_type": "stream",
          "name": "stdout",
          "text": [
            "error enqueue: queue sudah penuh sebelumnya\n"
          ]
        }
      ]
    },
    {
      "cell_type": "markdown",
      "source": [
        "## linear queue dengan linked list"
      ],
      "metadata": {
        "id": "MIn10Ju3oOxv"
      }
    },
    {
      "cell_type": "code",
      "source": [
        "class SLNode:\n",
        "    def __init__(self, data, next = None):\n",
        "        self.data = data\n",
        "        self.next = next"
      ],
      "metadata": {
        "id": "gBWT6iT_oAvi"
      },
      "execution_count": null,
      "outputs": []
    },
    {
      "cell_type": "code",
      "source": [
        "class SLLinQueue:\n",
        "    def __init__(self):\n",
        "        self.front = None\n",
        "        self.rear = None\n",
        "\n",
        "    def is_empty(self):\n",
        "        if self.front == None:\n",
        "            return True\n",
        "        else:\n",
        "            return False\n",
        "\n",
        "    def get_size(self):\n",
        "        size = 0\n",
        "        temp = self.front\n",
        "        while (temp!=None):\n",
        "            size += 1\n",
        "            temp = temp.next\n",
        "        return size\n",
        "\n",
        "    def enqueue(self, newdata):\n",
        "        newnode = SLNode(newdata)\n",
        "        if self.is_empty():\n",
        "            self.front = newnode\n",
        "            self.rear = newnode\n",
        "        else:\n",
        "            self.rear.next = newnode\n",
        "            self.rear = newnode\n",
        "    def peek(self):\n",
        "        if self.is_empty():\n",
        "            print(\"error peek: queue sedang kosong\")\n",
        "            return None\n",
        "        else:\n",
        "            return self.front.data\n",
        "\n",
        "    def dequeue(self):\n",
        "        if self.is_empty():\n",
        "            print(\"error dequeue: queue sudah kosong sebelumnya\")\n",
        "            return None\n",
        "        else:\n",
        "            output = self.front.data\n",
        "            temp = self.front\n",
        "            self.front = self.front.next\n",
        "            del temp\n",
        "            return output\n",
        "\n",
        "    def print_queue(self):\n",
        "        print(\"front : \", end=\"\")\n",
        "        if self.is_empty():\n",
        "            print(\"(tidak ada data) : rear\")\n",
        "        else:\n",
        "            temp = self.front\n",
        "            while temp != None:\n",
        "                if temp.next != None:\n",
        "                    print(temp.data, end = \" | \")\n",
        "                else:\n",
        "                    print(temp.data, end = \"\")\n",
        "                temp = temp.next\n",
        "            print(\" : rear\")\n",
        "\n",
        "    def print_storage(self):\n",
        "        print (\"front ->\", end =\"\")\n",
        "        if self.is_empty():\n",
        "            print(\" None <- rear\")\n",
        "        else:\n",
        "            temp = self.front\n",
        "            while temp != None:\n",
        "                if temp.next != None:\n",
        "                    print(temp.data, end = \" - > \")\n",
        "                else:\n",
        "                    print(temp.data, end = \" < - \")\n",
        "                temp = temp.next\n",
        "            print(\"rear\")"
      ],
      "metadata": {
        "id": "FyIysodPoj7Y"
      },
      "execution_count": null,
      "outputs": []
    },
    {
      "cell_type": "code",
      "source": [
        "sllinqueue = SLLinQueue()\n",
        "sllinqueue.print_queue()\n",
        "sllinqueue.print_storage()"
      ],
      "metadata": {
        "colab": {
          "base_uri": "https://localhost:8080/"
        },
        "id": "gAD3qC5mpmjt",
        "outputId": "0320dd2d-d97f-4518-e2c4-ee305dac6afb"
      },
      "execution_count": null,
      "outputs": [
        {
          "output_type": "stream",
          "name": "stdout",
          "text": [
            "front : (tidak ada data) : rear\n",
            "front -> None <- rear\n"
          ]
        }
      ]
    },
    {
      "cell_type": "code",
      "source": [
        "sllinqueue.enqueue(10)\n",
        "sllinqueue.print_queue()\n",
        "sllinqueue.print_storage()"
      ],
      "metadata": {
        "colab": {
          "base_uri": "https://localhost:8080/"
        },
        "id": "PxxhpeDGrxbf",
        "outputId": "1ba759ca-1ff7-4727-bebd-10cfa2d3fde4"
      },
      "execution_count": null,
      "outputs": [
        {
          "output_type": "stream",
          "name": "stdout",
          "text": [
            "front : 10 : rear\n",
            "front ->10 < - rear\n"
          ]
        }
      ]
    },
    {
      "cell_type": "code",
      "source": [
        "sllinqueue.enqueue(46)\n",
        "sllinqueue.print_queue()\n",
        "sllinqueue.print_storage()"
      ],
      "metadata": {
        "colab": {
          "base_uri": "https://localhost:8080/"
        },
        "id": "adH1Tx1cr80N",
        "outputId": "8962606d-6c4f-4ab6-ea8d-f82d0a01d2c3"
      },
      "execution_count": null,
      "outputs": [
        {
          "output_type": "stream",
          "name": "stdout",
          "text": [
            "front : 10 | 46 : rear\n",
            "front ->10 - > 46 < - rear\n"
          ]
        }
      ]
    },
    {
      "cell_type": "code",
      "source": [
        "sllinqueue.enqueue(-43)\n",
        "sllinqueue.print_queue()\n",
        "sllinqueue.print_storage()"
      ],
      "metadata": {
        "colab": {
          "base_uri": "https://localhost:8080/"
        },
        "id": "cPHsM7kSsAam",
        "outputId": "a0ed396b-f6ee-474d-9eb4-ea128d34e057"
      },
      "execution_count": null,
      "outputs": [
        {
          "output_type": "stream",
          "name": "stdout",
          "text": [
            "front : 10 | 46 | -43 : rear\n",
            "front ->10 - > 46 - > -43 < - rear\n"
          ]
        }
      ]
    },
    {
      "cell_type": "code",
      "source": [
        "print(sllinqueue.peek())"
      ],
      "metadata": {
        "colab": {
          "base_uri": "https://localhost:8080/"
        },
        "id": "GoucGclssEgG",
        "outputId": "ba3e693f-ba1d-4679-94b6-dc0a684f83a7"
      },
      "execution_count": null,
      "outputs": [
        {
          "output_type": "stream",
          "name": "stdout",
          "text": [
            "10\n"
          ]
        }
      ]
    },
    {
      "cell_type": "code",
      "source": [
        "sllinqueue.print_queue()\n",
        "sllinqueue.print_storage()"
      ],
      "metadata": {
        "colab": {
          "base_uri": "https://localhost:8080/"
        },
        "id": "o-p6JIlWsIQM",
        "outputId": "fb3961be-988f-4159-e12c-901543cacaec"
      },
      "execution_count": null,
      "outputs": [
        {
          "output_type": "stream",
          "name": "stdout",
          "text": [
            "front : 10 | 46 | -43 : rear\n",
            "front ->10 - > 46 - > -43 < - rear\n"
          ]
        }
      ]
    },
    {
      "cell_type": "code",
      "source": [
        "print(sllinqueue.dequeue())"
      ],
      "metadata": {
        "colab": {
          "base_uri": "https://localhost:8080/"
        },
        "id": "-XvDTZNCsPjF",
        "outputId": "fc9ff1ea-0526-44fa-a1d5-83b348af7e1a"
      },
      "execution_count": null,
      "outputs": [
        {
          "output_type": "stream",
          "name": "stdout",
          "text": [
            "10\n"
          ]
        }
      ]
    },
    {
      "cell_type": "code",
      "source": [
        "sllinqueue.print_queue()"
      ],
      "metadata": {
        "colab": {
          "base_uri": "https://localhost:8080/"
        },
        "id": "fUA6HSg9sUNH",
        "outputId": "f3b86ced-06b2-4229-be0f-259d8f33db63"
      },
      "execution_count": null,
      "outputs": [
        {
          "output_type": "stream",
          "name": "stdout",
          "text": [
            "front : 46 | -43 : rear\n"
          ]
        }
      ]
    },
    {
      "cell_type": "code",
      "source": [
        "sllinqueue.print_storage()"
      ],
      "metadata": {
        "colab": {
          "base_uri": "https://localhost:8080/"
        },
        "id": "KABm5dZjsX37",
        "outputId": "678e737b-ae2f-40c3-837f-b5f2c406cf99"
      },
      "execution_count": null,
      "outputs": [
        {
          "output_type": "stream",
          "name": "stdout",
          "text": [
            "front ->46 - > -43 < - rear\n"
          ]
        }
      ]
    },
    {
      "cell_type": "code",
      "source": [],
      "metadata": {
        "id": "ax103prcsaOO"
      },
      "execution_count": null,
      "outputs": []
    }
  ]
}